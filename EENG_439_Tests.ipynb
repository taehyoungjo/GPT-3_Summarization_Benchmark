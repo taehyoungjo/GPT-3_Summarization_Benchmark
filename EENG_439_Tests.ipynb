{
  "nbformat": 4,
  "nbformat_minor": 0,
  "metadata": {
    "colab": {
      "name": "EENG_439_Tests.ipynb",
      "provenance": [],
      "collapsed_sections": []
    },
    "kernelspec": {
      "name": "python3",
      "display_name": "Python 3"
    },
    "widgets": {
      "application/vnd.jupyter.widget-state+json": {
        "57e8b7d79d344da988794720e9963aef": {
          "model_module": "@jupyter-widgets/controls",
          "model_name": "HBoxModel",
          "state": {
            "_view_name": "HBoxView",
            "_dom_classes": [],
            "_model_name": "HBoxModel",
            "_view_module": "@jupyter-widgets/controls",
            "_model_module_version": "1.5.0",
            "_view_count": null,
            "_view_module_version": "1.5.0",
            "box_style": "",
            "layout": "IPY_MODEL_4742702e945446e792ae9cde57f5a75c",
            "_model_module": "@jupyter-widgets/controls",
            "children": [
              "IPY_MODEL_fbe51a623da0465284347a80d99df9a7",
              "IPY_MODEL_995de8a13b2245c6a31d3963631d1c75"
            ]
          }
        },
        "4742702e945446e792ae9cde57f5a75c": {
          "model_module": "@jupyter-widgets/base",
          "model_name": "LayoutModel",
          "state": {
            "_view_name": "LayoutView",
            "grid_template_rows": null,
            "right": null,
            "justify_content": null,
            "_view_module": "@jupyter-widgets/base",
            "overflow": null,
            "_model_module_version": "1.2.0",
            "_view_count": null,
            "flex_flow": null,
            "width": null,
            "min_width": null,
            "border": null,
            "align_items": null,
            "bottom": null,
            "_model_module": "@jupyter-widgets/base",
            "top": null,
            "grid_column": null,
            "overflow_y": null,
            "overflow_x": null,
            "grid_auto_flow": null,
            "grid_area": null,
            "grid_template_columns": null,
            "flex": null,
            "_model_name": "LayoutModel",
            "justify_items": null,
            "grid_row": null,
            "max_height": null,
            "align_content": null,
            "visibility": null,
            "align_self": null,
            "height": null,
            "min_height": null,
            "padding": null,
            "grid_auto_rows": null,
            "grid_gap": null,
            "max_width": null,
            "order": null,
            "_view_module_version": "1.2.0",
            "grid_template_areas": null,
            "object_position": null,
            "object_fit": null,
            "grid_auto_columns": null,
            "margin": null,
            "display": null,
            "left": null
          }
        },
        "fbe51a623da0465284347a80d99df9a7": {
          "model_module": "@jupyter-widgets/controls",
          "model_name": "FloatProgressModel",
          "state": {
            "_view_name": "ProgressView",
            "style": "IPY_MODEL_6d9b4d1487c24a908a34aba2858ae17a",
            "_dom_classes": [],
            "description": "Downloading: ",
            "_model_name": "FloatProgressModel",
            "bar_style": "success",
            "max": 3528,
            "_view_module": "@jupyter-widgets/controls",
            "_model_module_version": "1.5.0",
            "value": 3528,
            "_view_count": null,
            "_view_module_version": "1.5.0",
            "orientation": "horizontal",
            "min": 0,
            "description_tooltip": null,
            "_model_module": "@jupyter-widgets/controls",
            "layout": "IPY_MODEL_772e66e5ca9b4fa38cc9ee8d8731a145"
          }
        },
        "995de8a13b2245c6a31d3963631d1c75": {
          "model_module": "@jupyter-widgets/controls",
          "model_name": "HTMLModel",
          "state": {
            "_view_name": "HTMLView",
            "style": "IPY_MODEL_768abe0ec3844b799691a2afafbb86fd",
            "_dom_classes": [],
            "description": "",
            "_model_name": "HTMLModel",
            "placeholder": "​",
            "_view_module": "@jupyter-widgets/controls",
            "_model_module_version": "1.5.0",
            "value": " 9.38k/? [00:00&lt;00:00, 32.7kB/s]",
            "_view_count": null,
            "_view_module_version": "1.5.0",
            "description_tooltip": null,
            "_model_module": "@jupyter-widgets/controls",
            "layout": "IPY_MODEL_2c4099286a4d462f8ea34fd42cd04ba6"
          }
        },
        "6d9b4d1487c24a908a34aba2858ae17a": {
          "model_module": "@jupyter-widgets/controls",
          "model_name": "ProgressStyleModel",
          "state": {
            "_view_name": "StyleView",
            "_model_name": "ProgressStyleModel",
            "description_width": "initial",
            "_view_module": "@jupyter-widgets/base",
            "_model_module_version": "1.5.0",
            "_view_count": null,
            "_view_module_version": "1.2.0",
            "bar_color": null,
            "_model_module": "@jupyter-widgets/controls"
          }
        },
        "772e66e5ca9b4fa38cc9ee8d8731a145": {
          "model_module": "@jupyter-widgets/base",
          "model_name": "LayoutModel",
          "state": {
            "_view_name": "LayoutView",
            "grid_template_rows": null,
            "right": null,
            "justify_content": null,
            "_view_module": "@jupyter-widgets/base",
            "overflow": null,
            "_model_module_version": "1.2.0",
            "_view_count": null,
            "flex_flow": null,
            "width": null,
            "min_width": null,
            "border": null,
            "align_items": null,
            "bottom": null,
            "_model_module": "@jupyter-widgets/base",
            "top": null,
            "grid_column": null,
            "overflow_y": null,
            "overflow_x": null,
            "grid_auto_flow": null,
            "grid_area": null,
            "grid_template_columns": null,
            "flex": null,
            "_model_name": "LayoutModel",
            "justify_items": null,
            "grid_row": null,
            "max_height": null,
            "align_content": null,
            "visibility": null,
            "align_self": null,
            "height": null,
            "min_height": null,
            "padding": null,
            "grid_auto_rows": null,
            "grid_gap": null,
            "max_width": null,
            "order": null,
            "_view_module_version": "1.2.0",
            "grid_template_areas": null,
            "object_position": null,
            "object_fit": null,
            "grid_auto_columns": null,
            "margin": null,
            "display": null,
            "left": null
          }
        },
        "768abe0ec3844b799691a2afafbb86fd": {
          "model_module": "@jupyter-widgets/controls",
          "model_name": "DescriptionStyleModel",
          "state": {
            "_view_name": "StyleView",
            "_model_name": "DescriptionStyleModel",
            "description_width": "",
            "_view_module": "@jupyter-widgets/base",
            "_model_module_version": "1.5.0",
            "_view_count": null,
            "_view_module_version": "1.2.0",
            "_model_module": "@jupyter-widgets/controls"
          }
        },
        "2c4099286a4d462f8ea34fd42cd04ba6": {
          "model_module": "@jupyter-widgets/base",
          "model_name": "LayoutModel",
          "state": {
            "_view_name": "LayoutView",
            "grid_template_rows": null,
            "right": null,
            "justify_content": null,
            "_view_module": "@jupyter-widgets/base",
            "overflow": null,
            "_model_module_version": "1.2.0",
            "_view_count": null,
            "flex_flow": null,
            "width": null,
            "min_width": null,
            "border": null,
            "align_items": null,
            "bottom": null,
            "_model_module": "@jupyter-widgets/base",
            "top": null,
            "grid_column": null,
            "overflow_y": null,
            "overflow_x": null,
            "grid_auto_flow": null,
            "grid_area": null,
            "grid_template_columns": null,
            "flex": null,
            "_model_name": "LayoutModel",
            "justify_items": null,
            "grid_row": null,
            "max_height": null,
            "align_content": null,
            "visibility": null,
            "align_self": null,
            "height": null,
            "min_height": null,
            "padding": null,
            "grid_auto_rows": null,
            "grid_gap": null,
            "max_width": null,
            "order": null,
            "_view_module_version": "1.2.0",
            "grid_template_areas": null,
            "object_position": null,
            "object_fit": null,
            "grid_auto_columns": null,
            "margin": null,
            "display": null,
            "left": null
          }
        },
        "4b0bd526a0ae47d99d7f806429fc3dcc": {
          "model_module": "@jupyter-widgets/controls",
          "model_name": "HBoxModel",
          "state": {
            "_view_name": "HBoxView",
            "_dom_classes": [],
            "_model_name": "HBoxModel",
            "_view_module": "@jupyter-widgets/controls",
            "_model_module_version": "1.5.0",
            "_view_count": null,
            "_view_module_version": "1.5.0",
            "box_style": "",
            "layout": "IPY_MODEL_6172fe76fe144f7393f286ade99cfeda",
            "_model_module": "@jupyter-widgets/controls",
            "children": [
              "IPY_MODEL_beffdde1f7e04336a21d52100e0691a9",
              "IPY_MODEL_e1480511e6e447cba5987b895df9a3e1"
            ]
          }
        },
        "6172fe76fe144f7393f286ade99cfeda": {
          "model_module": "@jupyter-widgets/base",
          "model_name": "LayoutModel",
          "state": {
            "_view_name": "LayoutView",
            "grid_template_rows": null,
            "right": null,
            "justify_content": null,
            "_view_module": "@jupyter-widgets/base",
            "overflow": null,
            "_model_module_version": "1.2.0",
            "_view_count": null,
            "flex_flow": null,
            "width": null,
            "min_width": null,
            "border": null,
            "align_items": null,
            "bottom": null,
            "_model_module": "@jupyter-widgets/base",
            "top": null,
            "grid_column": null,
            "overflow_y": null,
            "overflow_x": null,
            "grid_auto_flow": null,
            "grid_area": null,
            "grid_template_columns": null,
            "flex": null,
            "_model_name": "LayoutModel",
            "justify_items": null,
            "grid_row": null,
            "max_height": null,
            "align_content": null,
            "visibility": null,
            "align_self": null,
            "height": null,
            "min_height": null,
            "padding": null,
            "grid_auto_rows": null,
            "grid_gap": null,
            "max_width": null,
            "order": null,
            "_view_module_version": "1.2.0",
            "grid_template_areas": null,
            "object_position": null,
            "object_fit": null,
            "grid_auto_columns": null,
            "margin": null,
            "display": null,
            "left": null
          }
        },
        "beffdde1f7e04336a21d52100e0691a9": {
          "model_module": "@jupyter-widgets/controls",
          "model_name": "FloatProgressModel",
          "state": {
            "_view_name": "ProgressView",
            "style": "IPY_MODEL_7fae7645aa22430a95f61d702750bf30",
            "_dom_classes": [],
            "description": "Downloading: ",
            "_model_name": "FloatProgressModel",
            "bar_style": "success",
            "max": 1610,
            "_view_module": "@jupyter-widgets/controls",
            "_model_module_version": "1.5.0",
            "value": 1610,
            "_view_count": null,
            "_view_module_version": "1.5.0",
            "orientation": "horizontal",
            "min": 0,
            "description_tooltip": null,
            "_model_module": "@jupyter-widgets/controls",
            "layout": "IPY_MODEL_60d7ecd205474fb5b1d675d6a1d94d35"
          }
        },
        "e1480511e6e447cba5987b895df9a3e1": {
          "model_module": "@jupyter-widgets/controls",
          "model_name": "HTMLModel",
          "state": {
            "_view_name": "HTMLView",
            "style": "IPY_MODEL_11f64fcd7b15405580e534c1c483f6e8",
            "_dom_classes": [],
            "description": "",
            "_model_name": "HTMLModel",
            "placeholder": "​",
            "_view_module": "@jupyter-widgets/controls",
            "_model_module_version": "1.5.0",
            "value": " 9.50k/? [00:23&lt;00:00, 404B/s]",
            "_view_count": null,
            "_view_module_version": "1.5.0",
            "description_tooltip": null,
            "_model_module": "@jupyter-widgets/controls",
            "layout": "IPY_MODEL_1e6f59514d164a0fad7373567c90b909"
          }
        },
        "7fae7645aa22430a95f61d702750bf30": {
          "model_module": "@jupyter-widgets/controls",
          "model_name": "ProgressStyleModel",
          "state": {
            "_view_name": "StyleView",
            "_model_name": "ProgressStyleModel",
            "description_width": "initial",
            "_view_module": "@jupyter-widgets/base",
            "_model_module_version": "1.5.0",
            "_view_count": null,
            "_view_module_version": "1.2.0",
            "bar_color": null,
            "_model_module": "@jupyter-widgets/controls"
          }
        },
        "60d7ecd205474fb5b1d675d6a1d94d35": {
          "model_module": "@jupyter-widgets/base",
          "model_name": "LayoutModel",
          "state": {
            "_view_name": "LayoutView",
            "grid_template_rows": null,
            "right": null,
            "justify_content": null,
            "_view_module": "@jupyter-widgets/base",
            "overflow": null,
            "_model_module_version": "1.2.0",
            "_view_count": null,
            "flex_flow": null,
            "width": null,
            "min_width": null,
            "border": null,
            "align_items": null,
            "bottom": null,
            "_model_module": "@jupyter-widgets/base",
            "top": null,
            "grid_column": null,
            "overflow_y": null,
            "overflow_x": null,
            "grid_auto_flow": null,
            "grid_area": null,
            "grid_template_columns": null,
            "flex": null,
            "_model_name": "LayoutModel",
            "justify_items": null,
            "grid_row": null,
            "max_height": null,
            "align_content": null,
            "visibility": null,
            "align_self": null,
            "height": null,
            "min_height": null,
            "padding": null,
            "grid_auto_rows": null,
            "grid_gap": null,
            "max_width": null,
            "order": null,
            "_view_module_version": "1.2.0",
            "grid_template_areas": null,
            "object_position": null,
            "object_fit": null,
            "grid_auto_columns": null,
            "margin": null,
            "display": null,
            "left": null
          }
        },
        "11f64fcd7b15405580e534c1c483f6e8": {
          "model_module": "@jupyter-widgets/controls",
          "model_name": "DescriptionStyleModel",
          "state": {
            "_view_name": "StyleView",
            "_model_name": "DescriptionStyleModel",
            "description_width": "",
            "_view_module": "@jupyter-widgets/base",
            "_model_module_version": "1.5.0",
            "_view_count": null,
            "_view_module_version": "1.2.0",
            "_model_module": "@jupyter-widgets/controls"
          }
        },
        "1e6f59514d164a0fad7373567c90b909": {
          "model_module": "@jupyter-widgets/base",
          "model_name": "LayoutModel",
          "state": {
            "_view_name": "LayoutView",
            "grid_template_rows": null,
            "right": null,
            "justify_content": null,
            "_view_module": "@jupyter-widgets/base",
            "overflow": null,
            "_model_module_version": "1.2.0",
            "_view_count": null,
            "flex_flow": null,
            "width": null,
            "min_width": null,
            "border": null,
            "align_items": null,
            "bottom": null,
            "_model_module": "@jupyter-widgets/base",
            "top": null,
            "grid_column": null,
            "overflow_y": null,
            "overflow_x": null,
            "grid_auto_flow": null,
            "grid_area": null,
            "grid_template_columns": null,
            "flex": null,
            "_model_name": "LayoutModel",
            "justify_items": null,
            "grid_row": null,
            "max_height": null,
            "align_content": null,
            "visibility": null,
            "align_self": null,
            "height": null,
            "min_height": null,
            "padding": null,
            "grid_auto_rows": null,
            "grid_gap": null,
            "max_width": null,
            "order": null,
            "_view_module_version": "1.2.0",
            "grid_template_areas": null,
            "object_position": null,
            "object_fit": null,
            "grid_auto_columns": null,
            "margin": null,
            "display": null,
            "left": null
          }
        },
        "18964be39bfb4d40bce3435d673dda1c": {
          "model_module": "@jupyter-widgets/controls",
          "model_name": "HBoxModel",
          "state": {
            "_view_name": "HBoxView",
            "_dom_classes": [],
            "_model_name": "HBoxModel",
            "_view_module": "@jupyter-widgets/controls",
            "_model_module_version": "1.5.0",
            "_view_count": null,
            "_view_module_version": "1.5.0",
            "box_style": "",
            "layout": "IPY_MODEL_5e276a0705a04bc988fa46d6b32c979f",
            "_model_module": "@jupyter-widgets/controls",
            "children": [
              "IPY_MODEL_7cadd7030bbe49899a1e4023be3a9f4c",
              "IPY_MODEL_5e06e94b99c14d4d883c490ab647402f"
            ]
          }
        },
        "5e276a0705a04bc988fa46d6b32c979f": {
          "model_module": "@jupyter-widgets/base",
          "model_name": "LayoutModel",
          "state": {
            "_view_name": "LayoutView",
            "grid_template_rows": null,
            "right": null,
            "justify_content": null,
            "_view_module": "@jupyter-widgets/base",
            "overflow": null,
            "_model_module_version": "1.2.0",
            "_view_count": null,
            "flex_flow": null,
            "width": null,
            "min_width": null,
            "border": null,
            "align_items": null,
            "bottom": null,
            "_model_module": "@jupyter-widgets/base",
            "top": null,
            "grid_column": null,
            "overflow_y": null,
            "overflow_x": null,
            "grid_auto_flow": null,
            "grid_area": null,
            "grid_template_columns": null,
            "flex": null,
            "_model_name": "LayoutModel",
            "justify_items": null,
            "grid_row": null,
            "max_height": null,
            "align_content": null,
            "visibility": null,
            "align_self": null,
            "height": null,
            "min_height": null,
            "padding": null,
            "grid_auto_rows": null,
            "grid_gap": null,
            "max_width": null,
            "order": null,
            "_view_module_version": "1.2.0",
            "grid_template_areas": null,
            "object_position": null,
            "object_fit": null,
            "grid_auto_columns": null,
            "margin": null,
            "display": null,
            "left": null
          }
        },
        "7cadd7030bbe49899a1e4023be3a9f4c": {
          "model_module": "@jupyter-widgets/controls",
          "model_name": "FloatProgressModel",
          "state": {
            "_view_name": "ProgressView",
            "style": "IPY_MODEL_d3e3639ef9ce4b0c96df0ce6217fdf19",
            "_dom_classes": [],
            "description": "Downloading: ",
            "_model_name": "FloatProgressModel",
            "bar_style": "success",
            "max": 1,
            "_view_module": "@jupyter-widgets/controls",
            "_model_module_version": "1.5.0",
            "value": 1,
            "_view_count": null,
            "_view_module_version": "1.5.0",
            "orientation": "horizontal",
            "min": 0,
            "description_tooltip": null,
            "_model_module": "@jupyter-widgets/controls",
            "layout": "IPY_MODEL_25982c5689424564ba969e1e973d489f"
          }
        },
        "5e06e94b99c14d4d883c490ab647402f": {
          "model_module": "@jupyter-widgets/controls",
          "model_name": "HTMLModel",
          "state": {
            "_view_name": "HTMLView",
            "style": "IPY_MODEL_a0d462f0f5fd4766aa2c95caf9e57667",
            "_dom_classes": [],
            "description": "",
            "_model_name": "HTMLModel",
            "placeholder": "​",
            "_view_module": "@jupyter-widgets/controls",
            "_model_module_version": "1.5.0",
            "value": " 159M/? [00:02&lt;00:00, 70.5MB/s]",
            "_view_count": null,
            "_view_module_version": "1.5.0",
            "description_tooltip": null,
            "_model_module": "@jupyter-widgets/controls",
            "layout": "IPY_MODEL_0839fdc483354882b116a2387abea8b9"
          }
        },
        "d3e3639ef9ce4b0c96df0ce6217fdf19": {
          "model_module": "@jupyter-widgets/controls",
          "model_name": "ProgressStyleModel",
          "state": {
            "_view_name": "StyleView",
            "_model_name": "ProgressStyleModel",
            "description_width": "initial",
            "_view_module": "@jupyter-widgets/base",
            "_model_module_version": "1.5.0",
            "_view_count": null,
            "_view_module_version": "1.2.0",
            "bar_color": null,
            "_model_module": "@jupyter-widgets/controls"
          }
        },
        "25982c5689424564ba969e1e973d489f": {
          "model_module": "@jupyter-widgets/base",
          "model_name": "LayoutModel",
          "state": {
            "_view_name": "LayoutView",
            "grid_template_rows": null,
            "right": null,
            "justify_content": null,
            "_view_module": "@jupyter-widgets/base",
            "overflow": null,
            "_model_module_version": "1.2.0",
            "_view_count": null,
            "flex_flow": null,
            "width": null,
            "min_width": null,
            "border": null,
            "align_items": null,
            "bottom": null,
            "_model_module": "@jupyter-widgets/base",
            "top": null,
            "grid_column": null,
            "overflow_y": null,
            "overflow_x": null,
            "grid_auto_flow": null,
            "grid_area": null,
            "grid_template_columns": null,
            "flex": null,
            "_model_name": "LayoutModel",
            "justify_items": null,
            "grid_row": null,
            "max_height": null,
            "align_content": null,
            "visibility": null,
            "align_self": null,
            "height": null,
            "min_height": null,
            "padding": null,
            "grid_auto_rows": null,
            "grid_gap": null,
            "max_width": null,
            "order": null,
            "_view_module_version": "1.2.0",
            "grid_template_areas": null,
            "object_position": null,
            "object_fit": null,
            "grid_auto_columns": null,
            "margin": null,
            "display": null,
            "left": null
          }
        },
        "a0d462f0f5fd4766aa2c95caf9e57667": {
          "model_module": "@jupyter-widgets/controls",
          "model_name": "DescriptionStyleModel",
          "state": {
            "_view_name": "StyleView",
            "_model_name": "DescriptionStyleModel",
            "description_width": "",
            "_view_module": "@jupyter-widgets/base",
            "_model_module_version": "1.5.0",
            "_view_count": null,
            "_view_module_version": "1.2.0",
            "_model_module": "@jupyter-widgets/controls"
          }
        },
        "0839fdc483354882b116a2387abea8b9": {
          "model_module": "@jupyter-widgets/base",
          "model_name": "LayoutModel",
          "state": {
            "_view_name": "LayoutView",
            "grid_template_rows": null,
            "right": null,
            "justify_content": null,
            "_view_module": "@jupyter-widgets/base",
            "overflow": null,
            "_model_module_version": "1.2.0",
            "_view_count": null,
            "flex_flow": null,
            "width": null,
            "min_width": null,
            "border": null,
            "align_items": null,
            "bottom": null,
            "_model_module": "@jupyter-widgets/base",
            "top": null,
            "grid_column": null,
            "overflow_y": null,
            "overflow_x": null,
            "grid_auto_flow": null,
            "grid_area": null,
            "grid_template_columns": null,
            "flex": null,
            "_model_name": "LayoutModel",
            "justify_items": null,
            "grid_row": null,
            "max_height": null,
            "align_content": null,
            "visibility": null,
            "align_self": null,
            "height": null,
            "min_height": null,
            "padding": null,
            "grid_auto_rows": null,
            "grid_gap": null,
            "max_width": null,
            "order": null,
            "_view_module_version": "1.2.0",
            "grid_template_areas": null,
            "object_position": null,
            "object_fit": null,
            "grid_auto_columns": null,
            "margin": null,
            "display": null,
            "left": null
          }
        },
        "0aa52403b5ed4cc2b372786bd7b2c16c": {
          "model_module": "@jupyter-widgets/controls",
          "model_name": "HBoxModel",
          "state": {
            "_view_name": "HBoxView",
            "_dom_classes": [],
            "_model_name": "HBoxModel",
            "_view_module": "@jupyter-widgets/controls",
            "_model_module_version": "1.5.0",
            "_view_count": null,
            "_view_module_version": "1.5.0",
            "box_style": "",
            "layout": "IPY_MODEL_44579f9103f34df5a0337a36585daf67",
            "_model_module": "@jupyter-widgets/controls",
            "children": [
              "IPY_MODEL_39c439d69fd54238a476adfbb95523e9",
              "IPY_MODEL_17ec9e39324a4378b86890c2a18ec7ee"
            ]
          }
        },
        "44579f9103f34df5a0337a36585daf67": {
          "model_module": "@jupyter-widgets/base",
          "model_name": "LayoutModel",
          "state": {
            "_view_name": "LayoutView",
            "grid_template_rows": null,
            "right": null,
            "justify_content": null,
            "_view_module": "@jupyter-widgets/base",
            "overflow": null,
            "_model_module_version": "1.2.0",
            "_view_count": null,
            "flex_flow": null,
            "width": null,
            "min_width": null,
            "border": null,
            "align_items": null,
            "bottom": null,
            "_model_module": "@jupyter-widgets/base",
            "top": null,
            "grid_column": null,
            "overflow_y": null,
            "overflow_x": null,
            "grid_auto_flow": null,
            "grid_area": null,
            "grid_template_columns": null,
            "flex": null,
            "_model_name": "LayoutModel",
            "justify_items": null,
            "grid_row": null,
            "max_height": null,
            "align_content": null,
            "visibility": null,
            "align_self": null,
            "height": null,
            "min_height": null,
            "padding": null,
            "grid_auto_rows": null,
            "grid_gap": null,
            "max_width": null,
            "order": null,
            "_view_module_version": "1.2.0",
            "grid_template_areas": null,
            "object_position": null,
            "object_fit": null,
            "grid_auto_columns": null,
            "margin": null,
            "display": null,
            "left": null
          }
        },
        "39c439d69fd54238a476adfbb95523e9": {
          "model_module": "@jupyter-widgets/controls",
          "model_name": "FloatProgressModel",
          "state": {
            "_view_name": "ProgressView",
            "style": "IPY_MODEL_8ee1aaab950e4a6cb75def14b21cbf77",
            "_dom_classes": [],
            "description": "Downloading: ",
            "_model_name": "FloatProgressModel",
            "bar_style": "success",
            "max": 1,
            "_view_module": "@jupyter-widgets/controls",
            "_model_module_version": "1.5.0",
            "value": 1,
            "_view_count": null,
            "_view_module_version": "1.5.0",
            "orientation": "horizontal",
            "min": 0,
            "description_tooltip": null,
            "_model_module": "@jupyter-widgets/controls",
            "layout": "IPY_MODEL_f1eeb10a06fe4f35a91b42f2b04fd5d2"
          }
        },
        "17ec9e39324a4378b86890c2a18ec7ee": {
          "model_module": "@jupyter-widgets/controls",
          "model_name": "HTMLModel",
          "state": {
            "_view_name": "HTMLView",
            "style": "IPY_MODEL_a6a67f2027d3474ba7822d9c19718012",
            "_dom_classes": [],
            "description": "",
            "_model_name": "HTMLModel",
            "placeholder": "​",
            "_view_module": "@jupyter-widgets/controls",
            "_model_module_version": "1.5.0",
            "value": " 376M/? [00:05&lt;00:00, 65.2MB/s]",
            "_view_count": null,
            "_view_module_version": "1.5.0",
            "description_tooltip": null,
            "_model_module": "@jupyter-widgets/controls",
            "layout": "IPY_MODEL_d9289cfe812c4f6787f80f2307d98dd4"
          }
        },
        "8ee1aaab950e4a6cb75def14b21cbf77": {
          "model_module": "@jupyter-widgets/controls",
          "model_name": "ProgressStyleModel",
          "state": {
            "_view_name": "StyleView",
            "_model_name": "ProgressStyleModel",
            "description_width": "initial",
            "_view_module": "@jupyter-widgets/base",
            "_model_module_version": "1.5.0",
            "_view_count": null,
            "_view_module_version": "1.2.0",
            "bar_color": null,
            "_model_module": "@jupyter-widgets/controls"
          }
        },
        "f1eeb10a06fe4f35a91b42f2b04fd5d2": {
          "model_module": "@jupyter-widgets/base",
          "model_name": "LayoutModel",
          "state": {
            "_view_name": "LayoutView",
            "grid_template_rows": null,
            "right": null,
            "justify_content": null,
            "_view_module": "@jupyter-widgets/base",
            "overflow": null,
            "_model_module_version": "1.2.0",
            "_view_count": null,
            "flex_flow": null,
            "width": null,
            "min_width": null,
            "border": null,
            "align_items": null,
            "bottom": null,
            "_model_module": "@jupyter-widgets/base",
            "top": null,
            "grid_column": null,
            "overflow_y": null,
            "overflow_x": null,
            "grid_auto_flow": null,
            "grid_area": null,
            "grid_template_columns": null,
            "flex": null,
            "_model_name": "LayoutModel",
            "justify_items": null,
            "grid_row": null,
            "max_height": null,
            "align_content": null,
            "visibility": null,
            "align_self": null,
            "height": null,
            "min_height": null,
            "padding": null,
            "grid_auto_rows": null,
            "grid_gap": null,
            "max_width": null,
            "order": null,
            "_view_module_version": "1.2.0",
            "grid_template_areas": null,
            "object_position": null,
            "object_fit": null,
            "grid_auto_columns": null,
            "margin": null,
            "display": null,
            "left": null
          }
        },
        "a6a67f2027d3474ba7822d9c19718012": {
          "model_module": "@jupyter-widgets/controls",
          "model_name": "DescriptionStyleModel",
          "state": {
            "_view_name": "StyleView",
            "_model_name": "DescriptionStyleModel",
            "description_width": "",
            "_view_module": "@jupyter-widgets/base",
            "_model_module_version": "1.5.0",
            "_view_count": null,
            "_view_module_version": "1.2.0",
            "_model_module": "@jupyter-widgets/controls"
          }
        },
        "d9289cfe812c4f6787f80f2307d98dd4": {
          "model_module": "@jupyter-widgets/base",
          "model_name": "LayoutModel",
          "state": {
            "_view_name": "LayoutView",
            "grid_template_rows": null,
            "right": null,
            "justify_content": null,
            "_view_module": "@jupyter-widgets/base",
            "overflow": null,
            "_model_module_version": "1.2.0",
            "_view_count": null,
            "flex_flow": null,
            "width": null,
            "min_width": null,
            "border": null,
            "align_items": null,
            "bottom": null,
            "_model_module": "@jupyter-widgets/base",
            "top": null,
            "grid_column": null,
            "overflow_y": null,
            "overflow_x": null,
            "grid_auto_flow": null,
            "grid_area": null,
            "grid_template_columns": null,
            "flex": null,
            "_model_name": "LayoutModel",
            "justify_items": null,
            "grid_row": null,
            "max_height": null,
            "align_content": null,
            "visibility": null,
            "align_self": null,
            "height": null,
            "min_height": null,
            "padding": null,
            "grid_auto_rows": null,
            "grid_gap": null,
            "max_width": null,
            "order": null,
            "_view_module_version": "1.2.0",
            "grid_template_areas": null,
            "object_position": null,
            "object_fit": null,
            "grid_auto_columns": null,
            "margin": null,
            "display": null,
            "left": null
          }
        },
        "dd192775ab1e42b29876fc072eae654d": {
          "model_module": "@jupyter-widgets/controls",
          "model_name": "HBoxModel",
          "state": {
            "_view_name": "HBoxView",
            "_dom_classes": [],
            "_model_name": "HBoxModel",
            "_view_module": "@jupyter-widgets/controls",
            "_model_module_version": "1.5.0",
            "_view_count": null,
            "_view_module_version": "1.5.0",
            "box_style": "",
            "layout": "IPY_MODEL_db27f4fae34f4f2fa20b285eea984bd3",
            "_model_module": "@jupyter-widgets/controls",
            "children": [
              "IPY_MODEL_280ed699286c45bab0e576c252dd79da",
              "IPY_MODEL_96b0ed2ea80a41c3aa19038fbe542a14"
            ]
          }
        },
        "db27f4fae34f4f2fa20b285eea984bd3": {
          "model_module": "@jupyter-widgets/base",
          "model_name": "LayoutModel",
          "state": {
            "_view_name": "LayoutView",
            "grid_template_rows": null,
            "right": null,
            "justify_content": null,
            "_view_module": "@jupyter-widgets/base",
            "overflow": null,
            "_model_module_version": "1.2.0",
            "_view_count": null,
            "flex_flow": null,
            "width": null,
            "min_width": null,
            "border": null,
            "align_items": null,
            "bottom": null,
            "_model_module": "@jupyter-widgets/base",
            "top": null,
            "grid_column": null,
            "overflow_y": null,
            "overflow_x": null,
            "grid_auto_flow": null,
            "grid_area": null,
            "grid_template_columns": null,
            "flex": null,
            "_model_name": "LayoutModel",
            "justify_items": null,
            "grid_row": null,
            "max_height": null,
            "align_content": null,
            "visibility": null,
            "align_self": null,
            "height": null,
            "min_height": null,
            "padding": null,
            "grid_auto_rows": null,
            "grid_gap": null,
            "max_width": null,
            "order": null,
            "_view_module_version": "1.2.0",
            "grid_template_areas": null,
            "object_position": null,
            "object_fit": null,
            "grid_auto_columns": null,
            "margin": null,
            "display": null,
            "left": null
          }
        },
        "280ed699286c45bab0e576c252dd79da": {
          "model_module": "@jupyter-widgets/controls",
          "model_name": "FloatProgressModel",
          "state": {
            "_view_name": "ProgressView",
            "style": "IPY_MODEL_5598e43f0b8b48a98ebbeb4c6ec14d4d",
            "_dom_classes": [],
            "description": "Downloading: ",
            "_model_name": "FloatProgressModel",
            "bar_style": "success",
            "max": 572061,
            "_view_module": "@jupyter-widgets/controls",
            "_model_module_version": "1.5.0",
            "value": 572061,
            "_view_count": null,
            "_view_module_version": "1.5.0",
            "orientation": "horizontal",
            "min": 0,
            "description_tooltip": null,
            "_model_module": "@jupyter-widgets/controls",
            "layout": "IPY_MODEL_e91efee5e61f4ada8aad6f87d0856bb1"
          }
        },
        "96b0ed2ea80a41c3aa19038fbe542a14": {
          "model_module": "@jupyter-widgets/controls",
          "model_name": "HTMLModel",
          "state": {
            "_view_name": "HTMLView",
            "style": "IPY_MODEL_aa888385554f461c9183bc1f8d8c3377",
            "_dom_classes": [],
            "description": "",
            "_model_name": "HTMLModel",
            "placeholder": "​",
            "_view_module": "@jupyter-widgets/controls",
            "_model_module_version": "1.5.0",
            "value": " 2.11M/? [00:01&lt;00:00, 1.36MB/s]",
            "_view_count": null,
            "_view_module_version": "1.5.0",
            "description_tooltip": null,
            "_model_module": "@jupyter-widgets/controls",
            "layout": "IPY_MODEL_b9278d296c2e4863b231265c351fff26"
          }
        },
        "5598e43f0b8b48a98ebbeb4c6ec14d4d": {
          "model_module": "@jupyter-widgets/controls",
          "model_name": "ProgressStyleModel",
          "state": {
            "_view_name": "StyleView",
            "_model_name": "ProgressStyleModel",
            "description_width": "initial",
            "_view_module": "@jupyter-widgets/base",
            "_model_module_version": "1.5.0",
            "_view_count": null,
            "_view_module_version": "1.2.0",
            "bar_color": null,
            "_model_module": "@jupyter-widgets/controls"
          }
        },
        "e91efee5e61f4ada8aad6f87d0856bb1": {
          "model_module": "@jupyter-widgets/base",
          "model_name": "LayoutModel",
          "state": {
            "_view_name": "LayoutView",
            "grid_template_rows": null,
            "right": null,
            "justify_content": null,
            "_view_module": "@jupyter-widgets/base",
            "overflow": null,
            "_model_module_version": "1.2.0",
            "_view_count": null,
            "flex_flow": null,
            "width": null,
            "min_width": null,
            "border": null,
            "align_items": null,
            "bottom": null,
            "_model_module": "@jupyter-widgets/base",
            "top": null,
            "grid_column": null,
            "overflow_y": null,
            "overflow_x": null,
            "grid_auto_flow": null,
            "grid_area": null,
            "grid_template_columns": null,
            "flex": null,
            "_model_name": "LayoutModel",
            "justify_items": null,
            "grid_row": null,
            "max_height": null,
            "align_content": null,
            "visibility": null,
            "align_self": null,
            "height": null,
            "min_height": null,
            "padding": null,
            "grid_auto_rows": null,
            "grid_gap": null,
            "max_width": null,
            "order": null,
            "_view_module_version": "1.2.0",
            "grid_template_areas": null,
            "object_position": null,
            "object_fit": null,
            "grid_auto_columns": null,
            "margin": null,
            "display": null,
            "left": null
          }
        },
        "aa888385554f461c9183bc1f8d8c3377": {
          "model_module": "@jupyter-widgets/controls",
          "model_name": "DescriptionStyleModel",
          "state": {
            "_view_name": "StyleView",
            "_model_name": "DescriptionStyleModel",
            "description_width": "",
            "_view_module": "@jupyter-widgets/base",
            "_model_module_version": "1.5.0",
            "_view_count": null,
            "_view_module_version": "1.2.0",
            "_model_module": "@jupyter-widgets/controls"
          }
        },
        "b9278d296c2e4863b231265c351fff26": {
          "model_module": "@jupyter-widgets/base",
          "model_name": "LayoutModel",
          "state": {
            "_view_name": "LayoutView",
            "grid_template_rows": null,
            "right": null,
            "justify_content": null,
            "_view_module": "@jupyter-widgets/base",
            "overflow": null,
            "_model_module_version": "1.2.0",
            "_view_count": null,
            "flex_flow": null,
            "width": null,
            "min_width": null,
            "border": null,
            "align_items": null,
            "bottom": null,
            "_model_module": "@jupyter-widgets/base",
            "top": null,
            "grid_column": null,
            "overflow_y": null,
            "overflow_x": null,
            "grid_auto_flow": null,
            "grid_area": null,
            "grid_template_columns": null,
            "flex": null,
            "_model_name": "LayoutModel",
            "justify_items": null,
            "grid_row": null,
            "max_height": null,
            "align_content": null,
            "visibility": null,
            "align_self": null,
            "height": null,
            "min_height": null,
            "padding": null,
            "grid_auto_rows": null,
            "grid_gap": null,
            "max_width": null,
            "order": null,
            "_view_module_version": "1.2.0",
            "grid_template_areas": null,
            "object_position": null,
            "object_fit": null,
            "grid_auto_columns": null,
            "margin": null,
            "display": null,
            "left": null
          }
        },
        "c0e5e9cbd5934ee5bb177989b6f78684": {
          "model_module": "@jupyter-widgets/controls",
          "model_name": "HBoxModel",
          "state": {
            "_view_name": "HBoxView",
            "_dom_classes": [],
            "_model_name": "HBoxModel",
            "_view_module": "@jupyter-widgets/controls",
            "_model_module_version": "1.5.0",
            "_view_count": null,
            "_view_module_version": "1.5.0",
            "box_style": "",
            "layout": "IPY_MODEL_293c63759d26402faca00d676f0e9ebb",
            "_model_module": "@jupyter-widgets/controls",
            "children": [
              "IPY_MODEL_fc38fb1b8f714ae6b4bca0fb00191119",
              "IPY_MODEL_27284bc0824c40cba98c8f57a9959ccc"
            ]
          }
        },
        "293c63759d26402faca00d676f0e9ebb": {
          "model_module": "@jupyter-widgets/base",
          "model_name": "LayoutModel",
          "state": {
            "_view_name": "LayoutView",
            "grid_template_rows": null,
            "right": null,
            "justify_content": null,
            "_view_module": "@jupyter-widgets/base",
            "overflow": null,
            "_model_module_version": "1.2.0",
            "_view_count": null,
            "flex_flow": null,
            "width": null,
            "min_width": null,
            "border": null,
            "align_items": null,
            "bottom": null,
            "_model_module": "@jupyter-widgets/base",
            "top": null,
            "grid_column": null,
            "overflow_y": null,
            "overflow_x": null,
            "grid_auto_flow": null,
            "grid_area": null,
            "grid_template_columns": null,
            "flex": null,
            "_model_name": "LayoutModel",
            "justify_items": null,
            "grid_row": null,
            "max_height": null,
            "align_content": null,
            "visibility": null,
            "align_self": null,
            "height": null,
            "min_height": null,
            "padding": null,
            "grid_auto_rows": null,
            "grid_gap": null,
            "max_width": null,
            "order": null,
            "_view_module_version": "1.2.0",
            "grid_template_areas": null,
            "object_position": null,
            "object_fit": null,
            "grid_auto_columns": null,
            "margin": null,
            "display": null,
            "left": null
          }
        },
        "fc38fb1b8f714ae6b4bca0fb00191119": {
          "model_module": "@jupyter-widgets/controls",
          "model_name": "FloatProgressModel",
          "state": {
            "_view_name": "ProgressView",
            "style": "IPY_MODEL_c4bf03379d954a0dac9724bafcc9cd50",
            "_dom_classes": [],
            "description": "Downloading: ",
            "_model_name": "FloatProgressModel",
            "bar_style": "success",
            "max": 12259516,
            "_view_module": "@jupyter-widgets/controls",
            "_model_module_version": "1.5.0",
            "value": 12259516,
            "_view_count": null,
            "_view_module_version": "1.5.0",
            "orientation": "horizontal",
            "min": 0,
            "description_tooltip": null,
            "_model_module": "@jupyter-widgets/controls",
            "layout": "IPY_MODEL_fcb36962d6b842c0af448e5fc75b30c2"
          }
        },
        "27284bc0824c40cba98c8f57a9959ccc": {
          "model_module": "@jupyter-widgets/controls",
          "model_name": "HTMLModel",
          "state": {
            "_view_name": "HTMLView",
            "style": "IPY_MODEL_bc2460485a97426a846f294a87852430",
            "_dom_classes": [],
            "description": "",
            "_model_name": "HTMLModel",
            "placeholder": "​",
            "_view_module": "@jupyter-widgets/controls",
            "_model_module_version": "1.5.0",
            "value": " 46.4M/? [00:01&lt;00:00, 46.0MB/s]",
            "_view_count": null,
            "_view_module_version": "1.5.0",
            "description_tooltip": null,
            "_model_module": "@jupyter-widgets/controls",
            "layout": "IPY_MODEL_b618e40b599c4bcfb6a37c2c1272df85"
          }
        },
        "c4bf03379d954a0dac9724bafcc9cd50": {
          "model_module": "@jupyter-widgets/controls",
          "model_name": "ProgressStyleModel",
          "state": {
            "_view_name": "StyleView",
            "_model_name": "ProgressStyleModel",
            "description_width": "initial",
            "_view_module": "@jupyter-widgets/base",
            "_model_module_version": "1.5.0",
            "_view_count": null,
            "_view_module_version": "1.2.0",
            "bar_color": null,
            "_model_module": "@jupyter-widgets/controls"
          }
        },
        "fcb36962d6b842c0af448e5fc75b30c2": {
          "model_module": "@jupyter-widgets/base",
          "model_name": "LayoutModel",
          "state": {
            "_view_name": "LayoutView",
            "grid_template_rows": null,
            "right": null,
            "justify_content": null,
            "_view_module": "@jupyter-widgets/base",
            "overflow": null,
            "_model_module_version": "1.2.0",
            "_view_count": null,
            "flex_flow": null,
            "width": null,
            "min_width": null,
            "border": null,
            "align_items": null,
            "bottom": null,
            "_model_module": "@jupyter-widgets/base",
            "top": null,
            "grid_column": null,
            "overflow_y": null,
            "overflow_x": null,
            "grid_auto_flow": null,
            "grid_area": null,
            "grid_template_columns": null,
            "flex": null,
            "_model_name": "LayoutModel",
            "justify_items": null,
            "grid_row": null,
            "max_height": null,
            "align_content": null,
            "visibility": null,
            "align_self": null,
            "height": null,
            "min_height": null,
            "padding": null,
            "grid_auto_rows": null,
            "grid_gap": null,
            "max_width": null,
            "order": null,
            "_view_module_version": "1.2.0",
            "grid_template_areas": null,
            "object_position": null,
            "object_fit": null,
            "grid_auto_columns": null,
            "margin": null,
            "display": null,
            "left": null
          }
        },
        "bc2460485a97426a846f294a87852430": {
          "model_module": "@jupyter-widgets/controls",
          "model_name": "DescriptionStyleModel",
          "state": {
            "_view_name": "StyleView",
            "_model_name": "DescriptionStyleModel",
            "description_width": "",
            "_view_module": "@jupyter-widgets/base",
            "_model_module_version": "1.5.0",
            "_view_count": null,
            "_view_module_version": "1.2.0",
            "_model_module": "@jupyter-widgets/controls"
          }
        },
        "b618e40b599c4bcfb6a37c2c1272df85": {
          "model_module": "@jupyter-widgets/base",
          "model_name": "LayoutModel",
          "state": {
            "_view_name": "LayoutView",
            "grid_template_rows": null,
            "right": null,
            "justify_content": null,
            "_view_module": "@jupyter-widgets/base",
            "overflow": null,
            "_model_module_version": "1.2.0",
            "_view_count": null,
            "flex_flow": null,
            "width": null,
            "min_width": null,
            "border": null,
            "align_items": null,
            "bottom": null,
            "_model_module": "@jupyter-widgets/base",
            "top": null,
            "grid_column": null,
            "overflow_y": null,
            "overflow_x": null,
            "grid_auto_flow": null,
            "grid_area": null,
            "grid_template_columns": null,
            "flex": null,
            "_model_name": "LayoutModel",
            "justify_items": null,
            "grid_row": null,
            "max_height": null,
            "align_content": null,
            "visibility": null,
            "align_self": null,
            "height": null,
            "min_height": null,
            "padding": null,
            "grid_auto_rows": null,
            "grid_gap": null,
            "max_width": null,
            "order": null,
            "_view_module_version": "1.2.0",
            "grid_template_areas": null,
            "object_position": null,
            "object_fit": null,
            "grid_auto_columns": null,
            "margin": null,
            "display": null,
            "left": null
          }
        },
        "d7758ca05f2c49288d66547800195cae": {
          "model_module": "@jupyter-widgets/controls",
          "model_name": "HBoxModel",
          "state": {
            "_view_name": "HBoxView",
            "_dom_classes": [],
            "_model_name": "HBoxModel",
            "_view_module": "@jupyter-widgets/controls",
            "_model_module_version": "1.5.0",
            "_view_count": null,
            "_view_module_version": "1.5.0",
            "box_style": "",
            "layout": "IPY_MODEL_00f2df1f5ae54ce581fd47a9719fc858",
            "_model_module": "@jupyter-widgets/controls",
            "children": [
              "IPY_MODEL_b5784fd4fd694d7189c9303737ea80cb",
              "IPY_MODEL_82e68a74f0ac49c8aa7cf3729fbc5bd2"
            ]
          }
        },
        "00f2df1f5ae54ce581fd47a9719fc858": {
          "model_module": "@jupyter-widgets/base",
          "model_name": "LayoutModel",
          "state": {
            "_view_name": "LayoutView",
            "grid_template_rows": null,
            "right": null,
            "justify_content": null,
            "_view_module": "@jupyter-widgets/base",
            "overflow": null,
            "_model_module_version": "1.2.0",
            "_view_count": null,
            "flex_flow": null,
            "width": null,
            "min_width": null,
            "border": null,
            "align_items": null,
            "bottom": null,
            "_model_module": "@jupyter-widgets/base",
            "top": null,
            "grid_column": null,
            "overflow_y": null,
            "overflow_x": null,
            "grid_auto_flow": null,
            "grid_area": null,
            "grid_template_columns": null,
            "flex": null,
            "_model_name": "LayoutModel",
            "justify_items": null,
            "grid_row": null,
            "max_height": null,
            "align_content": null,
            "visibility": null,
            "align_self": null,
            "height": null,
            "min_height": null,
            "padding": null,
            "grid_auto_rows": null,
            "grid_gap": null,
            "max_width": null,
            "order": null,
            "_view_module_version": "1.2.0",
            "grid_template_areas": null,
            "object_position": null,
            "object_fit": null,
            "grid_auto_columns": null,
            "margin": null,
            "display": null,
            "left": null
          }
        },
        "b5784fd4fd694d7189c9303737ea80cb": {
          "model_module": "@jupyter-widgets/controls",
          "model_name": "FloatProgressModel",
          "state": {
            "_view_name": "ProgressView",
            "style": "IPY_MODEL_2cb77f172fb340eaaf7e491401b1fbf4",
            "_dom_classes": [],
            "description": "Downloading: ",
            "_model_name": "FloatProgressModel",
            "bar_style": "success",
            "max": 660943,
            "_view_module": "@jupyter-widgets/controls",
            "_model_module_version": "1.5.0",
            "value": 660943,
            "_view_count": null,
            "_view_module_version": "1.5.0",
            "orientation": "horizontal",
            "min": 0,
            "description_tooltip": null,
            "_model_module": "@jupyter-widgets/controls",
            "layout": "IPY_MODEL_4427628bd9244b5ba66fb2c1ef1cc490"
          }
        },
        "82e68a74f0ac49c8aa7cf3729fbc5bd2": {
          "model_module": "@jupyter-widgets/controls",
          "model_name": "HTMLModel",
          "state": {
            "_view_name": "HTMLView",
            "style": "IPY_MODEL_b60cc07614394b3389596e24eb99ee32",
            "_dom_classes": [],
            "description": "",
            "_model_name": "HTMLModel",
            "placeholder": "​",
            "_view_module": "@jupyter-widgets/controls",
            "_model_module_version": "1.5.0",
            "value": " 2.43M/? [00:02&lt;00:00, 827kB/s]",
            "_view_count": null,
            "_view_module_version": "1.5.0",
            "description_tooltip": null,
            "_model_module": "@jupyter-widgets/controls",
            "layout": "IPY_MODEL_ad5383d32c7c44ddbd66a3a49703183a"
          }
        },
        "2cb77f172fb340eaaf7e491401b1fbf4": {
          "model_module": "@jupyter-widgets/controls",
          "model_name": "ProgressStyleModel",
          "state": {
            "_view_name": "StyleView",
            "_model_name": "ProgressStyleModel",
            "description_width": "initial",
            "_view_module": "@jupyter-widgets/base",
            "_model_module_version": "1.5.0",
            "_view_count": null,
            "_view_module_version": "1.2.0",
            "bar_color": null,
            "_model_module": "@jupyter-widgets/controls"
          }
        },
        "4427628bd9244b5ba66fb2c1ef1cc490": {
          "model_module": "@jupyter-widgets/base",
          "model_name": "LayoutModel",
          "state": {
            "_view_name": "LayoutView",
            "grid_template_rows": null,
            "right": null,
            "justify_content": null,
            "_view_module": "@jupyter-widgets/base",
            "overflow": null,
            "_model_module_version": "1.2.0",
            "_view_count": null,
            "flex_flow": null,
            "width": null,
            "min_width": null,
            "border": null,
            "align_items": null,
            "bottom": null,
            "_model_module": "@jupyter-widgets/base",
            "top": null,
            "grid_column": null,
            "overflow_y": null,
            "overflow_x": null,
            "grid_auto_flow": null,
            "grid_area": null,
            "grid_template_columns": null,
            "flex": null,
            "_model_name": "LayoutModel",
            "justify_items": null,
            "grid_row": null,
            "max_height": null,
            "align_content": null,
            "visibility": null,
            "align_self": null,
            "height": null,
            "min_height": null,
            "padding": null,
            "grid_auto_rows": null,
            "grid_gap": null,
            "max_width": null,
            "order": null,
            "_view_module_version": "1.2.0",
            "grid_template_areas": null,
            "object_position": null,
            "object_fit": null,
            "grid_auto_columns": null,
            "margin": null,
            "display": null,
            "left": null
          }
        },
        "b60cc07614394b3389596e24eb99ee32": {
          "model_module": "@jupyter-widgets/controls",
          "model_name": "DescriptionStyleModel",
          "state": {
            "_view_name": "StyleView",
            "_model_name": "DescriptionStyleModel",
            "description_width": "",
            "_view_module": "@jupyter-widgets/base",
            "_model_module_version": "1.5.0",
            "_view_count": null,
            "_view_module_version": "1.2.0",
            "_model_module": "@jupyter-widgets/controls"
          }
        },
        "ad5383d32c7c44ddbd66a3a49703183a": {
          "model_module": "@jupyter-widgets/base",
          "model_name": "LayoutModel",
          "state": {
            "_view_name": "LayoutView",
            "grid_template_rows": null,
            "right": null,
            "justify_content": null,
            "_view_module": "@jupyter-widgets/base",
            "overflow": null,
            "_model_module_version": "1.2.0",
            "_view_count": null,
            "flex_flow": null,
            "width": null,
            "min_width": null,
            "border": null,
            "align_items": null,
            "bottom": null,
            "_model_module": "@jupyter-widgets/base",
            "top": null,
            "grid_column": null,
            "overflow_y": null,
            "overflow_x": null,
            "grid_auto_flow": null,
            "grid_area": null,
            "grid_template_columns": null,
            "flex": null,
            "_model_name": "LayoutModel",
            "justify_items": null,
            "grid_row": null,
            "max_height": null,
            "align_content": null,
            "visibility": null,
            "align_self": null,
            "height": null,
            "min_height": null,
            "padding": null,
            "grid_auto_rows": null,
            "grid_gap": null,
            "max_width": null,
            "order": null,
            "_view_module_version": "1.2.0",
            "grid_template_areas": null,
            "object_position": null,
            "object_fit": null,
            "grid_auto_columns": null,
            "margin": null,
            "display": null,
            "left": null
          }
        },
        "ab6407e5f8b94381bf4ff58a8bba3bfc": {
          "model_module": "@jupyter-widgets/controls",
          "model_name": "HBoxModel",
          "state": {
            "_view_name": "HBoxView",
            "_dom_classes": [],
            "_model_name": "HBoxModel",
            "_view_module": "@jupyter-widgets/controls",
            "_model_module_version": "1.5.0",
            "_view_count": null,
            "_view_module_version": "1.5.0",
            "box_style": "",
            "layout": "IPY_MODEL_ceca6a9dc84f401bbaea7d7b8308d75d",
            "_model_module": "@jupyter-widgets/controls",
            "children": [
              "IPY_MODEL_361f6f823cc3404a92067e4e386cf4f0",
              "IPY_MODEL_361ec555220147139fff4c95ce0846cb"
            ]
          }
        },
        "ceca6a9dc84f401bbaea7d7b8308d75d": {
          "model_module": "@jupyter-widgets/base",
          "model_name": "LayoutModel",
          "state": {
            "_view_name": "LayoutView",
            "grid_template_rows": null,
            "right": null,
            "justify_content": null,
            "_view_module": "@jupyter-widgets/base",
            "overflow": null,
            "_model_module_version": "1.2.0",
            "_view_count": null,
            "flex_flow": null,
            "width": null,
            "min_width": null,
            "border": null,
            "align_items": null,
            "bottom": null,
            "_model_module": "@jupyter-widgets/base",
            "top": null,
            "grid_column": null,
            "overflow_y": null,
            "overflow_x": null,
            "grid_auto_flow": null,
            "grid_area": null,
            "grid_template_columns": null,
            "flex": null,
            "_model_name": "LayoutModel",
            "justify_items": null,
            "grid_row": null,
            "max_height": null,
            "align_content": null,
            "visibility": null,
            "align_self": null,
            "height": null,
            "min_height": null,
            "padding": null,
            "grid_auto_rows": null,
            "grid_gap": null,
            "max_width": null,
            "order": null,
            "_view_module_version": "1.2.0",
            "grid_template_areas": null,
            "object_position": null,
            "object_fit": null,
            "grid_auto_columns": null,
            "margin": null,
            "display": null,
            "left": null
          }
        },
        "361f6f823cc3404a92067e4e386cf4f0": {
          "model_module": "@jupyter-widgets/controls",
          "model_name": "FloatProgressModel",
          "state": {
            "_view_name": "ProgressView",
            "style": "IPY_MODEL_d17772d31a0f458d9fdb363e14c0c764",
            "_dom_classes": [],
            "description": "",
            "_model_name": "FloatProgressModel",
            "bar_style": "info",
            "max": 1,
            "_view_module": "@jupyter-widgets/controls",
            "_model_module_version": "1.5.0",
            "value": 1,
            "_view_count": null,
            "_view_module_version": "1.5.0",
            "orientation": "horizontal",
            "min": 0,
            "description_tooltip": null,
            "_model_module": "@jupyter-widgets/controls",
            "layout": "IPY_MODEL_127fe984a45149999e6aba076a78a22d"
          }
        },
        "361ec555220147139fff4c95ce0846cb": {
          "model_module": "@jupyter-widgets/controls",
          "model_name": "HTMLModel",
          "state": {
            "_view_name": "HTMLView",
            "style": "IPY_MODEL_70cb4bac6d7d4fc089898f9334f93555",
            "_dom_classes": [],
            "description": "",
            "_model_name": "HTMLModel",
            "placeholder": "​",
            "_view_module": "@jupyter-widgets/controls",
            "_model_module_version": "1.5.0",
            "value": " 287113/0 [00:49&lt;00:00, 6310.67 examples/s]",
            "_view_count": null,
            "_view_module_version": "1.5.0",
            "description_tooltip": null,
            "_model_module": "@jupyter-widgets/controls",
            "layout": "IPY_MODEL_3479828364ce4f759d8dd9d81d879580"
          }
        },
        "d17772d31a0f458d9fdb363e14c0c764": {
          "model_module": "@jupyter-widgets/controls",
          "model_name": "ProgressStyleModel",
          "state": {
            "_view_name": "StyleView",
            "_model_name": "ProgressStyleModel",
            "description_width": "initial",
            "_view_module": "@jupyter-widgets/base",
            "_model_module_version": "1.5.0",
            "_view_count": null,
            "_view_module_version": "1.2.0",
            "bar_color": null,
            "_model_module": "@jupyter-widgets/controls"
          }
        },
        "127fe984a45149999e6aba076a78a22d": {
          "model_module": "@jupyter-widgets/base",
          "model_name": "LayoutModel",
          "state": {
            "_view_name": "LayoutView",
            "grid_template_rows": null,
            "right": null,
            "justify_content": null,
            "_view_module": "@jupyter-widgets/base",
            "overflow": null,
            "_model_module_version": "1.2.0",
            "_view_count": null,
            "flex_flow": null,
            "width": null,
            "min_width": null,
            "border": null,
            "align_items": null,
            "bottom": null,
            "_model_module": "@jupyter-widgets/base",
            "top": null,
            "grid_column": null,
            "overflow_y": null,
            "overflow_x": null,
            "grid_auto_flow": null,
            "grid_area": null,
            "grid_template_columns": null,
            "flex": null,
            "_model_name": "LayoutModel",
            "justify_items": null,
            "grid_row": null,
            "max_height": null,
            "align_content": null,
            "visibility": null,
            "align_self": null,
            "height": null,
            "min_height": null,
            "padding": null,
            "grid_auto_rows": null,
            "grid_gap": null,
            "max_width": null,
            "order": null,
            "_view_module_version": "1.2.0",
            "grid_template_areas": null,
            "object_position": null,
            "object_fit": null,
            "grid_auto_columns": null,
            "margin": null,
            "display": null,
            "left": null
          }
        },
        "70cb4bac6d7d4fc089898f9334f93555": {
          "model_module": "@jupyter-widgets/controls",
          "model_name": "DescriptionStyleModel",
          "state": {
            "_view_name": "StyleView",
            "_model_name": "DescriptionStyleModel",
            "description_width": "",
            "_view_module": "@jupyter-widgets/base",
            "_model_module_version": "1.5.0",
            "_view_count": null,
            "_view_module_version": "1.2.0",
            "_model_module": "@jupyter-widgets/controls"
          }
        },
        "3479828364ce4f759d8dd9d81d879580": {
          "model_module": "@jupyter-widgets/base",
          "model_name": "LayoutModel",
          "state": {
            "_view_name": "LayoutView",
            "grid_template_rows": null,
            "right": null,
            "justify_content": null,
            "_view_module": "@jupyter-widgets/base",
            "overflow": null,
            "_model_module_version": "1.2.0",
            "_view_count": null,
            "flex_flow": null,
            "width": null,
            "min_width": null,
            "border": null,
            "align_items": null,
            "bottom": null,
            "_model_module": "@jupyter-widgets/base",
            "top": null,
            "grid_column": null,
            "overflow_y": null,
            "overflow_x": null,
            "grid_auto_flow": null,
            "grid_area": null,
            "grid_template_columns": null,
            "flex": null,
            "_model_name": "LayoutModel",
            "justify_items": null,
            "grid_row": null,
            "max_height": null,
            "align_content": null,
            "visibility": null,
            "align_self": null,
            "height": null,
            "min_height": null,
            "padding": null,
            "grid_auto_rows": null,
            "grid_gap": null,
            "max_width": null,
            "order": null,
            "_view_module_version": "1.2.0",
            "grid_template_areas": null,
            "object_position": null,
            "object_fit": null,
            "grid_auto_columns": null,
            "margin": null,
            "display": null,
            "left": null
          }
        },
        "02ecb75edf93462d934aac1eee71c173": {
          "model_module": "@jupyter-widgets/controls",
          "model_name": "HBoxModel",
          "state": {
            "_view_name": "HBoxView",
            "_dom_classes": [],
            "_model_name": "HBoxModel",
            "_view_module": "@jupyter-widgets/controls",
            "_model_module_version": "1.5.0",
            "_view_count": null,
            "_view_module_version": "1.5.0",
            "box_style": "",
            "layout": "IPY_MODEL_d4120d39bf3c417093db301bed3f594a",
            "_model_module": "@jupyter-widgets/controls",
            "children": [
              "IPY_MODEL_22e57ac58e96445c846f0db95611ff93",
              "IPY_MODEL_d3fc8e1083fe4226abc8f651ac69ed1e"
            ]
          }
        },
        "d4120d39bf3c417093db301bed3f594a": {
          "model_module": "@jupyter-widgets/base",
          "model_name": "LayoutModel",
          "state": {
            "_view_name": "LayoutView",
            "grid_template_rows": null,
            "right": null,
            "justify_content": null,
            "_view_module": "@jupyter-widgets/base",
            "overflow": null,
            "_model_module_version": "1.2.0",
            "_view_count": null,
            "flex_flow": null,
            "width": null,
            "min_width": null,
            "border": null,
            "align_items": null,
            "bottom": null,
            "_model_module": "@jupyter-widgets/base",
            "top": null,
            "grid_column": null,
            "overflow_y": null,
            "overflow_x": null,
            "grid_auto_flow": null,
            "grid_area": null,
            "grid_template_columns": null,
            "flex": null,
            "_model_name": "LayoutModel",
            "justify_items": null,
            "grid_row": null,
            "max_height": null,
            "align_content": null,
            "visibility": null,
            "align_self": null,
            "height": null,
            "min_height": null,
            "padding": null,
            "grid_auto_rows": null,
            "grid_gap": null,
            "max_width": null,
            "order": null,
            "_view_module_version": "1.2.0",
            "grid_template_areas": null,
            "object_position": null,
            "object_fit": null,
            "grid_auto_columns": null,
            "margin": null,
            "display": null,
            "left": null
          }
        },
        "22e57ac58e96445c846f0db95611ff93": {
          "model_module": "@jupyter-widgets/controls",
          "model_name": "FloatProgressModel",
          "state": {
            "_view_name": "ProgressView",
            "style": "IPY_MODEL_57590c92baf3439597518d8c3e417990",
            "_dom_classes": [],
            "description": "",
            "_model_name": "FloatProgressModel",
            "bar_style": "info",
            "max": 1,
            "_view_module": "@jupyter-widgets/controls",
            "_model_module_version": "1.5.0",
            "value": 1,
            "_view_count": null,
            "_view_module_version": "1.5.0",
            "orientation": "horizontal",
            "min": 0,
            "description_tooltip": null,
            "_model_module": "@jupyter-widgets/controls",
            "layout": "IPY_MODEL_67de3fcf226947ba829fa9b5f9a01e79"
          }
        },
        "d3fc8e1083fe4226abc8f651ac69ed1e": {
          "model_module": "@jupyter-widgets/controls",
          "model_name": "HTMLModel",
          "state": {
            "_view_name": "HTMLView",
            "style": "IPY_MODEL_3c950b23da3543c8b1bd0ca602eae037",
            "_dom_classes": [],
            "description": "",
            "_model_name": "HTMLModel",
            "placeholder": "​",
            "_view_module": "@jupyter-widgets/controls",
            "_model_module_version": "1.5.0",
            "value": " 13368/0 [00:02&lt;00:00, 5510.37 examples/s]",
            "_view_count": null,
            "_view_module_version": "1.5.0",
            "description_tooltip": null,
            "_model_module": "@jupyter-widgets/controls",
            "layout": "IPY_MODEL_5db05c5b92db42f3a2d19a9bb9c4e133"
          }
        },
        "57590c92baf3439597518d8c3e417990": {
          "model_module": "@jupyter-widgets/controls",
          "model_name": "ProgressStyleModel",
          "state": {
            "_view_name": "StyleView",
            "_model_name": "ProgressStyleModel",
            "description_width": "initial",
            "_view_module": "@jupyter-widgets/base",
            "_model_module_version": "1.5.0",
            "_view_count": null,
            "_view_module_version": "1.2.0",
            "bar_color": null,
            "_model_module": "@jupyter-widgets/controls"
          }
        },
        "67de3fcf226947ba829fa9b5f9a01e79": {
          "model_module": "@jupyter-widgets/base",
          "model_name": "LayoutModel",
          "state": {
            "_view_name": "LayoutView",
            "grid_template_rows": null,
            "right": null,
            "justify_content": null,
            "_view_module": "@jupyter-widgets/base",
            "overflow": null,
            "_model_module_version": "1.2.0",
            "_view_count": null,
            "flex_flow": null,
            "width": null,
            "min_width": null,
            "border": null,
            "align_items": null,
            "bottom": null,
            "_model_module": "@jupyter-widgets/base",
            "top": null,
            "grid_column": null,
            "overflow_y": null,
            "overflow_x": null,
            "grid_auto_flow": null,
            "grid_area": null,
            "grid_template_columns": null,
            "flex": null,
            "_model_name": "LayoutModel",
            "justify_items": null,
            "grid_row": null,
            "max_height": null,
            "align_content": null,
            "visibility": null,
            "align_self": null,
            "height": null,
            "min_height": null,
            "padding": null,
            "grid_auto_rows": null,
            "grid_gap": null,
            "max_width": null,
            "order": null,
            "_view_module_version": "1.2.0",
            "grid_template_areas": null,
            "object_position": null,
            "object_fit": null,
            "grid_auto_columns": null,
            "margin": null,
            "display": null,
            "left": null
          }
        },
        "3c950b23da3543c8b1bd0ca602eae037": {
          "model_module": "@jupyter-widgets/controls",
          "model_name": "DescriptionStyleModel",
          "state": {
            "_view_name": "StyleView",
            "_model_name": "DescriptionStyleModel",
            "description_width": "",
            "_view_module": "@jupyter-widgets/base",
            "_model_module_version": "1.5.0",
            "_view_count": null,
            "_view_module_version": "1.2.0",
            "_model_module": "@jupyter-widgets/controls"
          }
        },
        "5db05c5b92db42f3a2d19a9bb9c4e133": {
          "model_module": "@jupyter-widgets/base",
          "model_name": "LayoutModel",
          "state": {
            "_view_name": "LayoutView",
            "grid_template_rows": null,
            "right": null,
            "justify_content": null,
            "_view_module": "@jupyter-widgets/base",
            "overflow": null,
            "_model_module_version": "1.2.0",
            "_view_count": null,
            "flex_flow": null,
            "width": null,
            "min_width": null,
            "border": null,
            "align_items": null,
            "bottom": null,
            "_model_module": "@jupyter-widgets/base",
            "top": null,
            "grid_column": null,
            "overflow_y": null,
            "overflow_x": null,
            "grid_auto_flow": null,
            "grid_area": null,
            "grid_template_columns": null,
            "flex": null,
            "_model_name": "LayoutModel",
            "justify_items": null,
            "grid_row": null,
            "max_height": null,
            "align_content": null,
            "visibility": null,
            "align_self": null,
            "height": null,
            "min_height": null,
            "padding": null,
            "grid_auto_rows": null,
            "grid_gap": null,
            "max_width": null,
            "order": null,
            "_view_module_version": "1.2.0",
            "grid_template_areas": null,
            "object_position": null,
            "object_fit": null,
            "grid_auto_columns": null,
            "margin": null,
            "display": null,
            "left": null
          }
        },
        "0882e8ba83fd468f878eb0cb04e02f99": {
          "model_module": "@jupyter-widgets/controls",
          "model_name": "HBoxModel",
          "state": {
            "_view_name": "HBoxView",
            "_dom_classes": [],
            "_model_name": "HBoxModel",
            "_view_module": "@jupyter-widgets/controls",
            "_model_module_version": "1.5.0",
            "_view_count": null,
            "_view_module_version": "1.5.0",
            "box_style": "",
            "layout": "IPY_MODEL_05e18a9b250749639aa80a322cf2f544",
            "_model_module": "@jupyter-widgets/controls",
            "children": [
              "IPY_MODEL_e04db48932e84455b0a41b6d82a668e4",
              "IPY_MODEL_d0a82e57c4624483be55ccaa42f01b6e"
            ]
          }
        },
        "05e18a9b250749639aa80a322cf2f544": {
          "model_module": "@jupyter-widgets/base",
          "model_name": "LayoutModel",
          "state": {
            "_view_name": "LayoutView",
            "grid_template_rows": null,
            "right": null,
            "justify_content": null,
            "_view_module": "@jupyter-widgets/base",
            "overflow": null,
            "_model_module_version": "1.2.0",
            "_view_count": null,
            "flex_flow": null,
            "width": null,
            "min_width": null,
            "border": null,
            "align_items": null,
            "bottom": null,
            "_model_module": "@jupyter-widgets/base",
            "top": null,
            "grid_column": null,
            "overflow_y": null,
            "overflow_x": null,
            "grid_auto_flow": null,
            "grid_area": null,
            "grid_template_columns": null,
            "flex": null,
            "_model_name": "LayoutModel",
            "justify_items": null,
            "grid_row": null,
            "max_height": null,
            "align_content": null,
            "visibility": null,
            "align_self": null,
            "height": null,
            "min_height": null,
            "padding": null,
            "grid_auto_rows": null,
            "grid_gap": null,
            "max_width": null,
            "order": null,
            "_view_module_version": "1.2.0",
            "grid_template_areas": null,
            "object_position": null,
            "object_fit": null,
            "grid_auto_columns": null,
            "margin": null,
            "display": null,
            "left": null
          }
        },
        "e04db48932e84455b0a41b6d82a668e4": {
          "model_module": "@jupyter-widgets/controls",
          "model_name": "FloatProgressModel",
          "state": {
            "_view_name": "ProgressView",
            "style": "IPY_MODEL_d357218f42434a1f93782b18ce69b7df",
            "_dom_classes": [],
            "description": "",
            "_model_name": "FloatProgressModel",
            "bar_style": "info",
            "max": 1,
            "_view_module": "@jupyter-widgets/controls",
            "_model_module_version": "1.5.0",
            "value": 1,
            "_view_count": null,
            "_view_module_version": "1.5.0",
            "orientation": "horizontal",
            "min": 0,
            "description_tooltip": null,
            "_model_module": "@jupyter-widgets/controls",
            "layout": "IPY_MODEL_c5371cdf8d8f43d88cedf89e02dc3000"
          }
        },
        "d0a82e57c4624483be55ccaa42f01b6e": {
          "model_module": "@jupyter-widgets/controls",
          "model_name": "HTMLModel",
          "state": {
            "_view_name": "HTMLView",
            "style": "IPY_MODEL_90893edc3b9c4eb6b797e88806f3114b",
            "_dom_classes": [],
            "description": "",
            "_model_name": "HTMLModel",
            "placeholder": "​",
            "_view_module": "@jupyter-widgets/controls",
            "_model_module_version": "1.5.0",
            "value": " 11490/0 [00:02&lt;00:00, 4562.75 examples/s]",
            "_view_count": null,
            "_view_module_version": "1.5.0",
            "description_tooltip": null,
            "_model_module": "@jupyter-widgets/controls",
            "layout": "IPY_MODEL_b1f46be3a978416d856706f93578a632"
          }
        },
        "d357218f42434a1f93782b18ce69b7df": {
          "model_module": "@jupyter-widgets/controls",
          "model_name": "ProgressStyleModel",
          "state": {
            "_view_name": "StyleView",
            "_model_name": "ProgressStyleModel",
            "description_width": "initial",
            "_view_module": "@jupyter-widgets/base",
            "_model_module_version": "1.5.0",
            "_view_count": null,
            "_view_module_version": "1.2.0",
            "bar_color": null,
            "_model_module": "@jupyter-widgets/controls"
          }
        },
        "c5371cdf8d8f43d88cedf89e02dc3000": {
          "model_module": "@jupyter-widgets/base",
          "model_name": "LayoutModel",
          "state": {
            "_view_name": "LayoutView",
            "grid_template_rows": null,
            "right": null,
            "justify_content": null,
            "_view_module": "@jupyter-widgets/base",
            "overflow": null,
            "_model_module_version": "1.2.0",
            "_view_count": null,
            "flex_flow": null,
            "width": null,
            "min_width": null,
            "border": null,
            "align_items": null,
            "bottom": null,
            "_model_module": "@jupyter-widgets/base",
            "top": null,
            "grid_column": null,
            "overflow_y": null,
            "overflow_x": null,
            "grid_auto_flow": null,
            "grid_area": null,
            "grid_template_columns": null,
            "flex": null,
            "_model_name": "LayoutModel",
            "justify_items": null,
            "grid_row": null,
            "max_height": null,
            "align_content": null,
            "visibility": null,
            "align_self": null,
            "height": null,
            "min_height": null,
            "padding": null,
            "grid_auto_rows": null,
            "grid_gap": null,
            "max_width": null,
            "order": null,
            "_view_module_version": "1.2.0",
            "grid_template_areas": null,
            "object_position": null,
            "object_fit": null,
            "grid_auto_columns": null,
            "margin": null,
            "display": null,
            "left": null
          }
        },
        "90893edc3b9c4eb6b797e88806f3114b": {
          "model_module": "@jupyter-widgets/controls",
          "model_name": "DescriptionStyleModel",
          "state": {
            "_view_name": "StyleView",
            "_model_name": "DescriptionStyleModel",
            "description_width": "",
            "_view_module": "@jupyter-widgets/base",
            "_model_module_version": "1.5.0",
            "_view_count": null,
            "_view_module_version": "1.2.0",
            "_model_module": "@jupyter-widgets/controls"
          }
        },
        "b1f46be3a978416d856706f93578a632": {
          "model_module": "@jupyter-widgets/base",
          "model_name": "LayoutModel",
          "state": {
            "_view_name": "LayoutView",
            "grid_template_rows": null,
            "right": null,
            "justify_content": null,
            "_view_module": "@jupyter-widgets/base",
            "overflow": null,
            "_model_module_version": "1.2.0",
            "_view_count": null,
            "flex_flow": null,
            "width": null,
            "min_width": null,
            "border": null,
            "align_items": null,
            "bottom": null,
            "_model_module": "@jupyter-widgets/base",
            "top": null,
            "grid_column": null,
            "overflow_y": null,
            "overflow_x": null,
            "grid_auto_flow": null,
            "grid_area": null,
            "grid_template_columns": null,
            "flex": null,
            "_model_name": "LayoutModel",
            "justify_items": null,
            "grid_row": null,
            "max_height": null,
            "align_content": null,
            "visibility": null,
            "align_self": null,
            "height": null,
            "min_height": null,
            "padding": null,
            "grid_auto_rows": null,
            "grid_gap": null,
            "max_width": null,
            "order": null,
            "_view_module_version": "1.2.0",
            "grid_template_areas": null,
            "object_position": null,
            "object_fit": null,
            "grid_auto_columns": null,
            "margin": null,
            "display": null,
            "left": null
          }
        },
        "d494a3e4ec5544dd9ab2b9d7eccd1ad4": {
          "model_module": "@jupyter-widgets/controls",
          "model_name": "HBoxModel",
          "state": {
            "_view_name": "HBoxView",
            "_dom_classes": [],
            "_model_name": "HBoxModel",
            "_view_module": "@jupyter-widgets/controls",
            "_model_module_version": "1.5.0",
            "_view_count": null,
            "_view_module_version": "1.5.0",
            "box_style": "",
            "layout": "IPY_MODEL_7b4623db03ad442db6f0c86b8360e1e5",
            "_model_module": "@jupyter-widgets/controls",
            "children": [
              "IPY_MODEL_2bd96ac34ebe48ad8ea6e3549226c5e4",
              "IPY_MODEL_3d30a933da354196b4373a84b8c2ff3e"
            ]
          }
        },
        "7b4623db03ad442db6f0c86b8360e1e5": {
          "model_module": "@jupyter-widgets/base",
          "model_name": "LayoutModel",
          "state": {
            "_view_name": "LayoutView",
            "grid_template_rows": null,
            "right": null,
            "justify_content": null,
            "_view_module": "@jupyter-widgets/base",
            "overflow": null,
            "_model_module_version": "1.2.0",
            "_view_count": null,
            "flex_flow": null,
            "width": null,
            "min_width": null,
            "border": null,
            "align_items": null,
            "bottom": null,
            "_model_module": "@jupyter-widgets/base",
            "top": null,
            "grid_column": null,
            "overflow_y": null,
            "overflow_x": null,
            "grid_auto_flow": null,
            "grid_area": null,
            "grid_template_columns": null,
            "flex": null,
            "_model_name": "LayoutModel",
            "justify_items": null,
            "grid_row": null,
            "max_height": null,
            "align_content": null,
            "visibility": null,
            "align_self": null,
            "height": null,
            "min_height": null,
            "padding": null,
            "grid_auto_rows": null,
            "grid_gap": null,
            "max_width": null,
            "order": null,
            "_view_module_version": "1.2.0",
            "grid_template_areas": null,
            "object_position": null,
            "object_fit": null,
            "grid_auto_columns": null,
            "margin": null,
            "display": null,
            "left": null
          }
        },
        "2bd96ac34ebe48ad8ea6e3549226c5e4": {
          "model_module": "@jupyter-widgets/controls",
          "model_name": "FloatProgressModel",
          "state": {
            "_view_name": "ProgressView",
            "style": "IPY_MODEL_777daba690ee4ed286302c91c42ae1e5",
            "_dom_classes": [],
            "description": "Downloading: ",
            "_model_name": "FloatProgressModel",
            "bar_style": "success",
            "max": 1853,
            "_view_module": "@jupyter-widgets/controls",
            "_model_module_version": "1.5.0",
            "value": 1853,
            "_view_count": null,
            "_view_module_version": "1.5.0",
            "orientation": "horizontal",
            "min": 0,
            "description_tooltip": null,
            "_model_module": "@jupyter-widgets/controls",
            "layout": "IPY_MODEL_2537242d69064cab9616b5505873ec5e"
          }
        },
        "3d30a933da354196b4373a84b8c2ff3e": {
          "model_module": "@jupyter-widgets/controls",
          "model_name": "HTMLModel",
          "state": {
            "_view_name": "HTMLView",
            "style": "IPY_MODEL_772c448d0bee49b1b1c1d3dc34056edc",
            "_dom_classes": [],
            "description": "",
            "_model_name": "HTMLModel",
            "placeholder": "​",
            "_view_module": "@jupyter-widgets/controls",
            "_model_module_version": "1.5.0",
            "value": " 4.46k/? [00:00&lt;00:00, 13.0kB/s]",
            "_view_count": null,
            "_view_module_version": "1.5.0",
            "description_tooltip": null,
            "_model_module": "@jupyter-widgets/controls",
            "layout": "IPY_MODEL_06b2be399cc349eebdff15c350d43695"
          }
        },
        "777daba690ee4ed286302c91c42ae1e5": {
          "model_module": "@jupyter-widgets/controls",
          "model_name": "ProgressStyleModel",
          "state": {
            "_view_name": "StyleView",
            "_model_name": "ProgressStyleModel",
            "description_width": "initial",
            "_view_module": "@jupyter-widgets/base",
            "_model_module_version": "1.5.0",
            "_view_count": null,
            "_view_module_version": "1.2.0",
            "bar_color": null,
            "_model_module": "@jupyter-widgets/controls"
          }
        },
        "2537242d69064cab9616b5505873ec5e": {
          "model_module": "@jupyter-widgets/base",
          "model_name": "LayoutModel",
          "state": {
            "_view_name": "LayoutView",
            "grid_template_rows": null,
            "right": null,
            "justify_content": null,
            "_view_module": "@jupyter-widgets/base",
            "overflow": null,
            "_model_module_version": "1.2.0",
            "_view_count": null,
            "flex_flow": null,
            "width": null,
            "min_width": null,
            "border": null,
            "align_items": null,
            "bottom": null,
            "_model_module": "@jupyter-widgets/base",
            "top": null,
            "grid_column": null,
            "overflow_y": null,
            "overflow_x": null,
            "grid_auto_flow": null,
            "grid_area": null,
            "grid_template_columns": null,
            "flex": null,
            "_model_name": "LayoutModel",
            "justify_items": null,
            "grid_row": null,
            "max_height": null,
            "align_content": null,
            "visibility": null,
            "align_self": null,
            "height": null,
            "min_height": null,
            "padding": null,
            "grid_auto_rows": null,
            "grid_gap": null,
            "max_width": null,
            "order": null,
            "_view_module_version": "1.2.0",
            "grid_template_areas": null,
            "object_position": null,
            "object_fit": null,
            "grid_auto_columns": null,
            "margin": null,
            "display": null,
            "left": null
          }
        },
        "772c448d0bee49b1b1c1d3dc34056edc": {
          "model_module": "@jupyter-widgets/controls",
          "model_name": "DescriptionStyleModel",
          "state": {
            "_view_name": "StyleView",
            "_model_name": "DescriptionStyleModel",
            "description_width": "",
            "_view_module": "@jupyter-widgets/base",
            "_model_module_version": "1.5.0",
            "_view_count": null,
            "_view_module_version": "1.2.0",
            "_model_module": "@jupyter-widgets/controls"
          }
        },
        "06b2be399cc349eebdff15c350d43695": {
          "model_module": "@jupyter-widgets/base",
          "model_name": "LayoutModel",
          "state": {
            "_view_name": "LayoutView",
            "grid_template_rows": null,
            "right": null,
            "justify_content": null,
            "_view_module": "@jupyter-widgets/base",
            "overflow": null,
            "_model_module_version": "1.2.0",
            "_view_count": null,
            "flex_flow": null,
            "width": null,
            "min_width": null,
            "border": null,
            "align_items": null,
            "bottom": null,
            "_model_module": "@jupyter-widgets/base",
            "top": null,
            "grid_column": null,
            "overflow_y": null,
            "overflow_x": null,
            "grid_auto_flow": null,
            "grid_area": null,
            "grid_template_columns": null,
            "flex": null,
            "_model_name": "LayoutModel",
            "justify_items": null,
            "grid_row": null,
            "max_height": null,
            "align_content": null,
            "visibility": null,
            "align_self": null,
            "height": null,
            "min_height": null,
            "padding": null,
            "grid_auto_rows": null,
            "grid_gap": null,
            "max_width": null,
            "order": null,
            "_view_module_version": "1.2.0",
            "grid_template_areas": null,
            "object_position": null,
            "object_fit": null,
            "grid_auto_columns": null,
            "margin": null,
            "display": null,
            "left": null
          }
        },
        "85736193dd5849459f761ca6fe2e5f24": {
          "model_module": "@jupyter-widgets/controls",
          "model_name": "HBoxModel",
          "state": {
            "_view_name": "HBoxView",
            "_dom_classes": [],
            "_model_name": "HBoxModel",
            "_view_module": "@jupyter-widgets/controls",
            "_model_module_version": "1.5.0",
            "_view_count": null,
            "_view_module_version": "1.5.0",
            "box_style": "",
            "layout": "IPY_MODEL_0f1450d9aee6438ab9944ea0fcb73eca",
            "_model_module": "@jupyter-widgets/controls",
            "children": [
              "IPY_MODEL_7d17f88adcc24c4882f8b9892572f53d",
              "IPY_MODEL_59597c01e4d7469fa0c14f049eea80b3"
            ]
          }
        },
        "0f1450d9aee6438ab9944ea0fcb73eca": {
          "model_module": "@jupyter-widgets/base",
          "model_name": "LayoutModel",
          "state": {
            "_view_name": "LayoutView",
            "grid_template_rows": null,
            "right": null,
            "justify_content": null,
            "_view_module": "@jupyter-widgets/base",
            "overflow": null,
            "_model_module_version": "1.2.0",
            "_view_count": null,
            "flex_flow": null,
            "width": null,
            "min_width": null,
            "border": null,
            "align_items": null,
            "bottom": null,
            "_model_module": "@jupyter-widgets/base",
            "top": null,
            "grid_column": null,
            "overflow_y": null,
            "overflow_x": null,
            "grid_auto_flow": null,
            "grid_area": null,
            "grid_template_columns": null,
            "flex": null,
            "_model_name": "LayoutModel",
            "justify_items": null,
            "grid_row": null,
            "max_height": null,
            "align_content": null,
            "visibility": null,
            "align_self": null,
            "height": null,
            "min_height": null,
            "padding": null,
            "grid_auto_rows": null,
            "grid_gap": null,
            "max_width": null,
            "order": null,
            "_view_module_version": "1.2.0",
            "grid_template_areas": null,
            "object_position": null,
            "object_fit": null,
            "grid_auto_columns": null,
            "margin": null,
            "display": null,
            "left": null
          }
        },
        "7d17f88adcc24c4882f8b9892572f53d": {
          "model_module": "@jupyter-widgets/controls",
          "model_name": "FloatProgressModel",
          "state": {
            "_view_name": "ProgressView",
            "style": "IPY_MODEL_04138779f9bb468ea78a2e5a5c2fc2a0",
            "_dom_classes": [],
            "description": "Downloading: ",
            "_model_name": "FloatProgressModel",
            "bar_style": "success",
            "max": 1099,
            "_view_module": "@jupyter-widgets/controls",
            "_model_module_version": "1.5.0",
            "value": 1099,
            "_view_count": null,
            "_view_module_version": "1.5.0",
            "orientation": "horizontal",
            "min": 0,
            "description_tooltip": null,
            "_model_module": "@jupyter-widgets/controls",
            "layout": "IPY_MODEL_f1ea10d024bd4feea207b7dd0b09e7b9"
          }
        },
        "59597c01e4d7469fa0c14f049eea80b3": {
          "model_module": "@jupyter-widgets/controls",
          "model_name": "HTMLModel",
          "state": {
            "_view_name": "HTMLView",
            "style": "IPY_MODEL_e9899b87573548bf836af0d1c4b5c90e",
            "_dom_classes": [],
            "description": "",
            "_model_name": "HTMLModel",
            "placeholder": "​",
            "_view_module": "@jupyter-widgets/controls",
            "_model_module_version": "1.5.0",
            "value": " 2.16k/? [00:00&lt;00:00, 33.0kB/s]",
            "_view_count": null,
            "_view_module_version": "1.5.0",
            "description_tooltip": null,
            "_model_module": "@jupyter-widgets/controls",
            "layout": "IPY_MODEL_b9c163bf1a034c9b9799b36b8ae45ed9"
          }
        },
        "04138779f9bb468ea78a2e5a5c2fc2a0": {
          "model_module": "@jupyter-widgets/controls",
          "model_name": "ProgressStyleModel",
          "state": {
            "_view_name": "StyleView",
            "_model_name": "ProgressStyleModel",
            "description_width": "initial",
            "_view_module": "@jupyter-widgets/base",
            "_model_module_version": "1.5.0",
            "_view_count": null,
            "_view_module_version": "1.2.0",
            "bar_color": null,
            "_model_module": "@jupyter-widgets/controls"
          }
        },
        "f1ea10d024bd4feea207b7dd0b09e7b9": {
          "model_module": "@jupyter-widgets/base",
          "model_name": "LayoutModel",
          "state": {
            "_view_name": "LayoutView",
            "grid_template_rows": null,
            "right": null,
            "justify_content": null,
            "_view_module": "@jupyter-widgets/base",
            "overflow": null,
            "_model_module_version": "1.2.0",
            "_view_count": null,
            "flex_flow": null,
            "width": null,
            "min_width": null,
            "border": null,
            "align_items": null,
            "bottom": null,
            "_model_module": "@jupyter-widgets/base",
            "top": null,
            "grid_column": null,
            "overflow_y": null,
            "overflow_x": null,
            "grid_auto_flow": null,
            "grid_area": null,
            "grid_template_columns": null,
            "flex": null,
            "_model_name": "LayoutModel",
            "justify_items": null,
            "grid_row": null,
            "max_height": null,
            "align_content": null,
            "visibility": null,
            "align_self": null,
            "height": null,
            "min_height": null,
            "padding": null,
            "grid_auto_rows": null,
            "grid_gap": null,
            "max_width": null,
            "order": null,
            "_view_module_version": "1.2.0",
            "grid_template_areas": null,
            "object_position": null,
            "object_fit": null,
            "grid_auto_columns": null,
            "margin": null,
            "display": null,
            "left": null
          }
        },
        "e9899b87573548bf836af0d1c4b5c90e": {
          "model_module": "@jupyter-widgets/controls",
          "model_name": "DescriptionStyleModel",
          "state": {
            "_view_name": "StyleView",
            "_model_name": "DescriptionStyleModel",
            "description_width": "",
            "_view_module": "@jupyter-widgets/base",
            "_model_module_version": "1.5.0",
            "_view_count": null,
            "_view_module_version": "1.2.0",
            "_model_module": "@jupyter-widgets/controls"
          }
        },
        "b9c163bf1a034c9b9799b36b8ae45ed9": {
          "model_module": "@jupyter-widgets/base",
          "model_name": "LayoutModel",
          "state": {
            "_view_name": "LayoutView",
            "grid_template_rows": null,
            "right": null,
            "justify_content": null,
            "_view_module": "@jupyter-widgets/base",
            "overflow": null,
            "_model_module_version": "1.2.0",
            "_view_count": null,
            "flex_flow": null,
            "width": null,
            "min_width": null,
            "border": null,
            "align_items": null,
            "bottom": null,
            "_model_module": "@jupyter-widgets/base",
            "top": null,
            "grid_column": null,
            "overflow_y": null,
            "overflow_x": null,
            "grid_auto_flow": null,
            "grid_area": null,
            "grid_template_columns": null,
            "flex": null,
            "_model_name": "LayoutModel",
            "justify_items": null,
            "grid_row": null,
            "max_height": null,
            "align_content": null,
            "visibility": null,
            "align_self": null,
            "height": null,
            "min_height": null,
            "padding": null,
            "grid_auto_rows": null,
            "grid_gap": null,
            "max_width": null,
            "order": null,
            "_view_module_version": "1.2.0",
            "grid_template_areas": null,
            "object_position": null,
            "object_fit": null,
            "grid_auto_columns": null,
            "margin": null,
            "display": null,
            "left": null
          }
        },
        "7bd50747c0f24a6c9d997b36be092888": {
          "model_module": "@jupyter-widgets/controls",
          "model_name": "HBoxModel",
          "state": {
            "_view_name": "HBoxView",
            "_dom_classes": [],
            "_model_name": "HBoxModel",
            "_view_module": "@jupyter-widgets/controls",
            "_model_module_version": "1.5.0",
            "_view_count": null,
            "_view_module_version": "1.5.0",
            "box_style": "",
            "layout": "IPY_MODEL_4ec8b2cb93a34a92b814e8ffaaa73012",
            "_model_module": "@jupyter-widgets/controls",
            "children": [
              "IPY_MODEL_f308ef6d54c843adb36652b71a959e93",
              "IPY_MODEL_5481367f95f141d99e19ad6d6680ad6f"
            ]
          }
        },
        "4ec8b2cb93a34a92b814e8ffaaa73012": {
          "model_module": "@jupyter-widgets/base",
          "model_name": "LayoutModel",
          "state": {
            "_view_name": "LayoutView",
            "grid_template_rows": null,
            "right": null,
            "justify_content": null,
            "_view_module": "@jupyter-widgets/base",
            "overflow": null,
            "_model_module_version": "1.2.0",
            "_view_count": null,
            "flex_flow": null,
            "width": null,
            "min_width": null,
            "border": null,
            "align_items": null,
            "bottom": null,
            "_model_module": "@jupyter-widgets/base",
            "top": null,
            "grid_column": null,
            "overflow_y": null,
            "overflow_x": null,
            "grid_auto_flow": null,
            "grid_area": null,
            "grid_template_columns": null,
            "flex": null,
            "_model_name": "LayoutModel",
            "justify_items": null,
            "grid_row": null,
            "max_height": null,
            "align_content": null,
            "visibility": null,
            "align_self": null,
            "height": null,
            "min_height": null,
            "padding": null,
            "grid_auto_rows": null,
            "grid_gap": null,
            "max_width": null,
            "order": null,
            "_view_module_version": "1.2.0",
            "grid_template_areas": null,
            "object_position": null,
            "object_fit": null,
            "grid_auto_columns": null,
            "margin": null,
            "display": null,
            "left": null
          }
        },
        "f308ef6d54c843adb36652b71a959e93": {
          "model_module": "@jupyter-widgets/controls",
          "model_name": "FloatProgressModel",
          "state": {
            "_view_name": "ProgressView",
            "style": "IPY_MODEL_62d9f0f3d1cd4de6adb4572de328a44b",
            "_dom_classes": [],
            "description": "Downloading: ",
            "_model_name": "FloatProgressModel",
            "bar_style": "success",
            "max": 1,
            "_view_module": "@jupyter-widgets/controls",
            "_model_module_version": "1.5.0",
            "value": 1,
            "_view_count": null,
            "_view_module_version": "1.5.0",
            "orientation": "horizontal",
            "min": 0,
            "description_tooltip": null,
            "_model_module": "@jupyter-widgets/controls",
            "layout": "IPY_MODEL_63e2a1c68ac34dabba57d6826187fe54"
          }
        },
        "5481367f95f141d99e19ad6d6680ad6f": {
          "model_module": "@jupyter-widgets/controls",
          "model_name": "HTMLModel",
          "state": {
            "_view_name": "HTMLView",
            "style": "IPY_MODEL_4c62239c01f74e00b08f48090c468b3a",
            "_dom_classes": [],
            "description": "",
            "_model_name": "HTMLModel",
            "placeholder": "​",
            "_view_module": "@jupyter-widgets/controls",
            "_model_module_version": "1.5.0",
            "value": " 578M/? [00:39&lt;00:00, 14.6MB/s]",
            "_view_count": null,
            "_view_module_version": "1.5.0",
            "description_tooltip": null,
            "_model_module": "@jupyter-widgets/controls",
            "layout": "IPY_MODEL_9601efd5535b4ceba52200c344adb958"
          }
        },
        "62d9f0f3d1cd4de6adb4572de328a44b": {
          "model_module": "@jupyter-widgets/controls",
          "model_name": "ProgressStyleModel",
          "state": {
            "_view_name": "StyleView",
            "_model_name": "ProgressStyleModel",
            "description_width": "initial",
            "_view_module": "@jupyter-widgets/base",
            "_model_module_version": "1.5.0",
            "_view_count": null,
            "_view_module_version": "1.2.0",
            "bar_color": null,
            "_model_module": "@jupyter-widgets/controls"
          }
        },
        "63e2a1c68ac34dabba57d6826187fe54": {
          "model_module": "@jupyter-widgets/base",
          "model_name": "LayoutModel",
          "state": {
            "_view_name": "LayoutView",
            "grid_template_rows": null,
            "right": null,
            "justify_content": null,
            "_view_module": "@jupyter-widgets/base",
            "overflow": null,
            "_model_module_version": "1.2.0",
            "_view_count": null,
            "flex_flow": null,
            "width": null,
            "min_width": null,
            "border": null,
            "align_items": null,
            "bottom": null,
            "_model_module": "@jupyter-widgets/base",
            "top": null,
            "grid_column": null,
            "overflow_y": null,
            "overflow_x": null,
            "grid_auto_flow": null,
            "grid_area": null,
            "grid_template_columns": null,
            "flex": null,
            "_model_name": "LayoutModel",
            "justify_items": null,
            "grid_row": null,
            "max_height": null,
            "align_content": null,
            "visibility": null,
            "align_self": null,
            "height": null,
            "min_height": null,
            "padding": null,
            "grid_auto_rows": null,
            "grid_gap": null,
            "max_width": null,
            "order": null,
            "_view_module_version": "1.2.0",
            "grid_template_areas": null,
            "object_position": null,
            "object_fit": null,
            "grid_auto_columns": null,
            "margin": null,
            "display": null,
            "left": null
          }
        },
        "4c62239c01f74e00b08f48090c468b3a": {
          "model_module": "@jupyter-widgets/controls",
          "model_name": "DescriptionStyleModel",
          "state": {
            "_view_name": "StyleView",
            "_model_name": "DescriptionStyleModel",
            "description_width": "",
            "_view_module": "@jupyter-widgets/base",
            "_model_module_version": "1.5.0",
            "_view_count": null,
            "_view_module_version": "1.2.0",
            "_model_module": "@jupyter-widgets/controls"
          }
        },
        "9601efd5535b4ceba52200c344adb958": {
          "model_module": "@jupyter-widgets/base",
          "model_name": "LayoutModel",
          "state": {
            "_view_name": "LayoutView",
            "grid_template_rows": null,
            "right": null,
            "justify_content": null,
            "_view_module": "@jupyter-widgets/base",
            "overflow": null,
            "_model_module_version": "1.2.0",
            "_view_count": null,
            "flex_flow": null,
            "width": null,
            "min_width": null,
            "border": null,
            "align_items": null,
            "bottom": null,
            "_model_module": "@jupyter-widgets/base",
            "top": null,
            "grid_column": null,
            "overflow_y": null,
            "overflow_x": null,
            "grid_auto_flow": null,
            "grid_area": null,
            "grid_template_columns": null,
            "flex": null,
            "_model_name": "LayoutModel",
            "justify_items": null,
            "grid_row": null,
            "max_height": null,
            "align_content": null,
            "visibility": null,
            "align_self": null,
            "height": null,
            "min_height": null,
            "padding": null,
            "grid_auto_rows": null,
            "grid_gap": null,
            "max_width": null,
            "order": null,
            "_view_module_version": "1.2.0",
            "grid_template_areas": null,
            "object_position": null,
            "object_fit": null,
            "grid_auto_columns": null,
            "margin": null,
            "display": null,
            "left": null
          }
        },
        "b7f3dd19a76346489f1ae3e4db0178fa": {
          "model_module": "@jupyter-widgets/controls",
          "model_name": "HBoxModel",
          "state": {
            "_view_name": "HBoxView",
            "_dom_classes": [],
            "_model_name": "HBoxModel",
            "_view_module": "@jupyter-widgets/controls",
            "_model_module_version": "1.5.0",
            "_view_count": null,
            "_view_module_version": "1.5.0",
            "box_style": "",
            "layout": "IPY_MODEL_ac0ee5fcdb7c4ecbb31b40ab5586f2cd",
            "_model_module": "@jupyter-widgets/controls",
            "children": [
              "IPY_MODEL_791fd6f3be0b47849f328c8f18e080eb",
              "IPY_MODEL_c9fcff4d5d7746fcac09647f47d067b2"
            ]
          }
        },
        "ac0ee5fcdb7c4ecbb31b40ab5586f2cd": {
          "model_module": "@jupyter-widgets/base",
          "model_name": "LayoutModel",
          "state": {
            "_view_name": "LayoutView",
            "grid_template_rows": null,
            "right": null,
            "justify_content": null,
            "_view_module": "@jupyter-widgets/base",
            "overflow": null,
            "_model_module_version": "1.2.0",
            "_view_count": null,
            "flex_flow": null,
            "width": null,
            "min_width": null,
            "border": null,
            "align_items": null,
            "bottom": null,
            "_model_module": "@jupyter-widgets/base",
            "top": null,
            "grid_column": null,
            "overflow_y": null,
            "overflow_x": null,
            "grid_auto_flow": null,
            "grid_area": null,
            "grid_template_columns": null,
            "flex": null,
            "_model_name": "LayoutModel",
            "justify_items": null,
            "grid_row": null,
            "max_height": null,
            "align_content": null,
            "visibility": null,
            "align_self": null,
            "height": null,
            "min_height": null,
            "padding": null,
            "grid_auto_rows": null,
            "grid_gap": null,
            "max_width": null,
            "order": null,
            "_view_module_version": "1.2.0",
            "grid_template_areas": null,
            "object_position": null,
            "object_fit": null,
            "grid_auto_columns": null,
            "margin": null,
            "display": null,
            "left": null
          }
        },
        "791fd6f3be0b47849f328c8f18e080eb": {
          "model_module": "@jupyter-widgets/controls",
          "model_name": "FloatProgressModel",
          "state": {
            "_view_name": "ProgressView",
            "style": "IPY_MODEL_7f4598ba842e479dad53941bffde113d",
            "_dom_classes": [],
            "description": "",
            "_model_name": "FloatProgressModel",
            "bar_style": "info",
            "max": 1,
            "_view_module": "@jupyter-widgets/controls",
            "_model_module_version": "1.5.0",
            "value": 1,
            "_view_count": null,
            "_view_module_version": "1.5.0",
            "orientation": "horizontal",
            "min": 0,
            "description_tooltip": null,
            "_model_module": "@jupyter-widgets/controls",
            "layout": "IPY_MODEL_8b42918ba851434686f4ba9be5be20c4"
          }
        },
        "c9fcff4d5d7746fcac09647f47d067b2": {
          "model_module": "@jupyter-widgets/controls",
          "model_name": "HTMLModel",
          "state": {
            "_view_name": "HTMLView",
            "style": "IPY_MODEL_138a1021940048b89e658cfed24292da",
            "_dom_classes": [],
            "description": "",
            "_model_name": "HTMLModel",
            "placeholder": "​",
            "_view_module": "@jupyter-widgets/controls",
            "_model_module_version": "1.5.0",
            "value": " 3803957/0 [01:07&lt;00:00, 60585.77 examples/s]",
            "_view_count": null,
            "_view_module_version": "1.5.0",
            "description_tooltip": null,
            "_model_module": "@jupyter-widgets/controls",
            "layout": "IPY_MODEL_f91ef3fee028446fa9f85da2c186bb25"
          }
        },
        "7f4598ba842e479dad53941bffde113d": {
          "model_module": "@jupyter-widgets/controls",
          "model_name": "ProgressStyleModel",
          "state": {
            "_view_name": "StyleView",
            "_model_name": "ProgressStyleModel",
            "description_width": "initial",
            "_view_module": "@jupyter-widgets/base",
            "_model_module_version": "1.5.0",
            "_view_count": null,
            "_view_module_version": "1.2.0",
            "bar_color": null,
            "_model_module": "@jupyter-widgets/controls"
          }
        },
        "8b42918ba851434686f4ba9be5be20c4": {
          "model_module": "@jupyter-widgets/base",
          "model_name": "LayoutModel",
          "state": {
            "_view_name": "LayoutView",
            "grid_template_rows": null,
            "right": null,
            "justify_content": null,
            "_view_module": "@jupyter-widgets/base",
            "overflow": null,
            "_model_module_version": "1.2.0",
            "_view_count": null,
            "flex_flow": null,
            "width": null,
            "min_width": null,
            "border": null,
            "align_items": null,
            "bottom": null,
            "_model_module": "@jupyter-widgets/base",
            "top": null,
            "grid_column": null,
            "overflow_y": null,
            "overflow_x": null,
            "grid_auto_flow": null,
            "grid_area": null,
            "grid_template_columns": null,
            "flex": null,
            "_model_name": "LayoutModel",
            "justify_items": null,
            "grid_row": null,
            "max_height": null,
            "align_content": null,
            "visibility": null,
            "align_self": null,
            "height": null,
            "min_height": null,
            "padding": null,
            "grid_auto_rows": null,
            "grid_gap": null,
            "max_width": null,
            "order": null,
            "_view_module_version": "1.2.0",
            "grid_template_areas": null,
            "object_position": null,
            "object_fit": null,
            "grid_auto_columns": null,
            "margin": null,
            "display": null,
            "left": null
          }
        },
        "138a1021940048b89e658cfed24292da": {
          "model_module": "@jupyter-widgets/controls",
          "model_name": "DescriptionStyleModel",
          "state": {
            "_view_name": "StyleView",
            "_model_name": "DescriptionStyleModel",
            "description_width": "",
            "_view_module": "@jupyter-widgets/base",
            "_model_module_version": "1.5.0",
            "_view_count": null,
            "_view_module_version": "1.2.0",
            "_model_module": "@jupyter-widgets/controls"
          }
        },
        "f91ef3fee028446fa9f85da2c186bb25": {
          "model_module": "@jupyter-widgets/base",
          "model_name": "LayoutModel",
          "state": {
            "_view_name": "LayoutView",
            "grid_template_rows": null,
            "right": null,
            "justify_content": null,
            "_view_module": "@jupyter-widgets/base",
            "overflow": null,
            "_model_module_version": "1.2.0",
            "_view_count": null,
            "flex_flow": null,
            "width": null,
            "min_width": null,
            "border": null,
            "align_items": null,
            "bottom": null,
            "_model_module": "@jupyter-widgets/base",
            "top": null,
            "grid_column": null,
            "overflow_y": null,
            "overflow_x": null,
            "grid_auto_flow": null,
            "grid_area": null,
            "grid_template_columns": null,
            "flex": null,
            "_model_name": "LayoutModel",
            "justify_items": null,
            "grid_row": null,
            "max_height": null,
            "align_content": null,
            "visibility": null,
            "align_self": null,
            "height": null,
            "min_height": null,
            "padding": null,
            "grid_auto_rows": null,
            "grid_gap": null,
            "max_width": null,
            "order": null,
            "_view_module_version": "1.2.0",
            "grid_template_areas": null,
            "object_position": null,
            "object_fit": null,
            "grid_auto_columns": null,
            "margin": null,
            "display": null,
            "left": null
          }
        },
        "22672b896a32471cb8da0db7fbc0c8b2": {
          "model_module": "@jupyter-widgets/controls",
          "model_name": "HBoxModel",
          "state": {
            "_view_name": "HBoxView",
            "_dom_classes": [],
            "_model_name": "HBoxModel",
            "_view_module": "@jupyter-widgets/controls",
            "_model_module_version": "1.5.0",
            "_view_count": null,
            "_view_module_version": "1.5.0",
            "box_style": "",
            "layout": "IPY_MODEL_031fd66513aa4576acb1d887c1baefc2",
            "_model_module": "@jupyter-widgets/controls",
            "children": [
              "IPY_MODEL_9ac97ef65e854ad8b175cd87776f5c92",
              "IPY_MODEL_82bf7b8851e14858a2abc2314be03769"
            ]
          }
        },
        "031fd66513aa4576acb1d887c1baefc2": {
          "model_module": "@jupyter-widgets/base",
          "model_name": "LayoutModel",
          "state": {
            "_view_name": "LayoutView",
            "grid_template_rows": null,
            "right": null,
            "justify_content": null,
            "_view_module": "@jupyter-widgets/base",
            "overflow": null,
            "_model_module_version": "1.2.0",
            "_view_count": null,
            "flex_flow": null,
            "width": null,
            "min_width": null,
            "border": null,
            "align_items": null,
            "bottom": null,
            "_model_module": "@jupyter-widgets/base",
            "top": null,
            "grid_column": null,
            "overflow_y": null,
            "overflow_x": null,
            "grid_auto_flow": null,
            "grid_area": null,
            "grid_template_columns": null,
            "flex": null,
            "_model_name": "LayoutModel",
            "justify_items": null,
            "grid_row": null,
            "max_height": null,
            "align_content": null,
            "visibility": null,
            "align_self": null,
            "height": null,
            "min_height": null,
            "padding": null,
            "grid_auto_rows": null,
            "grid_gap": null,
            "max_width": null,
            "order": null,
            "_view_module_version": "1.2.0",
            "grid_template_areas": null,
            "object_position": null,
            "object_fit": null,
            "grid_auto_columns": null,
            "margin": null,
            "display": null,
            "left": null
          }
        },
        "9ac97ef65e854ad8b175cd87776f5c92": {
          "model_module": "@jupyter-widgets/controls",
          "model_name": "FloatProgressModel",
          "state": {
            "_view_name": "ProgressView",
            "style": "IPY_MODEL_40ba057bdde2445eb2de8fc7aec99369",
            "_dom_classes": [],
            "description": "",
            "_model_name": "FloatProgressModel",
            "bar_style": "info",
            "max": 1,
            "_view_module": "@jupyter-widgets/controls",
            "_model_module_version": "1.5.0",
            "value": 1,
            "_view_count": null,
            "_view_module_version": "1.5.0",
            "orientation": "horizontal",
            "min": 0,
            "description_tooltip": null,
            "_model_module": "@jupyter-widgets/controls",
            "layout": "IPY_MODEL_3aee37c3dcf843859021aa3fa9605e51"
          }
        },
        "82bf7b8851e14858a2abc2314be03769": {
          "model_module": "@jupyter-widgets/controls",
          "model_name": "HTMLModel",
          "state": {
            "_view_name": "HTMLView",
            "style": "IPY_MODEL_028127dd17624bc5b0200bd0978f244f",
            "_dom_classes": [],
            "description": "",
            "_model_name": "HTMLModel",
            "placeholder": "​",
            "_view_module": "@jupyter-widgets/controls",
            "_model_module_version": "1.5.0",
            "value": " 189651/0 [00:03&lt;00:00, 56189.13 examples/s]",
            "_view_count": null,
            "_view_module_version": "1.5.0",
            "description_tooltip": null,
            "_model_module": "@jupyter-widgets/controls",
            "layout": "IPY_MODEL_517ab602a1894e96abaf7aaa3cc04b82"
          }
        },
        "40ba057bdde2445eb2de8fc7aec99369": {
          "model_module": "@jupyter-widgets/controls",
          "model_name": "ProgressStyleModel",
          "state": {
            "_view_name": "StyleView",
            "_model_name": "ProgressStyleModel",
            "description_width": "initial",
            "_view_module": "@jupyter-widgets/base",
            "_model_module_version": "1.5.0",
            "_view_count": null,
            "_view_module_version": "1.2.0",
            "bar_color": null,
            "_model_module": "@jupyter-widgets/controls"
          }
        },
        "3aee37c3dcf843859021aa3fa9605e51": {
          "model_module": "@jupyter-widgets/base",
          "model_name": "LayoutModel",
          "state": {
            "_view_name": "LayoutView",
            "grid_template_rows": null,
            "right": null,
            "justify_content": null,
            "_view_module": "@jupyter-widgets/base",
            "overflow": null,
            "_model_module_version": "1.2.0",
            "_view_count": null,
            "flex_flow": null,
            "width": null,
            "min_width": null,
            "border": null,
            "align_items": null,
            "bottom": null,
            "_model_module": "@jupyter-widgets/base",
            "top": null,
            "grid_column": null,
            "overflow_y": null,
            "overflow_x": null,
            "grid_auto_flow": null,
            "grid_area": null,
            "grid_template_columns": null,
            "flex": null,
            "_model_name": "LayoutModel",
            "justify_items": null,
            "grid_row": null,
            "max_height": null,
            "align_content": null,
            "visibility": null,
            "align_self": null,
            "height": null,
            "min_height": null,
            "padding": null,
            "grid_auto_rows": null,
            "grid_gap": null,
            "max_width": null,
            "order": null,
            "_view_module_version": "1.2.0",
            "grid_template_areas": null,
            "object_position": null,
            "object_fit": null,
            "grid_auto_columns": null,
            "margin": null,
            "display": null,
            "left": null
          }
        },
        "028127dd17624bc5b0200bd0978f244f": {
          "model_module": "@jupyter-widgets/controls",
          "model_name": "DescriptionStyleModel",
          "state": {
            "_view_name": "StyleView",
            "_model_name": "DescriptionStyleModel",
            "description_width": "",
            "_view_module": "@jupyter-widgets/base",
            "_model_module_version": "1.5.0",
            "_view_count": null,
            "_view_module_version": "1.2.0",
            "_model_module": "@jupyter-widgets/controls"
          }
        },
        "517ab602a1894e96abaf7aaa3cc04b82": {
          "model_module": "@jupyter-widgets/base",
          "model_name": "LayoutModel",
          "state": {
            "_view_name": "LayoutView",
            "grid_template_rows": null,
            "right": null,
            "justify_content": null,
            "_view_module": "@jupyter-widgets/base",
            "overflow": null,
            "_model_module_version": "1.2.0",
            "_view_count": null,
            "flex_flow": null,
            "width": null,
            "min_width": null,
            "border": null,
            "align_items": null,
            "bottom": null,
            "_model_module": "@jupyter-widgets/base",
            "top": null,
            "grid_column": null,
            "overflow_y": null,
            "overflow_x": null,
            "grid_auto_flow": null,
            "grid_area": null,
            "grid_template_columns": null,
            "flex": null,
            "_model_name": "LayoutModel",
            "justify_items": null,
            "grid_row": null,
            "max_height": null,
            "align_content": null,
            "visibility": null,
            "align_self": null,
            "height": null,
            "min_height": null,
            "padding": null,
            "grid_auto_rows": null,
            "grid_gap": null,
            "max_width": null,
            "order": null,
            "_view_module_version": "1.2.0",
            "grid_template_areas": null,
            "object_position": null,
            "object_fit": null,
            "grid_auto_columns": null,
            "margin": null,
            "display": null,
            "left": null
          }
        },
        "d986231119c84993b788352c888487fa": {
          "model_module": "@jupyter-widgets/controls",
          "model_name": "HBoxModel",
          "state": {
            "_view_name": "HBoxView",
            "_dom_classes": [],
            "_model_name": "HBoxModel",
            "_view_module": "@jupyter-widgets/controls",
            "_model_module_version": "1.5.0",
            "_view_count": null,
            "_view_module_version": "1.5.0",
            "box_style": "",
            "layout": "IPY_MODEL_bca926f876224bfa81026551fdcf514b",
            "_model_module": "@jupyter-widgets/controls",
            "children": [
              "IPY_MODEL_4251ced00f8d44308756fd876ca3a619",
              "IPY_MODEL_a82549f8d594403bb044c608c212021e"
            ]
          }
        },
        "bca926f876224bfa81026551fdcf514b": {
          "model_module": "@jupyter-widgets/base",
          "model_name": "LayoutModel",
          "state": {
            "_view_name": "LayoutView",
            "grid_template_rows": null,
            "right": null,
            "justify_content": null,
            "_view_module": "@jupyter-widgets/base",
            "overflow": null,
            "_model_module_version": "1.2.0",
            "_view_count": null,
            "flex_flow": null,
            "width": null,
            "min_width": null,
            "border": null,
            "align_items": null,
            "bottom": null,
            "_model_module": "@jupyter-widgets/base",
            "top": null,
            "grid_column": null,
            "overflow_y": null,
            "overflow_x": null,
            "grid_auto_flow": null,
            "grid_area": null,
            "grid_template_columns": null,
            "flex": null,
            "_model_name": "LayoutModel",
            "justify_items": null,
            "grid_row": null,
            "max_height": null,
            "align_content": null,
            "visibility": null,
            "align_self": null,
            "height": null,
            "min_height": null,
            "padding": null,
            "grid_auto_rows": null,
            "grid_gap": null,
            "max_width": null,
            "order": null,
            "_view_module_version": "1.2.0",
            "grid_template_areas": null,
            "object_position": null,
            "object_fit": null,
            "grid_auto_columns": null,
            "margin": null,
            "display": null,
            "left": null
          }
        },
        "4251ced00f8d44308756fd876ca3a619": {
          "model_module": "@jupyter-widgets/controls",
          "model_name": "FloatProgressModel",
          "state": {
            "_view_name": "ProgressView",
            "style": "IPY_MODEL_8a66c8aa722a40dcaa15262ee12eb61e",
            "_dom_classes": [],
            "description": "",
            "_model_name": "FloatProgressModel",
            "bar_style": "info",
            "max": 1,
            "_view_module": "@jupyter-widgets/controls",
            "_model_module_version": "1.5.0",
            "value": 1,
            "_view_count": null,
            "_view_module_version": "1.5.0",
            "orientation": "horizontal",
            "min": 0,
            "description_tooltip": null,
            "_model_module": "@jupyter-widgets/controls",
            "layout": "IPY_MODEL_61f1c6e27c2a47a19860bda0fced5e3b"
          }
        },
        "a82549f8d594403bb044c608c212021e": {
          "model_module": "@jupyter-widgets/controls",
          "model_name": "HTMLModel",
          "state": {
            "_view_name": "HTMLView",
            "style": "IPY_MODEL_312d5b33d891492aaaec1cf5a39cb9c1",
            "_dom_classes": [],
            "description": "",
            "_model_name": "HTMLModel",
            "placeholder": "​",
            "_view_module": "@jupyter-widgets/controls",
            "_model_module_version": "1.5.0",
            "value": " 1951/0 [00:00&lt;00:00, 25556.25 examples/s]",
            "_view_count": null,
            "_view_module_version": "1.5.0",
            "description_tooltip": null,
            "_model_module": "@jupyter-widgets/controls",
            "layout": "IPY_MODEL_14713e4616e94c15a5d45508b80445f3"
          }
        },
        "8a66c8aa722a40dcaa15262ee12eb61e": {
          "model_module": "@jupyter-widgets/controls",
          "model_name": "ProgressStyleModel",
          "state": {
            "_view_name": "StyleView",
            "_model_name": "ProgressStyleModel",
            "description_width": "initial",
            "_view_module": "@jupyter-widgets/base",
            "_model_module_version": "1.5.0",
            "_view_count": null,
            "_view_module_version": "1.2.0",
            "bar_color": null,
            "_model_module": "@jupyter-widgets/controls"
          }
        },
        "61f1c6e27c2a47a19860bda0fced5e3b": {
          "model_module": "@jupyter-widgets/base",
          "model_name": "LayoutModel",
          "state": {
            "_view_name": "LayoutView",
            "grid_template_rows": null,
            "right": null,
            "justify_content": null,
            "_view_module": "@jupyter-widgets/base",
            "overflow": null,
            "_model_module_version": "1.2.0",
            "_view_count": null,
            "flex_flow": null,
            "width": null,
            "min_width": null,
            "border": null,
            "align_items": null,
            "bottom": null,
            "_model_module": "@jupyter-widgets/base",
            "top": null,
            "grid_column": null,
            "overflow_y": null,
            "overflow_x": null,
            "grid_auto_flow": null,
            "grid_area": null,
            "grid_template_columns": null,
            "flex": null,
            "_model_name": "LayoutModel",
            "justify_items": null,
            "grid_row": null,
            "max_height": null,
            "align_content": null,
            "visibility": null,
            "align_self": null,
            "height": null,
            "min_height": null,
            "padding": null,
            "grid_auto_rows": null,
            "grid_gap": null,
            "max_width": null,
            "order": null,
            "_view_module_version": "1.2.0",
            "grid_template_areas": null,
            "object_position": null,
            "object_fit": null,
            "grid_auto_columns": null,
            "margin": null,
            "display": null,
            "left": null
          }
        },
        "312d5b33d891492aaaec1cf5a39cb9c1": {
          "model_module": "@jupyter-widgets/controls",
          "model_name": "DescriptionStyleModel",
          "state": {
            "_view_name": "StyleView",
            "_model_name": "DescriptionStyleModel",
            "description_width": "",
            "_view_module": "@jupyter-widgets/base",
            "_model_module_version": "1.5.0",
            "_view_count": null,
            "_view_module_version": "1.2.0",
            "_model_module": "@jupyter-widgets/controls"
          }
        },
        "14713e4616e94c15a5d45508b80445f3": {
          "model_module": "@jupyter-widgets/base",
          "model_name": "LayoutModel",
          "state": {
            "_view_name": "LayoutView",
            "grid_template_rows": null,
            "right": null,
            "justify_content": null,
            "_view_module": "@jupyter-widgets/base",
            "overflow": null,
            "_model_module_version": "1.2.0",
            "_view_count": null,
            "flex_flow": null,
            "width": null,
            "min_width": null,
            "border": null,
            "align_items": null,
            "bottom": null,
            "_model_module": "@jupyter-widgets/base",
            "top": null,
            "grid_column": null,
            "overflow_y": null,
            "overflow_x": null,
            "grid_auto_flow": null,
            "grid_area": null,
            "grid_template_columns": null,
            "flex": null,
            "_model_name": "LayoutModel",
            "justify_items": null,
            "grid_row": null,
            "max_height": null,
            "align_content": null,
            "visibility": null,
            "align_self": null,
            "height": null,
            "min_height": null,
            "padding": null,
            "grid_auto_rows": null,
            "grid_gap": null,
            "max_width": null,
            "order": null,
            "_view_module_version": "1.2.0",
            "grid_template_areas": null,
            "object_position": null,
            "object_fit": null,
            "grid_auto_columns": null,
            "margin": null,
            "display": null,
            "left": null
          }
        },
        "91aac4a7893b4a4a91f3fb884fa83e44": {
          "model_module": "@jupyter-widgets/controls",
          "model_name": "HBoxModel",
          "state": {
            "_view_name": "HBoxView",
            "_dom_classes": [],
            "_model_name": "HBoxModel",
            "_view_module": "@jupyter-widgets/controls",
            "_model_module_version": "1.5.0",
            "_view_count": null,
            "_view_module_version": "1.5.0",
            "box_style": "",
            "layout": "IPY_MODEL_be69e9a505bb465a8a6c60bdfd25385f",
            "_model_module": "@jupyter-widgets/controls",
            "children": [
              "IPY_MODEL_88eb8c3c694949fe8a119a87360bf199",
              "IPY_MODEL_31a49c87e229462396ce3f49abb0c83b"
            ]
          }
        },
        "be69e9a505bb465a8a6c60bdfd25385f": {
          "model_module": "@jupyter-widgets/base",
          "model_name": "LayoutModel",
          "state": {
            "_view_name": "LayoutView",
            "grid_template_rows": null,
            "right": null,
            "justify_content": null,
            "_view_module": "@jupyter-widgets/base",
            "overflow": null,
            "_model_module_version": "1.2.0",
            "_view_count": null,
            "flex_flow": null,
            "width": null,
            "min_width": null,
            "border": null,
            "align_items": null,
            "bottom": null,
            "_model_module": "@jupyter-widgets/base",
            "top": null,
            "grid_column": null,
            "overflow_y": null,
            "overflow_x": null,
            "grid_auto_flow": null,
            "grid_area": null,
            "grid_template_columns": null,
            "flex": null,
            "_model_name": "LayoutModel",
            "justify_items": null,
            "grid_row": null,
            "max_height": null,
            "align_content": null,
            "visibility": null,
            "align_self": null,
            "height": null,
            "min_height": null,
            "padding": null,
            "grid_auto_rows": null,
            "grid_gap": null,
            "max_width": null,
            "order": null,
            "_view_module_version": "1.2.0",
            "grid_template_areas": null,
            "object_position": null,
            "object_fit": null,
            "grid_auto_columns": null,
            "margin": null,
            "display": null,
            "left": null
          }
        },
        "88eb8c3c694949fe8a119a87360bf199": {
          "model_module": "@jupyter-widgets/controls",
          "model_name": "FloatProgressModel",
          "state": {
            "_view_name": "ProgressView",
            "style": "IPY_MODEL_2992409abb73459cad066599fe782015",
            "_dom_classes": [],
            "description": "Downloading: ",
            "_model_name": "FloatProgressModel",
            "bar_style": "success",
            "max": 1955,
            "_view_module": "@jupyter-widgets/controls",
            "_model_module_version": "1.5.0",
            "value": 1955,
            "_view_count": null,
            "_view_module_version": "1.5.0",
            "orientation": "horizontal",
            "min": 0,
            "description_tooltip": null,
            "_model_module": "@jupyter-widgets/controls",
            "layout": "IPY_MODEL_0feb74472b8b49c4ad8355016402d535"
          }
        },
        "31a49c87e229462396ce3f49abb0c83b": {
          "model_module": "@jupyter-widgets/controls",
          "model_name": "HTMLModel",
          "state": {
            "_view_name": "HTMLView",
            "style": "IPY_MODEL_bfa1cf9f39a145259bab5524b4071885",
            "_dom_classes": [],
            "description": "",
            "_model_name": "HTMLModel",
            "placeholder": "​",
            "_view_module": "@jupyter-widgets/controls",
            "_model_module_version": "1.5.0",
            "value": " 4.93k/? [00:17&lt;00:00, 286B/s]",
            "_view_count": null,
            "_view_module_version": "1.5.0",
            "description_tooltip": null,
            "_model_module": "@jupyter-widgets/controls",
            "layout": "IPY_MODEL_fbad2d2ef6564579b43f4ab100d33de5"
          }
        },
        "2992409abb73459cad066599fe782015": {
          "model_module": "@jupyter-widgets/controls",
          "model_name": "ProgressStyleModel",
          "state": {
            "_view_name": "StyleView",
            "_model_name": "ProgressStyleModel",
            "description_width": "initial",
            "_view_module": "@jupyter-widgets/base",
            "_model_module_version": "1.5.0",
            "_view_count": null,
            "_view_module_version": "1.2.0",
            "bar_color": null,
            "_model_module": "@jupyter-widgets/controls"
          }
        },
        "0feb74472b8b49c4ad8355016402d535": {
          "model_module": "@jupyter-widgets/base",
          "model_name": "LayoutModel",
          "state": {
            "_view_name": "LayoutView",
            "grid_template_rows": null,
            "right": null,
            "justify_content": null,
            "_view_module": "@jupyter-widgets/base",
            "overflow": null,
            "_model_module_version": "1.2.0",
            "_view_count": null,
            "flex_flow": null,
            "width": null,
            "min_width": null,
            "border": null,
            "align_items": null,
            "bottom": null,
            "_model_module": "@jupyter-widgets/base",
            "top": null,
            "grid_column": null,
            "overflow_y": null,
            "overflow_x": null,
            "grid_auto_flow": null,
            "grid_area": null,
            "grid_template_columns": null,
            "flex": null,
            "_model_name": "LayoutModel",
            "justify_items": null,
            "grid_row": null,
            "max_height": null,
            "align_content": null,
            "visibility": null,
            "align_self": null,
            "height": null,
            "min_height": null,
            "padding": null,
            "grid_auto_rows": null,
            "grid_gap": null,
            "max_width": null,
            "order": null,
            "_view_module_version": "1.2.0",
            "grid_template_areas": null,
            "object_position": null,
            "object_fit": null,
            "grid_auto_columns": null,
            "margin": null,
            "display": null,
            "left": null
          }
        },
        "bfa1cf9f39a145259bab5524b4071885": {
          "model_module": "@jupyter-widgets/controls",
          "model_name": "DescriptionStyleModel",
          "state": {
            "_view_name": "StyleView",
            "_model_name": "DescriptionStyleModel",
            "description_width": "",
            "_view_module": "@jupyter-widgets/base",
            "_model_module_version": "1.5.0",
            "_view_count": null,
            "_view_module_version": "1.2.0",
            "_model_module": "@jupyter-widgets/controls"
          }
        },
        "fbad2d2ef6564579b43f4ab100d33de5": {
          "model_module": "@jupyter-widgets/base",
          "model_name": "LayoutModel",
          "state": {
            "_view_name": "LayoutView",
            "grid_template_rows": null,
            "right": null,
            "justify_content": null,
            "_view_module": "@jupyter-widgets/base",
            "overflow": null,
            "_model_module_version": "1.2.0",
            "_view_count": null,
            "flex_flow": null,
            "width": null,
            "min_width": null,
            "border": null,
            "align_items": null,
            "bottom": null,
            "_model_module": "@jupyter-widgets/base",
            "top": null,
            "grid_column": null,
            "overflow_y": null,
            "overflow_x": null,
            "grid_auto_flow": null,
            "grid_area": null,
            "grid_template_columns": null,
            "flex": null,
            "_model_name": "LayoutModel",
            "justify_items": null,
            "grid_row": null,
            "max_height": null,
            "align_content": null,
            "visibility": null,
            "align_self": null,
            "height": null,
            "min_height": null,
            "padding": null,
            "grid_auto_rows": null,
            "grid_gap": null,
            "max_width": null,
            "order": null,
            "_view_module_version": "1.2.0",
            "grid_template_areas": null,
            "object_position": null,
            "object_fit": null,
            "grid_auto_columns": null,
            "margin": null,
            "display": null,
            "left": null
          }
        }
      }
    }
  },
  "cells": [
    {
      "cell_type": "markdown",
      "metadata": {
        "id": "LLbFcWZfvkZp"
      },
      "source": [
        "## Imports\n",
        "\n",
        "We aggregate our imports here. `openai` provides the python wrapper for the OpenAI GPT-3 API, `datasets` is a library by NLP organization huggingface that provides standard versions of several datasets we use, such as Gigaword and the Google Sentence Compression Dataset."
      ]
    },
    {
      "cell_type": "code",
      "metadata": {
        "id": "1-5Uxs45vi5n"
      },
      "source": [
        "!pip install openai &> /dev/null"
      ],
      "execution_count": 2,
      "outputs": []
    },
    {
      "cell_type": "code",
      "metadata": {
        "id": "k5Gio6Fmzx5z"
      },
      "source": [
        "# Provided by huggingface\n",
        "!pip install datasets &> /dev/null"
      ],
      "execution_count": 3,
      "outputs": []
    },
    {
      "cell_type": "code",
      "metadata": {
        "id": "ddqLz_2YkA7E"
      },
      "source": [
        "!pip install nltk &> /dev/null"
      ],
      "execution_count": 4,
      "outputs": []
    },
    {
      "cell_type": "code",
      "metadata": {
        "id": "-QGsEBzusy3e",
        "colab": {
          "base_uri": "https://localhost:8080/"
        },
        "outputId": "e811eb71-df0e-40a5-b492-e9f417b9c742"
      },
      "source": [
        "import openai\n",
        "\n",
        "import numpy as np\n",
        "import pandas as pd\n",
        "\n",
        "import seaborn as sns\n",
        "import matplotlib.pyplot as plt\n",
        "\n",
        "import random\n",
        "\n",
        "import nltk\n",
        "nltk.download('punkt')\n",
        "\n",
        "import nltk.tokenize as tokenize"
      ],
      "execution_count": 5,
      "outputs": [
        {
          "output_type": "stream",
          "text": [
            "[nltk_data] Downloading package punkt to /root/nltk_data...\n",
            "[nltk_data]   Unzipping tokenizers/punkt.zip.\n"
          ],
          "name": "stdout"
        }
      ]
    },
    {
      "cell_type": "code",
      "metadata": {
        "id": "cHP08S6AtI04"
      },
      "source": [
        "from datasets import load_dataset, load_metric"
      ],
      "execution_count": 6,
      "outputs": []
    },
    {
      "cell_type": "code",
      "metadata": {
        "id": "e2pGGASHtNVq"
      },
      "source": [
        "!pip install rouge_score &> /dev/null\n",
        "from rouge_score import rouge_scorer"
      ],
      "execution_count": 7,
      "outputs": []
    },
    {
      "cell_type": "markdown",
      "metadata": {
        "id": "gcIBH5OM2D7X"
      },
      "source": [
        "### Import CSVs"
      ]
    },
    {
      "cell_type": "code",
      "metadata": {
        "id": "btAchA_G3t0N"
      },
      "source": [
        "# import CSV's\n",
        "fp_prefix = \"./drive/MyDrive/EENG_Final/\"\n",
        "\n",
        "df_gw_two_sentence_zero = pd.read_csv(fp_prefix + \"df_gw_two_sentence_zero.csv\")\n",
        "df_gw_tldr_one_shot_ada = pd.read_csv(fp_prefix + \"df_gw_tldr_one_shot_ada.csv\")\n",
        "df_gw_tldr = pd.read_csv(fp_prefix + \"df_gw_tldr.csv\")\n",
        "df_gw_ten_word_zero = pd.read_csv(fp_prefix + \"df_gw_ten_word_zero.csv\")\n",
        "df_gw_one_setence_zero = pd.read_csv(fp_prefix + \"df_gw_one_setence_zero.csv\")\n",
        "df_gw_numbertwo_sentence_zero = pd.read_csv(fp_prefix + \"df_gw_numbertwo_sentence_zero.csv\")\n",
        "df_gw_five_word_zero = pd.read_csv(fp_prefix + \"df_gw_five_word_zero.csv\")\n",
        "df_gw_davinci_zero = pd.read_csv(fp_prefix + \"df_gw_davinci_zero.csv\")\n",
        "df_gw_davinci_one = pd.read_csv(fp_prefix + \"df_gw_davinci_one.csv\")\n",
        "df_gw_davinci_few_ten = pd.read_csv(fp_prefix + \"df_gw_davinci_few_ten.csv\")\n",
        "df_gw_curie_zero = pd.read_csv(fp_prefix + \"df_gw_curie_zero.csv\")\n",
        "df_gw_curie_one = pd.read_csv(fp_prefix + \"df_gw_curie_one.csv\")\n",
        "df_gw_curie_few_ten = pd.read_csv(fp_prefix + \"df_gw_curie_few_ten.csv\")\n",
        "df_gw_babbage_zero = pd.read_csv(fp_prefix + \"df_gw_babbage_zero.csv\")\n",
        "df_gw_babbage_one = pd.read_csv(fp_prefix + \"df_gw_babbage_one.csv\")\n",
        "df_gw_babbage_few_ten = pd.read_csv(fp_prefix + \"df_gw_babbage_few_ten.csv\")\n",
        "df_gw_article_summary_zero = pd.read_csv(fp_prefix + \"df_gw_article_summary_zero.csv\")\n",
        "df_gw_article_summary_one_shot_ada = pd.read_csv(fp_prefix + \"df_gw_article_summary_one_shot_ada.csv\")\n",
        "df_gw_ada_few_ten = pd.read_csv(fp_prefix + \"df_gw_ada_few_ten.csv\")\n",
        "df_gw_ada_few = pd.read_csv(fp_prefix + \"df_gw_ada_few.csv\")"
      ],
      "execution_count": null,
      "outputs": []
    },
    {
      "cell_type": "markdown",
      "metadata": {
        "id": "HPRg4I2ovhJ9"
      },
      "source": [
        "## API Testing"
      ]
    },
    {
      "cell_type": "code",
      "metadata": {
        "id": "WG4t6ubHawzr"
      },
      "source": [
        "import config\n",
        "\n",
        "openai.api_key = config.key"
      ],
      "execution_count": null,
      "outputs": []
    },
    {
      "cell_type": "code",
      "metadata": {
        "id": "XaehXqbBvp38"
      },
      "source": [
        "openai.api_key = \"sk-vruwBkq7srZsfH5AJpVoqYJGn9QAXOHE1zugsSJQ\""
      ],
      "execution_count": 13,
      "outputs": []
    },
    {
      "cell_type": "code",
      "metadata": {
        "id": "3Up40HztzGsV"
      },
      "source": [
        "# Test inference: we have a choice of four engines: davinci, curie, babbage, ada\n",
        "response = openai.Completion.create(engine=\"ada\", prompt=\"This is a test\", max_tokens=5)"
      ],
      "execution_count": 14,
      "outputs": []
    },
    {
      "cell_type": "code",
      "metadata": {
        "colab": {
          "base_uri": "https://localhost:8080/"
        },
        "id": "Ri-Zl22gANhm",
        "outputId": "b0fc2154-7177-4eba-9414-63545589cffc"
      },
      "source": [
        "response  "
      ],
      "execution_count": 15,
      "outputs": [
        {
          "output_type": "execute_result",
          "data": {
            "text/plain": [
              "<OpenAIObject text_completion id=cmpl-CDQVFToFXIGEh9zWYI923hxT at 0x7f13f3b4b5c8> JSON: {\n",
              "  \"choices\": [\n",
              "    {\n",
              "      \"finish_reason\": \"max_tokens\",\n",
              "      \"index\": 0,\n",
              "      \"logprobs\": null,\n",
              "      \"text\": \" in 2017 and this is\"\n",
              "    }\n",
              "  ],\n",
              "  \"created\": 1608339038,\n",
              "  \"id\": \"cmpl-CDQVFToFXIGEh9zWYI923hxT\",\n",
              "  \"model\": \"ada:2020-05-03\",\n",
              "  \"object\": \"text_completion\"\n",
              "}"
            ]
          },
          "metadata": {
            "tags": []
          },
          "execution_count": 15
        }
      ]
    },
    {
      "cell_type": "markdown",
      "metadata": {
        "id": "GUenXkqbwTEU"
      },
      "source": [
        "The response object takes the form\n",
        "```python\n",
        "{\n",
        "  \"choices\": [\n",
        "    {\n",
        "      \"finish_reason\": \"max_tokens\",\n",
        "      \"index\": ...,\n",
        "      \"logprobs\": ...,\n",
        "      \"text\": \" some response here\"\n",
        "  ],\n",
        "  \"created\": ...,\n",
        "  \"id\": ...,\n",
        "  \"model\": ada...,\n",
        "  \"object\": \"text_completion\n",
        "}\n",
        "```\n",
        "where we can access the response with `response[\"choices\"][0][\"text\"]`"
      ]
    },
    {
      "cell_type": "markdown",
      "metadata": {
        "id": "ks1saokNdaLp"
      },
      "source": [
        "### Generate inferences (Zero-shot)\n",
        "\n",
        "To generate a summary, we have a few options. OpenAI gives examples in which you suffix your text with `tl;dr:`, `One-sentence summary:`, and `I rephrased this for my daughter, in plain language a second grader can understand:` to induce summarization. Later, we explore different ways of designing the prompt.\n",
        "\n",
        "The default `max_tokens` is set at 12 which is the token count of the largest summary in Gigaword"
      ]
    },
    {
      "cell_type": "code",
      "metadata": {
        "id": "nZFrkOO60TX1"
      },
      "source": [
        "def zero_shot(input, engine, strategy, max_tokens=12, customStrategy=False):\n",
        "  if (strategy == \"tldr\"):\n",
        "    prompt = input + \"\\n\\ntl;dr:\"\n",
        "  elif (strategy == \"article-summary\"):\n",
        "    prompt = \"article: \" + input + \"\\nsummary:\" \n",
        "  elif (strategy == \"custom\" and customStrategy):\n",
        "    prompt = customStrategy(input)\n",
        "  else:\n",
        "    prompt = input\n",
        "  response = openai.Completion.create(engine=engine, prompt=prompt, max_tokens=max_tokens)\n",
        "  return response"
      ],
      "execution_count": null,
      "outputs": []
    },
    {
      "cell_type": "code",
      "metadata": {
        "id": "4O3qVtEvSoxf"
      },
      "source": [
        "def one_shot(input, training_data, engine, strategy, max_tokens=12, customStrategy=False):\n",
        "  # Get random training_data instance as example\n",
        "  i = random.randint(0,500)\n",
        "  training_document, training_summary = training_data[i]['document'], training_data[i]['summary']\n",
        "  if (strategy == \"tldr\"):\n",
        "    prefix = training_document + \"\\ntl;dr: \" + training_summary + \"\\n\"\n",
        "    prompt = prefix + input + \"\\ntl;dr:\"\n",
        "  elif (strategy == \"article-summary\"):\n",
        "    prefix = \"article: \" + training_document + \"\\nsummary: \" + training_summary\n",
        "    prompt = prefix + \"\\narticle: \" + input + \"\\nsummary:\"\n",
        "  elif (strategy == \"custom\" and customStrategy):\n",
        "    prompt = customStrategy(input)\n",
        "  else:\n",
        "    prompt = input\n",
        "  response = openai.Completion.create(engine=engine, prompt=prompt, max_tokens=max_tokens)\n",
        "  return response"
      ],
      "execution_count": null,
      "outputs": []
    },
    {
      "cell_type": "code",
      "metadata": {
        "id": "oAM7iv_p-oS-"
      },
      "source": [
        "def few_shot(input, training_data, engine, strategy, training_instances=3, max_tokens=12, customStrategy=False):\n",
        "  # Get random training_data instance as example\n",
        "  lst = random.sample(range(1, 500), training_instances)\n",
        "  if (strategy == \"article-summary\"):\n",
        "    prefix = \"\"\n",
        "    for i in lst:\n",
        "      training_document, training_summary = training_data[i]['document'], training_data[i]['summary']\n",
        "      prefix += \"article: \" + training_document + \"\\nsummary: \" + training_summary + \"\\n###\\n\"\n",
        "    prompt = prefix + \"article: \" + input + \"\\nsummary:\"\n",
        "  elif (strategy == \"custom\" and customStrategy):\n",
        "    prompt = customStrategy(input)\n",
        "  else:\n",
        "    prompt = input\n",
        "  response = openai.Completion.create(engine=engine, prompt=prompt, max_tokens=max_tokens)\n",
        "  return response"
      ],
      "execution_count": null,
      "outputs": []
    },
    {
      "cell_type": "code",
      "metadata": {
        "id": "oZead6yAeOXk"
      },
      "source": [
        "def one_shot_dc(input, training_data, engine, strategy, max_tokens=12, customStrategy=False):\n",
        "  # Get random training_data instance as example\n",
        "  i = random.randint(0,500)\n",
        "  training_document, training_summary = training_data[i]['article'], training_data[i]['highlights']\n",
        "  if (strategy == \"tldr\"):\n",
        "    prefix = training_document + \"\\ntl;dr: \" + training_summary + \"\\n\"\n",
        "    prompt = prefix + input + \"\\ntl;dr:\"\n",
        "  elif (strategy == \"article-summary\"):\n",
        "    prefix = \"article: \" + training_document + \"\\nsummary: \" + training_summary\n",
        "    prompt = prefix + \"\\narticle: \" + input + \"\\nsummary:\"\n",
        "  elif (strategy == \"custom\" and customStrategy):\n",
        "    prompt = customStrategy(input)\n",
        "  else:\n",
        "    prompt = input\n",
        "  response = openai.Completion.create(engine=engine, prompt=prompt[0:1948], max_tokens=max_tokens)\n",
        "  return response"
      ],
      "execution_count": 34,
      "outputs": []
    },
    {
      "cell_type": "markdown",
      "metadata": {
        "id": "ln8zvtTuDpVi"
      },
      "source": [
        "## Loading datasets"
      ]
    },
    {
      "cell_type": "code",
      "metadata": {
        "colab": {
          "base_uri": "https://localhost:8080/",
          "height": 414,
          "referenced_widgets": [
            "57e8b7d79d344da988794720e9963aef",
            "4742702e945446e792ae9cde57f5a75c",
            "fbe51a623da0465284347a80d99df9a7",
            "995de8a13b2245c6a31d3963631d1c75",
            "6d9b4d1487c24a908a34aba2858ae17a",
            "772e66e5ca9b4fa38cc9ee8d8731a145",
            "768abe0ec3844b799691a2afafbb86fd",
            "2c4099286a4d462f8ea34fd42cd04ba6",
            "4b0bd526a0ae47d99d7f806429fc3dcc",
            "6172fe76fe144f7393f286ade99cfeda",
            "beffdde1f7e04336a21d52100e0691a9",
            "e1480511e6e447cba5987b895df9a3e1",
            "7fae7645aa22430a95f61d702750bf30",
            "60d7ecd205474fb5b1d675d6a1d94d35",
            "11f64fcd7b15405580e534c1c483f6e8",
            "1e6f59514d164a0fad7373567c90b909",
            "18964be39bfb4d40bce3435d673dda1c",
            "5e276a0705a04bc988fa46d6b32c979f",
            "7cadd7030bbe49899a1e4023be3a9f4c",
            "5e06e94b99c14d4d883c490ab647402f",
            "d3e3639ef9ce4b0c96df0ce6217fdf19",
            "25982c5689424564ba969e1e973d489f",
            "a0d462f0f5fd4766aa2c95caf9e57667",
            "0839fdc483354882b116a2387abea8b9",
            "0aa52403b5ed4cc2b372786bd7b2c16c",
            "44579f9103f34df5a0337a36585daf67",
            "39c439d69fd54238a476adfbb95523e9",
            "17ec9e39324a4378b86890c2a18ec7ee",
            "8ee1aaab950e4a6cb75def14b21cbf77",
            "f1eeb10a06fe4f35a91b42f2b04fd5d2",
            "a6a67f2027d3474ba7822d9c19718012",
            "d9289cfe812c4f6787f80f2307d98dd4",
            "dd192775ab1e42b29876fc072eae654d",
            "db27f4fae34f4f2fa20b285eea984bd3",
            "280ed699286c45bab0e576c252dd79da",
            "96b0ed2ea80a41c3aa19038fbe542a14",
            "5598e43f0b8b48a98ebbeb4c6ec14d4d",
            "e91efee5e61f4ada8aad6f87d0856bb1",
            "aa888385554f461c9183bc1f8d8c3377",
            "b9278d296c2e4863b231265c351fff26",
            "c0e5e9cbd5934ee5bb177989b6f78684",
            "293c63759d26402faca00d676f0e9ebb",
            "fc38fb1b8f714ae6b4bca0fb00191119",
            "27284bc0824c40cba98c8f57a9959ccc",
            "c4bf03379d954a0dac9724bafcc9cd50",
            "fcb36962d6b842c0af448e5fc75b30c2",
            "bc2460485a97426a846f294a87852430",
            "b618e40b599c4bcfb6a37c2c1272df85",
            "d7758ca05f2c49288d66547800195cae",
            "00f2df1f5ae54ce581fd47a9719fc858",
            "b5784fd4fd694d7189c9303737ea80cb",
            "82e68a74f0ac49c8aa7cf3729fbc5bd2",
            "2cb77f172fb340eaaf7e491401b1fbf4",
            "4427628bd9244b5ba66fb2c1ef1cc490",
            "b60cc07614394b3389596e24eb99ee32",
            "ad5383d32c7c44ddbd66a3a49703183a",
            "ab6407e5f8b94381bf4ff58a8bba3bfc",
            "ceca6a9dc84f401bbaea7d7b8308d75d",
            "361f6f823cc3404a92067e4e386cf4f0",
            "361ec555220147139fff4c95ce0846cb",
            "d17772d31a0f458d9fdb363e14c0c764",
            "127fe984a45149999e6aba076a78a22d",
            "70cb4bac6d7d4fc089898f9334f93555",
            "3479828364ce4f759d8dd9d81d879580",
            "02ecb75edf93462d934aac1eee71c173",
            "d4120d39bf3c417093db301bed3f594a",
            "22e57ac58e96445c846f0db95611ff93",
            "d3fc8e1083fe4226abc8f651ac69ed1e",
            "57590c92baf3439597518d8c3e417990",
            "67de3fcf226947ba829fa9b5f9a01e79",
            "3c950b23da3543c8b1bd0ca602eae037",
            "5db05c5b92db42f3a2d19a9bb9c4e133",
            "0882e8ba83fd468f878eb0cb04e02f99",
            "05e18a9b250749639aa80a322cf2f544",
            "e04db48932e84455b0a41b6d82a668e4",
            "d0a82e57c4624483be55ccaa42f01b6e",
            "d357218f42434a1f93782b18ce69b7df",
            "c5371cdf8d8f43d88cedf89e02dc3000",
            "90893edc3b9c4eb6b797e88806f3114b",
            "b1f46be3a978416d856706f93578a632"
          ]
        },
        "id": "-c9ttDEEEx7O",
        "outputId": "f3755f81-1a73-4f26-a216-4ed546c38ddd"
      },
      "source": [
        "train_DC, test_DC = load_dataset(\"cnn_dailymail\", '3.0.0', split=['train', 'test'])"
      ],
      "execution_count": 16,
      "outputs": [
        {
          "output_type": "display_data",
          "data": {
            "application/vnd.jupyter.widget-view+json": {
              "model_id": "57e8b7d79d344da988794720e9963aef",
              "version_minor": 0,
              "version_major": 2
            },
            "text/plain": [
              "HBox(children=(FloatProgress(value=0.0, description='Downloading', max=3528.0, style=ProgressStyle(description…"
            ]
          },
          "metadata": {
            "tags": []
          }
        },
        {
          "output_type": "stream",
          "text": [
            "\n"
          ],
          "name": "stdout"
        },
        {
          "output_type": "display_data",
          "data": {
            "application/vnd.jupyter.widget-view+json": {
              "model_id": "4b0bd526a0ae47d99d7f806429fc3dcc",
              "version_minor": 0,
              "version_major": 2
            },
            "text/plain": [
              "HBox(children=(FloatProgress(value=0.0, description='Downloading', max=1610.0, style=ProgressStyle(description…"
            ]
          },
          "metadata": {
            "tags": []
          }
        },
        {
          "output_type": "stream",
          "text": [
            "\n",
            "Downloading and preparing dataset cnn_dailymail/3.0.0 (download: 558.32 MiB, generated: 1.28 GiB, post-processed: Unknown size, total: 1.82 GiB) to /root/.cache/huggingface/datasets/cnn_dailymail/3.0.0/3.0.0/0128610a44e10f25b4af6689441c72af86205282d26399642f7db38fa7535602...\n"
          ],
          "name": "stdout"
        },
        {
          "output_type": "display_data",
          "data": {
            "application/vnd.jupyter.widget-view+json": {
              "model_id": "18964be39bfb4d40bce3435d673dda1c",
              "version_minor": 0,
              "version_major": 2
            },
            "text/plain": [
              "HBox(children=(FloatProgress(value=1.0, bar_style='info', description='Downloading', max=1.0, style=ProgressSt…"
            ]
          },
          "metadata": {
            "tags": []
          }
        },
        {
          "output_type": "stream",
          "text": [
            "\n"
          ],
          "name": "stdout"
        },
        {
          "output_type": "display_data",
          "data": {
            "application/vnd.jupyter.widget-view+json": {
              "model_id": "0aa52403b5ed4cc2b372786bd7b2c16c",
              "version_minor": 0,
              "version_major": 2
            },
            "text/plain": [
              "HBox(children=(FloatProgress(value=1.0, bar_style='info', description='Downloading', max=1.0, style=ProgressSt…"
            ]
          },
          "metadata": {
            "tags": []
          }
        },
        {
          "output_type": "stream",
          "text": [
            "\n"
          ],
          "name": "stdout"
        },
        {
          "output_type": "display_data",
          "data": {
            "application/vnd.jupyter.widget-view+json": {
              "model_id": "dd192775ab1e42b29876fc072eae654d",
              "version_minor": 0,
              "version_major": 2
            },
            "text/plain": [
              "HBox(children=(FloatProgress(value=0.0, description='Downloading', max=572061.0, style=ProgressStyle(descripti…"
            ]
          },
          "metadata": {
            "tags": []
          }
        },
        {
          "output_type": "stream",
          "text": [
            "\n"
          ],
          "name": "stdout"
        },
        {
          "output_type": "display_data",
          "data": {
            "application/vnd.jupyter.widget-view+json": {
              "model_id": "c0e5e9cbd5934ee5bb177989b6f78684",
              "version_minor": 0,
              "version_major": 2
            },
            "text/plain": [
              "HBox(children=(FloatProgress(value=0.0, description='Downloading', max=12259516.0, style=ProgressStyle(descrip…"
            ]
          },
          "metadata": {
            "tags": []
          }
        },
        {
          "output_type": "stream",
          "text": [
            "\n"
          ],
          "name": "stdout"
        },
        {
          "output_type": "display_data",
          "data": {
            "application/vnd.jupyter.widget-view+json": {
              "model_id": "d7758ca05f2c49288d66547800195cae",
              "version_minor": 0,
              "version_major": 2
            },
            "text/plain": [
              "HBox(children=(FloatProgress(value=0.0, description='Downloading', max=660943.0, style=ProgressStyle(descripti…"
            ]
          },
          "metadata": {
            "tags": []
          }
        },
        {
          "output_type": "stream",
          "text": [
            "\n"
          ],
          "name": "stdout"
        },
        {
          "output_type": "display_data",
          "data": {
            "application/vnd.jupyter.widget-view+json": {
              "model_id": "ab6407e5f8b94381bf4ff58a8bba3bfc",
              "version_minor": 0,
              "version_major": 2
            },
            "text/plain": [
              "HBox(children=(FloatProgress(value=1.0, bar_style='info', max=1.0), HTML(value='')))"
            ]
          },
          "metadata": {
            "tags": []
          }
        },
        {
          "output_type": "stream",
          "text": [
            "\r"
          ],
          "name": "stdout"
        },
        {
          "output_type": "display_data",
          "data": {
            "application/vnd.jupyter.widget-view+json": {
              "model_id": "02ecb75edf93462d934aac1eee71c173",
              "version_minor": 0,
              "version_major": 2
            },
            "text/plain": [
              "HBox(children=(FloatProgress(value=1.0, bar_style='info', max=1.0), HTML(value='')))"
            ]
          },
          "metadata": {
            "tags": []
          }
        },
        {
          "output_type": "stream",
          "text": [
            "\r"
          ],
          "name": "stdout"
        },
        {
          "output_type": "display_data",
          "data": {
            "application/vnd.jupyter.widget-view+json": {
              "model_id": "0882e8ba83fd468f878eb0cb04e02f99",
              "version_minor": 0,
              "version_major": 2
            },
            "text/plain": [
              "HBox(children=(FloatProgress(value=1.0, bar_style='info', max=1.0), HTML(value='')))"
            ]
          },
          "metadata": {
            "tags": []
          }
        },
        {
          "output_type": "stream",
          "text": [
            "\rDataset cnn_dailymail downloaded and prepared to /root/.cache/huggingface/datasets/cnn_dailymail/3.0.0/3.0.0/0128610a44e10f25b4af6689441c72af86205282d26399642f7db38fa7535602. Subsequent calls will reuse this data.\n"
          ],
          "name": "stdout"
        }
      ]
    },
    {
      "cell_type": "code",
      "metadata": {
        "colab": {
          "base_uri": "https://localhost:8080/",
          "height": 235,
          "referenced_widgets": [
            "d494a3e4ec5544dd9ab2b9d7eccd1ad4",
            "7b4623db03ad442db6f0c86b8360e1e5",
            "2bd96ac34ebe48ad8ea6e3549226c5e4",
            "3d30a933da354196b4373a84b8c2ff3e",
            "777daba690ee4ed286302c91c42ae1e5",
            "2537242d69064cab9616b5505873ec5e",
            "772c448d0bee49b1b1c1d3dc34056edc",
            "06b2be399cc349eebdff15c350d43695",
            "85736193dd5849459f761ca6fe2e5f24",
            "0f1450d9aee6438ab9944ea0fcb73eca",
            "7d17f88adcc24c4882f8b9892572f53d",
            "59597c01e4d7469fa0c14f049eea80b3",
            "04138779f9bb468ea78a2e5a5c2fc2a0",
            "f1ea10d024bd4feea207b7dd0b09e7b9",
            "e9899b87573548bf836af0d1c4b5c90e",
            "b9c163bf1a034c9b9799b36b8ae45ed9",
            "7bd50747c0f24a6c9d997b36be092888",
            "4ec8b2cb93a34a92b814e8ffaaa73012",
            "f308ef6d54c843adb36652b71a959e93",
            "5481367f95f141d99e19ad6d6680ad6f",
            "62d9f0f3d1cd4de6adb4572de328a44b",
            "63e2a1c68ac34dabba57d6826187fe54",
            "4c62239c01f74e00b08f48090c468b3a",
            "9601efd5535b4ceba52200c344adb958",
            "b7f3dd19a76346489f1ae3e4db0178fa",
            "ac0ee5fcdb7c4ecbb31b40ab5586f2cd",
            "791fd6f3be0b47849f328c8f18e080eb",
            "c9fcff4d5d7746fcac09647f47d067b2",
            "7f4598ba842e479dad53941bffde113d",
            "8b42918ba851434686f4ba9be5be20c4",
            "138a1021940048b89e658cfed24292da",
            "f91ef3fee028446fa9f85da2c186bb25",
            "22672b896a32471cb8da0db7fbc0c8b2",
            "031fd66513aa4576acb1d887c1baefc2",
            "9ac97ef65e854ad8b175cd87776f5c92",
            "82bf7b8851e14858a2abc2314be03769",
            "40ba057bdde2445eb2de8fc7aec99369",
            "3aee37c3dcf843859021aa3fa9605e51",
            "028127dd17624bc5b0200bd0978f244f",
            "517ab602a1894e96abaf7aaa3cc04b82",
            "d986231119c84993b788352c888487fa",
            "bca926f876224bfa81026551fdcf514b",
            "4251ced00f8d44308756fd876ca3a619",
            "a82549f8d594403bb044c608c212021e",
            "8a66c8aa722a40dcaa15262ee12eb61e",
            "61f1c6e27c2a47a19860bda0fced5e3b",
            "312d5b33d891492aaaec1cf5a39cb9c1",
            "14713e4616e94c15a5d45508b80445f3"
          ]
        },
        "id": "kqxeBm1Iwdi6",
        "outputId": "a2bf3ca0-f1dc-49f5-b400-50a40b0968fc"
      },
      "source": [
        "train_GW, test_GW = load_dataset(\"gigaword\", split=['train', 'test'])"
      ],
      "execution_count": 66,
      "outputs": [
        {
          "output_type": "display_data",
          "data": {
            "application/vnd.jupyter.widget-view+json": {
              "model_id": "d494a3e4ec5544dd9ab2b9d7eccd1ad4",
              "version_minor": 0,
              "version_major": 2
            },
            "text/plain": [
              "HBox(children=(FloatProgress(value=0.0, description='Downloading', max=1853.0, style=ProgressStyle(description…"
            ]
          },
          "metadata": {
            "tags": []
          }
        },
        {
          "output_type": "stream",
          "text": [
            "\n"
          ],
          "name": "stdout"
        },
        {
          "output_type": "display_data",
          "data": {
            "application/vnd.jupyter.widget-view+json": {
              "model_id": "85736193dd5849459f761ca6fe2e5f24",
              "version_minor": 0,
              "version_major": 2
            },
            "text/plain": [
              "HBox(children=(FloatProgress(value=0.0, description='Downloading', max=1099.0, style=ProgressStyle(description…"
            ]
          },
          "metadata": {
            "tags": []
          }
        },
        {
          "output_type": "stream",
          "text": [
            "Using custom data configuration default\n"
          ],
          "name": "stderr"
        },
        {
          "output_type": "stream",
          "text": [
            "\n",
            "Downloading and preparing dataset gigaword/default (download: 551.61 MiB, generated: 918.35 MiB, post-processed: Unknown size, total: 1.44 GiB) to /root/.cache/huggingface/datasets/gigaword/default/1.2.0/c518c578e42a6afe842b09e979ee2907ea42a12b57ba992fae9e9d7347825245...\n"
          ],
          "name": "stdout"
        },
        {
          "output_type": "display_data",
          "data": {
            "application/vnd.jupyter.widget-view+json": {
              "model_id": "7bd50747c0f24a6c9d997b36be092888",
              "version_minor": 0,
              "version_major": 2
            },
            "text/plain": [
              "HBox(children=(FloatProgress(value=1.0, bar_style='info', description='Downloading', max=1.0, style=ProgressSt…"
            ]
          },
          "metadata": {
            "tags": []
          }
        },
        {
          "output_type": "stream",
          "text": [
            "\n"
          ],
          "name": "stdout"
        },
        {
          "output_type": "display_data",
          "data": {
            "application/vnd.jupyter.widget-view+json": {
              "model_id": "b7f3dd19a76346489f1ae3e4db0178fa",
              "version_minor": 0,
              "version_major": 2
            },
            "text/plain": [
              "HBox(children=(FloatProgress(value=1.0, bar_style='info', max=1.0), HTML(value='')))"
            ]
          },
          "metadata": {
            "tags": []
          }
        },
        {
          "output_type": "stream",
          "text": [
            "\r"
          ],
          "name": "stdout"
        },
        {
          "output_type": "display_data",
          "data": {
            "application/vnd.jupyter.widget-view+json": {
              "model_id": "22672b896a32471cb8da0db7fbc0c8b2",
              "version_minor": 0,
              "version_major": 2
            },
            "text/plain": [
              "HBox(children=(FloatProgress(value=1.0, bar_style='info', max=1.0), HTML(value='')))"
            ]
          },
          "metadata": {
            "tags": []
          }
        },
        {
          "output_type": "stream",
          "text": [
            "\r"
          ],
          "name": "stdout"
        },
        {
          "output_type": "display_data",
          "data": {
            "application/vnd.jupyter.widget-view+json": {
              "model_id": "d986231119c84993b788352c888487fa",
              "version_minor": 0,
              "version_major": 2
            },
            "text/plain": [
              "HBox(children=(FloatProgress(value=1.0, bar_style='info', max=1.0), HTML(value='')))"
            ]
          },
          "metadata": {
            "tags": []
          }
        },
        {
          "output_type": "stream",
          "text": [
            "\rDataset gigaword downloaded and prepared to /root/.cache/huggingface/datasets/gigaword/default/1.2.0/c518c578e42a6afe842b09e979ee2907ea42a12b57ba992fae9e9d7347825245. Subsequent calls will reuse this data.\n"
          ],
          "name": "stdout"
        }
      ]
    },
    {
      "cell_type": "markdown",
      "metadata": {
        "id": "JQ3t3JVHvjP_"
      },
      "source": [
        "## Daily Mail/CNN Tests\n",
        "\n",
        "This dataset is commonly used to test the abstractive summarization capabilities of models.\n",
        "\n",
        "Unfortunately, we were only able to run limited tests with this dataset as each document, summary pair for this dataset is quite large.\n",
        "\n",
        "The mean token count for each document is 781 and the mean for each summary is 56."
      ]
    },
    {
      "cell_type": "code",
      "metadata": {
        "colab": {
          "base_uri": "https://localhost:8080/"
        },
        "id": "E5i4RX20IYdN",
        "outputId": "46efd3a1-8a3f-4c19-b377-3087f08592e4"
      },
      "source": [
        "# Sample Data\n",
        "train_DC[0]"
      ],
      "execution_count": 18,
      "outputs": [
        {
          "output_type": "execute_result",
          "data": {
            "text/plain": [
              "{'article': 'It\\'s official: U.S. President Barack Obama wants lawmakers to weigh in on whether to use military force in Syria. Obama sent a letter to the heads of the House and Senate on Saturday night, hours after announcing that he believes military action against Syrian targets is the right step to take over the alleged use of chemical weapons. The proposed legislation from Obama asks Congress to approve the use of military force \"to deter, disrupt, prevent and degrade the potential for future uses of chemical weapons or other weapons of mass destruction.\" It\\'s a step that is set to turn an international crisis into a fierce domestic political battle. There are key questions looming over the debate: What did U.N. weapons inspectors find in Syria? What happens if Congress votes no? And how will the Syrian government react? In a televised address from the White House Rose Garden earlier Saturday, the president said he would take his case to Congress, not because he has to -- but because he wants to. \"While I believe I have the authority to carry out this military action without specific congressional authorization, I know that the country will be stronger if we take this course, and our actions will be even more effective,\" he said. \"We should have this debate, because the issues are too big for business as usual.\" Obama said top congressional leaders had agreed to schedule a debate when the body returns to Washington on September 9. The Senate Foreign Relations Committee will hold a hearing over the matter on Tuesday, Sen. Robert Menendez said. Transcript: Read Obama\\'s full remarks . Syrian crisis: Latest developments . U.N. inspectors leave Syria . Obama\\'s remarks came shortly after U.N. inspectors left Syria, carrying evidence that will determine whether chemical weapons were used in an attack early last week in a Damascus suburb. \"The aim of the game here, the mandate, is very clear -- and that is to ascertain whether chemical weapons were used -- and not by whom,\" U.N. spokesman Martin Nesirky told reporters on Saturday. But who used the weapons in the reported toxic gas attack in a Damascus suburb on August 21 has been a key point of global debate over the Syrian crisis. Top U.S. officials have said there\\'s no doubt that the Syrian government was behind it, while Syrian officials have denied responsibility and blamed jihadists fighting with the rebels. British and U.S. intelligence reports say the attack involved chemical weapons, but U.N. officials have stressed the importance of waiting for an official report from inspectors. The inspectors will share their findings with U.N. Secretary-General Ban Ki-moon Ban, who has said he wants to wait until the U.N. team\\'s final report is completed before presenting it to the U.N. Security Council. The Organization for the Prohibition of Chemical Weapons, which nine of the inspectors belong to, said Saturday that it could take up to three weeks to analyze the evidence they collected. \"It needs time to be able to analyze the information and the samples,\" Nesirky said. He noted that Ban has repeatedly said there is no alternative to a political solution to the crisis in Syria, and that \"a military solution is not an option.\" Bergen:  Syria is a problem from hell for the U.S. Obama: \\'This menace must be confronted\\' Obama\\'s senior advisers have debated the next steps to take, and the president\\'s comments Saturday came amid mounting political pressure over the situation in Syria. Some U.S. lawmakers have called for immediate action while others warn of stepping into what could become a quagmire. Some global leaders have expressed support, but the British Parliament\\'s vote against military action earlier this week was a blow to Obama\\'s hopes of getting strong backing from key NATO allies. On Saturday, Obama proposed what he said would be a limited military action against Syrian President Bashar al-Assad. Any military attack would not be open-ended or include U.S. ground forces, he said. Syria\\'s alleged use of chemical weapons earlier this month \"is an assault on human dignity,\" the president said. A failure to respond with force, Obama argued,  \"could lead to escalating use of chemical weapons or their proliferation to terrorist groups who would do our people harm. In a world with many dangers, this menace must be confronted.\" Syria missile strike: What would happen next? Map: U.S. and allied assets around Syria . Obama decision came Friday night . On Friday night, the president made a last-minute decision to consult lawmakers. What will happen if they vote no? It\\'s unclear. A senior administration official told CNN that Obama has the authority to act without Congress -- even if Congress rejects his request for authorization to use force. Obama on Saturday continued to shore up support for a strike on the al-Assad government. He spoke by phone with French President Francois Hollande before his Rose Garden speech. \"The two leaders agreed that the international community must deliver a resolute message to the Assad regime -- and others who would consider using chemical weapons -- that these crimes are unacceptable and those who violate this international norm will be held accountable by the world,\" the White House said. Meanwhile, as uncertainty loomed over how Congress would weigh in, U.S. military officials said they remained at the ready. 5 key assertions: U.S. intelligence report on Syria . Syria: Who wants what after chemical weapons horror . Reactions mixed to Obama\\'s speech . A spokesman for the Syrian National Coalition said that the opposition group was disappointed by Obama\\'s announcement. \"Our fear now is that the lack of action could embolden the regime and they repeat his attacks in a more serious way,\" said spokesman Louay Safi. \"So we are quite concerned.\" Some members of Congress applauded Obama\\'s decision. House Speaker John Boehner, Majority Leader Eric Cantor, Majority Whip Kevin McCarthy and Conference Chair Cathy McMorris Rodgers issued a statement Saturday praising the president. \"Under the Constitution, the responsibility to declare war lies with Congress,\" the Republican lawmakers said. \"We are glad the president is seeking authorization for any military action in Syria in response to serious, substantive questions being raised.\" More than 160 legislators, including 63 of Obama\\'s fellow Democrats, had signed letters calling for either a vote or at least a \"full debate\" before any U.S. action. British Prime Minister David Cameron, whose own attempt to get lawmakers in his country to support military action in Syria failed earlier this week, responded to Obama\\'s speech in a Twitter post Saturday. \"I understand and support Barack Obama\\'s position on Syria,\" Cameron said. An influential lawmaker in Russia -- which has stood by Syria and criticized the United States -- had his own theory. \"The main reason Obama is turning to the Congress:  the military operation did not get enough support either in the world, among allies of the US or in the United States itself,\" Alexei Pushkov, chairman of the international-affairs committee of the Russian State Duma, said in a Twitter post. In the United States, scattered groups of anti-war protesters around the country took to the streets Saturday. \"Like many other Americans...we\\'re just tired of the United States getting involved and invading and bombing other countries,\" said Robin Rosecrans, who was among hundreds at a Los Angeles demonstration. What do Syria\\'s neighbors think? Why Russia, China, Iran stand by Assad . Syria\\'s government unfazed . After Obama\\'s speech, a military and political analyst on Syrian state TV said Obama is \"embarrassed\" that Russia opposes military action against Syria, is \"crying for help\" for someone to come to his rescue and is facing two defeats -- on the political and military levels. Syria\\'s prime minister appeared unfazed by the saber-rattling. \"The Syrian Army\\'s status is on maximum readiness and fingers are on the trigger to confront all challenges,\" Wael Nader al-Halqi said during a meeting with a delegation of Syrian expatriates from Italy, according to a banner on Syria State TV that was broadcast prior to Obama\\'s address. An anchor on Syrian state television said Obama \"appeared to be preparing for an aggression on Syria based on repeated lies.\" A top Syrian diplomat told the state television network that Obama was facing pressure to take military action from Israel, Turkey, some Arabs and right-wing extremists in the United States. \"I think he has done well by doing what Cameron did in terms of taking the issue to Parliament,\" said Bashar Jaafari, Syria\\'s ambassador to the United Nations. Both Obama and Cameron, he said, \"climbed to the top of the tree and don\\'t know how to get down.\" The Syrian government has denied that it used chemical weapons in the August 21 attack, saying that jihadists fighting with the rebels used them in an effort to turn global sentiments against it. British intelligence had put the number of people killed in the attack at more than 350. On Saturday, Obama said \"all told, well over 1,000 people were murdered.\" U.S. Secretary of State John Kerry on Friday cited a death toll of 1,429, more than 400 of them children. No explanation was offered for the discrepancy. Iran: U.S. military action in Syria would spark \\'disaster\\' Opinion: Why strikes in Syria are a bad idea .',\n",
              " 'highlights': 'Syrian official: Obama climbed to the top of the tree, \"doesn\\'t know how to get down\"\\nObama sends a letter to the heads of the House and Senate .\\nObama to seek congressional approval on military action against Syria .\\nAim is to determine whether CW were used, not by whom, says U.N. spokesman .',\n",
              " 'id': '0001d1afc246a7964130f43ae940af6bc6c57f01'}"
            ]
          },
          "metadata": {
            "tags": []
          },
          "execution_count": 18
        }
      ]
    },
    {
      "cell_type": "code",
      "metadata": {
        "colab": {
          "base_uri": "https://localhost:8080/"
        },
        "id": "3IwbFns3h9fE",
        "outputId": "e9fb81e0-6403-4678-d690-a084b48bd489"
      },
      "source": [
        "# Find longest summary\n",
        "longest_summary = 0\n",
        "for e in test_DC:\n",
        "  if (len(e[\"highlights\"]) > longest_summary):\n",
        "    longest_summary = len(e[\"highlights\"])\n",
        "    index = e\n",
        "longest_summary, e"
      ],
      "execution_count": 25,
      "outputs": [
        {
          "output_type": "execute_result",
          "data": {
            "text/plain": [
              "(3410,\n",
              " {'article': \"Peter Morris was devastated when his sister, Claire, died in a car crash when she was just 32. Only a year before, he had walked her down the aisle to give her away to her husband, Malcolm Webster, from Surrey, then aged 33, who seemed equally bereft at the loss of his wife. Peter, from\\xa0Gillingham, Kent, believed Claire had died in a tragic accident that happened in Aberdeen, Scotland, in 1994. Scroll down for video . Peter Morris, left, was devastated when his sister, Claire, pictured right on her hen do, died in a car crash . It took two decades for the truth to be revealed - Claire had in fact been murdered by Webster so he could cash in on her life insurance. Webster had drugged his wife at their home in the Scottish village of Tarves, where they had settled after their wedding, before taking her for a drive. He then deliberately crashed their car and, after making his own escape, set it on fire so Claire had no hope of survival. Last year Claire's story was turned into an ITV drama starring Sheridan Smith. And now Peter has gone in front of the cameras to talk about his grief and to reveal the shocking detail of his sister's death, which he is still coming to terms with 21 years later. 'The fire brigade said it was the most intense fire they had ever seen from a mile away, the flames were leaping 20, 30 feet, it was just ridiculous,' Peter reveals on the latest episode of Britain's Darkest Taboos. 'A very brave fireman tried to retrieve what was left of Claire. There wasn't much left of her, poor love.' Peter said he was shocked and heartbroken when he was told his sister, a qualified nurse, had lost her life in just terrible circumstances. Claire and Malcolm Webster pictured on their wedding day in 1993, the following year he murdered her . He had no reason to suspect Webster, who Claire had met at a party, had drugged and then burned her alive. Claire had been besotted with him and was delighted when they tied the knot in 1993. Peter recalls: 'He seemed like the perfect gentleman which is exactly what she would have wanted. He was a sort of Colin Firth type character.' He said he and Webster consoled one another at the funeral and Peter believed he was suffering just as much as he was. 'He didn't say a lot at the funeral, he appeared to be in a complete state of shock as well,' he said. 'We were all standing round the graveside, in my right hand I was holding on to Malcolm's left hand. 'I was in floods of tears, and I looked at Malcolm, and he, he was also in floods of tears. And that more than anything else convinced me that it had been a genuine accident.' For years Peter continued to believe the car crash had been accidental, and while some officers who investigated the scene of the crash had their misgivings, they had no concrete evidence to suggest anything different. Felicity Drumm, pictured on Britain's Darkest Taboos, was Webster's second wife. He attempted to kill her in circumstances similar to Claire's death . Peter lost touch with his brother-in-law when Webster moved to New Zealand - but it was there that his true colours were revealed when he tried to murder again. He married Felicity Drumm and they had son together. Unbeknownst to Felicity, he started faking her signature to take out life insurance polices in her name and also began poisoning her like he had done to Claire. Felicity also appears on Britain's Darkest Taboos and reveals how it felt to be drugged. She said: 'These episodes would often begin with a feeling of blurred vision or double vision and unsteadiness on my feet, my speech was sometimes become a little bit slurred, I would stagger around as if I was drunk and then would fall into a deep sleep.' She couldn't believe her husband could be the cause of her illness but a pattern was forming. 'These events occurred after he had prepared a meal or a drink for me, they were always at the weekends, never inconveniently when I had to be able to go to work,' she said. Then in circumstances similar to Claire's death, in 1999 she was driven by Webster to a remote location when she was feeling tired and drowsy. It seems Webster could have been about to commit murder again - until he was interrupted by a phone call from Felicity's concerned parents. Felicity recalls how Webster was angry that the call had woken her up and urged her to ignore it but she persuaded him to drive her home so she could see her father. Webster then fled while Felicity learned some shocking truths from her parents. Webster pictured in 2011 when he was jailed for life after being found guilty of murder . 'We discovered that he'd opened up a private mail box, he had redirected all of our mail including bank mail which had prevented me from discovering that gradually the account was being fleeced,' she said. 'There were enquiries to real estate agents back in the Cornwall and Devon area suggesting he would be returning shortly to the UK with his infant son. At the bottom of his briefcase there was a total of nine life insurance policies, which collectively was in excess of a million dollars on my death, and they had my signature forged on them.' Chillingly, they also discovered a petrol canister in her car and Felicity is convinced she narrowly escaped death that day. Webster went on the run back to the UK while Felicity reported him to the New Zealand police. After investigating, they urged Scottish police to reopen the case into Claire's death. The lead officer in the case was Charles Henry. He said: 'The original fatal road accident was highly suspicious and it bore all the hallmarks of what was happening in New Zealand. At that particular point we were facing a highly dangerous individual who was a threat to any women that he was going to be with.' Felicity pictured in 2011 when she gave evidence against Webster during the trial in which he was dubbed 'the black widower' However, it would take years for the police to build a strong enough case to prove Claire's death was not an accident and gain enough evidence to charge Webster. By then, he was back living in Scotland and was planning to marry another woman who had no idea of his murderous history. In May 2011, after a long running trial during which he was dubbed 'The Black Widower', Webster was found guilty of murdering Claire, attempting to murder Felicity and attempting to bigamously marry a third woman to gain access to her estate. Now aged 55, he is currently serving a life sentence with a minimum term of 30 years. 'I think his sentence aptly reflects the horribleness of his crimes, and the fact that he feels no remorse, that it was all premeditated and, given the opportunity he was about to do it again,' said Felicity, who gave evidence against the father of her child at his trial. Peter, who had to wait 21 years to get justice for Claire, said he and his family can now finally move on even though their lives will never be the same again. Peter says Claire's death nearly destroyed their family but now they are rebuilding their lives . He said: 'If anything it taught me that you just have to be a little bit more cautious in life as to who you trust and when you trust them, because we could all be living next door to the next Malcolm Webster. 'It was an experience that did nearly destroy me and it nearly destroyed my family but thank God it didn't and thank God over a period of time we've managed to put the pieces back together and move on.' Britain's Darkest Taboos continues with The Black Widower Murdered My Sister on Sunday 12 April at 9pm, only on CI .\",\n",
              "  'highlights': 'Peter Morris was devastated when his sister, Claire, died in a car crash .\\nOnly a year before, she had married Malcolm Webster .\\nHe believed his sister had died in a tragic accident .\\nIt took two decades for the truth to be revealed .\\nClaire was murdered by Webster so he could cash in on her life insurance .\\nTried to do same to his second wife in 1999 - and was jailed in 2011 .',\n",
              "  'id': 'fffd506034c5275fe57220e669ad7e01605d597c'})"
            ]
          },
          "metadata": {
            "tags": []
          },
          "execution_count": 25
        }
      ]
    },
    {
      "cell_type": "code",
      "metadata": {
        "id": "s0eb7JoMIXkC"
      },
      "source": [
        "scorer = rouge_scorer.RougeScorer(['rouge1', 'rouge2', 'rougeL'], use_stemmer=True)\n",
        "\n",
        "def dc_one_shot_wrapper(dataset, training_data, test_limit, engine, strategy, max_tokens=12, customStrategy=False):\n",
        "  d = []\n",
        "  n = len(dataset) if (len(dataset) < test_limit) else test_limit\n",
        "  for i in range(n):\n",
        "    inputs, references = dataset[i]['article'], dataset[i]['highlights']\n",
        "\n",
        "    # Right now we just mirror the references to save credits\n",
        "    predictions = one_shot_dc(inputs, engine=engine, training_data=training_data, strategy=strategy, max_tokens=max_tokens, customStrategy=customStrategy)[\"choices\"][0][\"text\"]\n",
        "\n",
        "    score = scorer.score(predictions, references)\n",
        "\n",
        "    # Save each each input, reference, prediction 3-tuple\n",
        "    d.append([inputs, references, predictions, score])\n",
        "    \n",
        "  # Save to csv\n",
        "  df = pd.DataFrame(d, columns=[\"inputs\", \"references\", \"predictions\", \"score\"])\n",
        "\n",
        "  # Return score\n",
        "  return df"
      ],
      "execution_count": 35,
      "outputs": []
    },
    {
      "cell_type": "markdown",
      "metadata": {
        "id": "vTAmbFKvwHrs"
      },
      "source": [
        "## Gigaword Dataset\n",
        "\n",
        "We use the Gigaword summarization dataset which has short inputs (31.4 tokens) and summaries (8.3 tokens)."
      ]
    },
    {
      "cell_type": "code",
      "metadata": {
        "colab": {
          "base_uri": "https://localhost:8080/"
        },
        "id": "SMWEuUhjN0Ni",
        "outputId": "ace0c616-15cc-4f81-e1f5-3e1191d4a5b5"
      },
      "source": [
        "# Find longest summary\n",
        "longest_summary = 0\n",
        "for e in test_GW:\n",
        "  if (len(e[\"summary\"]) > longest_summary):\n",
        "    longest_summary = len(e[\"summary\"])\n",
        "    index = e\n",
        "longest_summary, e"
      ],
      "execution_count": null,
      "outputs": [
        {
          "output_type": "execute_result",
          "data": {
            "text/plain": [
              "(137,\n",
              " {'document': 'un under-secretary-general for political affairs ibrahim gambari said on wednesday that although the future of the peace process in the middle east is hopeful , it still faces immense challenges .',\n",
              "  'summary': 'un senior official says peace process in middle east hopeful with immense challenges'})"
            ]
          },
          "metadata": {
            "tags": []
          },
          "execution_count": 172
        }
      ]
    },
    {
      "cell_type": "code",
      "metadata": {
        "colab": {
          "base_uri": "https://localhost:8080/"
        },
        "id": "GdADhrQZxr8V",
        "outputId": "712bf211-d368-4442-b295-1e064d2ba330"
      },
      "source": [
        "# Sample Data\n",
        "train_GW[501]"
      ],
      "execution_count": null,
      "outputs": [
        {
          "output_type": "execute_result",
          "data": {
            "text/plain": [
              "{'document': \"white house hopeful barack obama professes no anxiety about polls that show his longstanding lead evaporating , but senior democrats are rattled at the republicans ' sarah UNK charge .\",\n",
              " 'summary': 'obama keeps cool as democratic fears heat up'}"
            ]
          },
          "metadata": {
            "tags": []
          },
          "execution_count": 173
        }
      ]
    },
    {
      "cell_type": "code",
      "metadata": {
        "colab": {
          "base_uri": "https://localhost:8080/",
          "height": 52
        },
        "id": "o6fAMvmQRg2D",
        "outputId": "a0095ab9-f6c6-44b5-a717-b1b622e918c1"
      },
      "source": [
        "train_GW[0]['document']"
      ],
      "execution_count": null,
      "outputs": [
        {
          "output_type": "execute_result",
          "data": {
            "application/vnd.google.colaboratory.intrinsic+json": {
              "type": "string"
            },
            "text/plain": [
              "\"australia 's current account deficit shrunk by a record #.## billion dollars -lrb- #.## billion us -rrb- in the june quarter due to soaring commodity prices , figures released monday showed .\""
            ]
          },
          "metadata": {
            "tags": []
          },
          "execution_count": 20
        }
      ]
    },
    {
      "cell_type": "code",
      "metadata": {
        "id": "ThZNoKNjRbx7"
      },
      "source": [
        "scorer = rouge_scorer.RougeScorer(['rouge1', 'rouge2', 'rougeL'], use_stemmer=True)\n",
        "\n",
        "def gw_wrapper(dataset, test_limit, engine, strategy, max_tokens=12, customStrategy=False):\n",
        "  d = []\n",
        "  n = len(dataset) if (len(dataset) < test_limit) else test_limit\n",
        "  for i in range(n):\n",
        "    inputs, references = dataset[i]['document'], dataset[i]['summary']\n",
        "\n",
        "    predictions = zero_shot(inputs, engine=engine, strategy=strategy, max_tokens=max_tokens, customStrategy=customStrategy)[\"choices\"][0][\"text\"]\n",
        "\n",
        "    score = scorer.score(predictions, references)\n",
        "\n",
        "    # Save each each input, reference, prediction 3-tuple\n",
        "    d.append([inputs, references, predictions, score])\n",
        "    \n",
        "  # Save to csv\n",
        "  df = pd.DataFrame(d, columns=[\"inputs\", \"references\", \"predictions\", \"score\"])\n",
        "\n",
        "  # Return score\n",
        "  return df"
      ],
      "execution_count": null,
      "outputs": []
    },
    {
      "cell_type": "code",
      "metadata": {
        "id": "GuBs4tC0bF_h"
      },
      "source": [
        "scorer = rouge_scorer.RougeScorer(['rouge1', 'rouge2', 'rougeL'], use_stemmer=True)\n",
        "\n",
        "def gw_one_shot_wrapper(dataset, training_data, test_limit, engine, strategy, max_tokens=12, customStrategy=False):\n",
        "  d = []\n",
        "  n = len(dataset) if (len(dataset) < test_limit) else test_limit\n",
        "  for i in range(n):\n",
        "    inputs, references = dataset[i]['document'], dataset[i]['summary']\n",
        "\n",
        "    # Right now we just mirror the references to save credits\n",
        "    predictions = one_shot(inputs, engine=engine, training_data=training_data, strategy=strategy, max_tokens=max_tokens, customStrategy=customStrategy)[\"choices\"][0][\"text\"]\n",
        "\n",
        "    score = scorer.score(predictions, references)\n",
        "\n",
        "    # Save each each input, reference, prediction 3-tuple\n",
        "    d.append([inputs, references, predictions, score])\n",
        "    \n",
        "  # Save to csv\n",
        "  df = pd.DataFrame(d, columns=[\"inputs\", \"references\", \"predictions\", \"score\"])\n",
        "\n",
        "  # Return score\n",
        "  return df"
      ],
      "execution_count": null,
      "outputs": []
    },
    {
      "cell_type": "code",
      "metadata": {
        "id": "-RMpVSZ2_8nS"
      },
      "source": [
        "scorer = rouge_scorer.RougeScorer(['rouge1', 'rouge2', 'rougeL'], use_stemmer=True)\n",
        "\n",
        "def gw_few_shot_wrapper(dataset, training_data, training_instances, test_limit, engine, strategy, max_tokens=12, customStrategy=False):\n",
        "  d = []\n",
        "  n = len(dataset) if (len(dataset) < test_limit) else test_limit\n",
        "  for i in range(n):\n",
        "    inputs, references = dataset[i]['document'], dataset[i]['summary']\n",
        "\n",
        "    # Right now we just mirror the references to save credits\n",
        "    predictions = few_shot(inputs, training_data=training_data, engine=engine, strategy=strategy, training_instances=training_instances, max_tokens=max_tokens, customStrategy=customStrategy)[\"choices\"][0][\"text\"]\n",
        "\n",
        "    score = scorer.score(predictions, references)\n",
        "\n",
        "    # Save each each input, reference, prediction 3-tuple\n",
        "    d.append([inputs, references, predictions, score])\n",
        "    \n",
        "  # Save to csv\n",
        "  df = pd.DataFrame(d, columns=[\"inputs\", \"references\", \"predictions\", \"score\"])\n",
        "\n",
        "  # Return score\n",
        "  return df"
      ],
      "execution_count": null,
      "outputs": []
    },
    {
      "cell_type": "code",
      "metadata": {
        "id": "ZjbpQIY9G4CI"
      },
      "source": [
        "df_gw = gw_wrapper(test_GW, test_limit=1)"
      ],
      "execution_count": null,
      "outputs": []
    },
    {
      "cell_type": "code",
      "metadata": {
        "colab": {
          "base_uri": "https://localhost:8080/",
          "height": 114
        },
        "id": "vehR5paZCGik",
        "outputId": "6f6d3ce2-0622-4df6-f25b-a07c84cb9218"
      },
      "source": [
        "df_gw.head()"
      ],
      "execution_count": null,
      "outputs": [
        {
          "output_type": "execute_result",
          "data": {
            "text/html": [
              "<div>\n",
              "<style scoped>\n",
              "    .dataframe tbody tr th:only-of-type {\n",
              "        vertical-align: middle;\n",
              "    }\n",
              "\n",
              "    .dataframe tbody tr th {\n",
              "        vertical-align: top;\n",
              "    }\n",
              "\n",
              "    .dataframe thead th {\n",
              "        text-align: right;\n",
              "    }\n",
              "</style>\n",
              "<table border=\"1\" class=\"dataframe\">\n",
              "  <thead>\n",
              "    <tr style=\"text-align: right;\">\n",
              "      <th></th>\n",
              "      <th>inputs</th>\n",
              "      <th>references</th>\n",
              "      <th>predictions</th>\n",
              "      <th>score</th>\n",
              "    </tr>\n",
              "  </thead>\n",
              "  <tbody>\n",
              "    <tr>\n",
              "      <th>0</th>\n",
              "      <td>japan 's nec corp. and UNK computer corp. of t...</td>\n",
              "      <td>nec UNK in computer sales tie-up</td>\n",
              "      <td>heck, IT company</td>\n",
              "      <td>{'rouge1': (0.0, 0.0, 0.0), 'rougeL': (0.0, 0....</td>\n",
              "    </tr>\n",
              "  </tbody>\n",
              "</table>\n",
              "</div>"
            ],
            "text/plain": [
              "                                              inputs  ...                                              score\n",
              "0  japan 's nec corp. and UNK computer corp. of t...  ...  {'rouge1': (0.0, 0.0, 0.0), 'rougeL': (0.0, 0....\n",
              "\n",
              "[1 rows x 4 columns]"
            ]
          },
          "metadata": {
            "tags": []
          },
          "execution_count": 127
        }
      ]
    },
    {
      "cell_type": "markdown",
      "metadata": {
        "id": "ZTivmpx0ypFH"
      },
      "source": [
        "## ROUGE Scoring\n",
        "\n",
        "We calculate the ROUGE score for GPT-3 using the `rouge` huggingface implementation and the `rouge_score` package"
      ]
    },
    {
      "cell_type": "code",
      "metadata": {
        "id": "GNEzQR1397r0",
        "colab": {
          "base_uri": "https://localhost:8080/",
          "height": 66,
          "referenced_widgets": [
            "91aac4a7893b4a4a91f3fb884fa83e44",
            "be69e9a505bb465a8a6c60bdfd25385f",
            "88eb8c3c694949fe8a119a87360bf199",
            "31a49c87e229462396ce3f49abb0c83b",
            "2992409abb73459cad066599fe782015",
            "0feb74472b8b49c4ad8355016402d535",
            "bfa1cf9f39a145259bab5524b4071885",
            "fbad2d2ef6564579b43f4ab100d33de5"
          ]
        },
        "outputId": "465a6fe5-b5be-4f40-e0ab-5e4a19680c02"
      },
      "source": [
        "rouge = load_metric('rouge')"
      ],
      "execution_count": 54,
      "outputs": [
        {
          "output_type": "display_data",
          "data": {
            "application/vnd.jupyter.widget-view+json": {
              "model_id": "91aac4a7893b4a4a91f3fb884fa83e44",
              "version_minor": 0,
              "version_major": 2
            },
            "text/plain": [
              "HBox(children=(FloatProgress(value=0.0, description='Downloading', max=1955.0, style=ProgressStyle(description…"
            ]
          },
          "metadata": {
            "tags": []
          }
        },
        {
          "output_type": "stream",
          "text": [
            "\n"
          ],
          "name": "stdout"
        }
      ]
    },
    {
      "cell_type": "code",
      "metadata": {
        "id": "his9GCO7jvT3"
      },
      "source": [
        "def rouge_cumulative(df):\n",
        "  \n",
        "  # Turn pandas column into \n",
        "  rouge.add_batch(predictions=df[\"predictions\"].to_list(), references=df[\"references\"].to_list())\n",
        "\n",
        "  # Save each each input, reference, prediction 3-tuple\n",
        "  score = rouge.compute()\n",
        "\n",
        "  # Return score\n",
        "  return score"
      ],
      "execution_count": 55,
      "outputs": []
    },
    {
      "cell_type": "markdown",
      "metadata": {
        "id": "B5N3uuNJFUaY"
      },
      "source": [
        "## Tests (Daily Mail/CNN)"
      ]
    },
    {
      "cell_type": "code",
      "metadata": {
        "id": "tGO9loRudARv"
      },
      "source": [
        "# Ada one shot\n",
        "df_dc_ada_one = dc_one_shot_wrapper(test_DC, training_data=train_DC, test_limit=100, max_tokens=100, strategy=\"article-summary\", engine=\"ada\")"
      ],
      "execution_count": 36,
      "outputs": []
    },
    {
      "cell_type": "code",
      "metadata": {
        "id": "zSytncLugyK8"
      },
      "source": [
        "df_dc_ada_one.to_csv('df_dc_ada_one.csv')"
      ],
      "execution_count": 39,
      "outputs": []
    },
    {
      "cell_type": "code",
      "metadata": {
        "colab": {
          "base_uri": "https://localhost:8080/",
          "height": 282
        },
        "id": "NvwSTXGOgyPv",
        "outputId": "d062bbc3-59a3-413b-c25a-86df8d352d0b"
      },
      "source": [
        "# Ada one shot ROUGE1\n",
        "newSeries = df_dc_ada_one[\"score\"].apply(lambda x: x['rouge1'][1])\n",
        "newSeries.hist(bins=100)"
      ],
      "execution_count": 41,
      "outputs": [
        {
          "output_type": "execute_result",
          "data": {
            "text/plain": [
              "<matplotlib.axes._subplots.AxesSubplot at 0x7f13f3255438>"
            ]
          },
          "metadata": {
            "tags": []
          },
          "execution_count": 41
        },
        {
          "output_type": "display_data",
          "data": {
            "image/png": "[encoded data removed]",
            "text/plain": [
              "<Figure size 432x288 with 1 Axes>"
            ]
          },
          "metadata": {
            "tags": [],
            "needs_background": "light"
          }
        }
      ]
    },
    {
      "cell_type": "code",
      "metadata": {
        "id": "6s7eCRsOtWEE"
      },
      "source": [
        "# Babbage one shot\n",
        "df_dc_babbage_one = dc_one_shot_wrapper(test_DC, training_data=train_DC, test_limit=100, max_tokens=100, strategy=\"article-summary\", engine=\"babbage\")"
      ],
      "execution_count": 45,
      "outputs": []
    },
    {
      "cell_type": "code",
      "metadata": {
        "id": "ERPMlYWttulb"
      },
      "source": [
        "df_dc_babbage_one.to_csv('df_dc_babbage_one.csv')"
      ],
      "execution_count": 46,
      "outputs": []
    },
    {
      "cell_type": "code",
      "metadata": {
        "colab": {
          "base_uri": "https://localhost:8080/",
          "height": 282
        },
        "id": "MbvI7G9CtevR",
        "outputId": "51f6edc3-e2c9-496a-8243-ded0540ff930"
      },
      "source": [
        "# Babbage one shot ROUGE1\n",
        "newSeries = df_dc_babbage_one[\"score\"].apply(lambda x: x['rouge1'][1])\n",
        "newSeries.hist(bins=100)"
      ],
      "execution_count": 47,
      "outputs": [
        {
          "output_type": "execute_result",
          "data": {
            "text/plain": [
              "<matplotlib.axes._subplots.AxesSubplot at 0x7f13f3158048>"
            ]
          },
          "metadata": {
            "tags": []
          },
          "execution_count": 47
        },
        {
          "output_type": "display_data",
          "data": {
            "image/png": "[encoded data removed]",
            "text/plain": [
              "<Figure size 432x288 with 1 Axes>"
            ]
          },
          "metadata": {
            "tags": [],
            "needs_background": "light"
          }
        }
      ]
    },
    {
      "cell_type": "code",
      "metadata": {
        "id": "ABerK-onuOBs"
      },
      "source": [
        "# Curie one shot\n",
        "df_dc_curie_one = dc_one_shot_wrapper(test_DC, training_data=train_DC, test_limit=100, max_tokens=100, strategy=\"article-summary\", engine=\"curie\")"
      ],
      "execution_count": 48,
      "outputs": []
    },
    {
      "cell_type": "code",
      "metadata": {
        "id": "f-nwlmqUuUY5"
      },
      "source": [
        "df_dc_curie_one.to_csv('df_dc_curie_one.csv')"
      ],
      "execution_count": 49,
      "outputs": []
    },
    {
      "cell_type": "code",
      "metadata": {
        "colab": {
          "base_uri": "https://localhost:8080/",
          "height": 282
        },
        "id": "tDTBv-vsuXHE",
        "outputId": "dc87da43-3baf-4d84-c72a-0a49fcd8923c"
      },
      "source": [
        "# Curie one shot ROUGE1\n",
        "newSeries = df_dc_curie_one[\"score\"].apply(lambda x: x['rouge1'][1])\n",
        "newSeries.hist(bins=100)"
      ],
      "execution_count": 50,
      "outputs": [
        {
          "output_type": "execute_result",
          "data": {
            "text/plain": [
              "<matplotlib.axes._subplots.AxesSubplot at 0x7f13f317e470>"
            ]
          },
          "metadata": {
            "tags": []
          },
          "execution_count": 50
        },
        {
          "output_type": "display_data",
          "data": {
            "image/png": "[encoded data removed]",
            "text/plain": [
              "<Figure size 432x288 with 1 Axes>"
            ]
          },
          "metadata": {
            "tags": [],
            "needs_background": "light"
          }
        }
      ]
    },
    {
      "cell_type": "code",
      "metadata": {
        "id": "A-XWQiZ9g4cL"
      },
      "source": [
        "# Davinci one shot\n",
        "df_dc_davinci_one = dc_one_shot_wrapper(test_DC, training_data=train_DC, test_limit=100, max_tokens=100, strategy=\"article-summary\", engine=\"davinci\")"
      ],
      "execution_count": 42,
      "outputs": []
    },
    {
      "cell_type": "code",
      "metadata": {
        "id": "OCO03aQHhATd"
      },
      "source": [
        "df_dc_davinci_one.to_csv('df_dc_davinci_one.csv')"
      ],
      "execution_count": 43,
      "outputs": []
    },
    {
      "cell_type": "code",
      "metadata": {
        "colab": {
          "base_uri": "https://localhost:8080/",
          "height": 282
        },
        "id": "9LWNDbBAhG4V",
        "outputId": "14408adb-e775-44fc-ef1e-39fd6e693e65"
      },
      "source": [
        "# Davinci one shot ROUGE1\n",
        "newSeries = df_dc_davinci_one[\"score\"].apply(lambda x: x['rouge1'][1])\n",
        "newSeries.hist(bins=100)"
      ],
      "execution_count": 44,
      "outputs": [
        {
          "output_type": "execute_result",
          "data": {
            "text/plain": [
              "<matplotlib.axes._subplots.AxesSubplot at 0x7f13f2f2beb8>"
            ]
          },
          "metadata": {
            "tags": []
          },
          "execution_count": 44
        },
        {
          "output_type": "display_data",
          "data": {
            "image/png": "[encoded data removed]",
            "text/plain": [
              "<Figure size 432x288 with 1 Axes>"
            ]
          },
          "metadata": {
            "tags": [],
            "needs_background": "light"
          }
        }
      ]
    },
    {
      "cell_type": "code",
      "metadata": {
        "id": "wayegj92y5_H"
      },
      "source": [
        "# Cumulative one shot ROUGE Scores\n",
        "ada_one_score_dc = rouge_cumulative(df_dc_ada_one)\n",
        "babbage_one_score_dc = rouge_cumulative(df_dc_babbage_one)\n",
        "curie_one_score_dc = rouge_cumulative(df_dc_curie_one)\n",
        "davinci_one_score_dc = rouge_cumulative(df_dc_davinci_one)"
      ],
      "execution_count": 61,
      "outputs": []
    },
    {
      "cell_type": "code",
      "metadata": {
        "colab": {
          "base_uri": "https://localhost:8080/"
        },
        "id": "3hWTllU90j82",
        "outputId": "f9a2ce6d-59e8-437e-94fc-867b816489a4"
      },
      "source": [
        "ada_one_score_dc"
      ],
      "execution_count": 62,
      "outputs": [
        {
          "output_type": "execute_result",
          "data": {
            "text/plain": [
              "{'rouge1': AggregateScore(low=Score(precision=0.06485717124967764, recall=0.14876101010896256, fmeasure=0.08716170196704333), mid=Score(precision=0.073392053068218, recall=0.16655811711809065, fmeasure=0.09782620068774213), high=Score(precision=0.08272565992623009, recall=0.1848527403102631, fmeasure=0.10925283666199746)),\n",
              " 'rouge2': AggregateScore(low=Score(precision=0.001771004258001249, recall=0.004143024588332252, fmeasure=0.0024523529656976257), mid=Score(precision=0.003251836145155949, recall=0.008054272117056702, fmeasure=0.004501225088257955), high=Score(precision=0.004851386798585967, recall=0.013471918104553457, fmeasure=0.006798152335811567)),\n",
              " 'rougeL': AggregateScore(low=Score(precision=0.04542381941717621, recall=0.10526653382361674, fmeasure=0.061007451040076446), mid=Score(precision=0.05219458552257189, recall=0.11742239746087674, fmeasure=0.0685804552814383), high=Score(precision=0.058947101857647906, recall=0.1305345229508464, fmeasure=0.07519230091399007)),\n",
              " 'rougeLsum': AggregateScore(low=Score(precision=0.05532605743453611, recall=0.12592138364916775, fmeasure=0.07408803984840845), mid=Score(precision=0.062447076144794306, recall=0.14066927826422992, fmeasure=0.08241501892704953), high=Score(precision=0.06989629667682144, recall=0.15489781576303766, fmeasure=0.0913523748686009))}"
            ]
          },
          "metadata": {
            "tags": []
          },
          "execution_count": 62
        }
      ]
    },
    {
      "cell_type": "code",
      "metadata": {
        "colab": {
          "base_uri": "https://localhost:8080/"
        },
        "id": "w4Pm94kU0oMZ",
        "outputId": "7a88c262-32e0-4596-ecd5-4442ad23ce53"
      },
      "source": [
        "babbage_one_score_dc"
      ],
      "execution_count": 64,
      "outputs": [
        {
          "output_type": "execute_result",
          "data": {
            "text/plain": [
              "{'rouge1': AggregateScore(low=Score(precision=0.06497029906655687, recall=0.1433712168030316, fmeasure=0.08623235957233569), mid=Score(precision=0.07459485170724871, recall=0.16107777594869027, fmeasure=0.0977703098967298), high=Score(precision=0.08448368717480519, recall=0.17751499301022095, fmeasure=0.10811364565879568)),\n",
              " 'rouge2': AggregateScore(low=Score(precision=0.0014888111505373268, recall=0.003537639263795882, fmeasure=0.002064814919074477), mid=Score(precision=0.002627208168140777, recall=0.00649909496213639, fmeasure=0.003563524162034846), high=Score(precision=0.004076908345696691, recall=0.010521462113488133, fmeasure=0.0054772256292972546)),\n",
              " 'rougeL': AggregateScore(low=Score(precision=0.04587656578872836, recall=0.10189214917081581, fmeasure=0.061251490483745265), mid=Score(precision=0.05290997148480969, recall=0.11584611073122508, fmeasure=0.06946956364361433), high=Score(precision=0.059659797320665495, recall=0.12804808017733435, fmeasure=0.07741945034881197)),\n",
              " 'rougeLsum': AggregateScore(low=Score(precision=0.056571325841736395, recall=0.12455759098618678, fmeasure=0.07543085925813711), mid=Score(precision=0.06481545290824552, recall=0.13991983481534884, fmeasure=0.08464215183168174), high=Score(precision=0.07380532853721426, recall=0.15482480426013762, fmeasure=0.09394104498129305))}"
            ]
          },
          "metadata": {
            "tags": []
          },
          "execution_count": 64
        }
      ]
    },
    {
      "cell_type": "code",
      "metadata": {
        "colab": {
          "base_uri": "https://localhost:8080/"
        },
        "id": "s9vXaMFK0l1G",
        "outputId": "59abab7e-7f7b-44f2-a93b-36a7ecbf6db4"
      },
      "source": [
        "curie_one_score_dc"
      ],
      "execution_count": 63,
      "outputs": [
        {
          "output_type": "execute_result",
          "data": {
            "text/plain": [
              "{'rouge1': AggregateScore(low=Score(precision=0.05362443523399745, recall=0.12095205234017495, fmeasure=0.07224157583847801), mid=Score(precision=0.06235826437496765, recall=0.13926900933334097, fmeasure=0.08383691968755866), high=Score(precision=0.07167506086155184, recall=0.1585546058269513, fmeasure=0.0955565343226556)),\n",
              " 'rouge2': AggregateScore(low=Score(precision=0.001729227599329458, recall=0.003993539864149914, fmeasure=0.0024078866389191916), mid=Score(precision=0.0029397221560965355, recall=0.0067416380491224625, fmeasure=0.004029886065371807), high=Score(precision=0.004622895725090518, recall=0.010688837004662806, fmeasure=0.00631007353989358)),\n",
              " 'rougeL': AggregateScore(low=Score(precision=0.03784544958340456, recall=0.08679202492859615, fmeasure=0.051555787183259746), mid=Score(precision=0.04376689496924511, recall=0.10007866188484339, fmeasure=0.05919965124694515), high=Score(precision=0.04947091762029647, recall=0.11309875134148469, fmeasure=0.06674760767055118)),\n",
              " 'rougeLsum': AggregateScore(low=Score(precision=0.04539500354789534, recall=0.10285448834453703, fmeasure=0.06164974466016387), mid=Score(precision=0.05225022371725001, recall=0.11857967994554225, fmeasure=0.07061226438281898), high=Score(precision=0.05988241004613872, recall=0.13328692048146126, fmeasure=0.07996125158467306))}"
            ]
          },
          "metadata": {
            "tags": []
          },
          "execution_count": 63
        }
      ]
    },
    {
      "cell_type": "code",
      "metadata": {
        "colab": {
          "base_uri": "https://localhost:8080/"
        },
        "id": "_zJ5A8yV0qJ2",
        "outputId": "5fe7af2f-b21b-4c79-a231-fdf5f53a30ce"
      },
      "source": [
        "davinci_one_score_dc"
      ],
      "execution_count": 65,
      "outputs": [
        {
          "output_type": "execute_result",
          "data": {
            "text/plain": [
              "{'rouge1': AggregateScore(low=Score(precision=0.05767966016531869, recall=0.13367562580210016, fmeasure=0.07874261972328889), mid=Score(precision=0.06613154714003922, recall=0.15384101391501995, fmeasure=0.09048739930837386), high=Score(precision=0.07477379323747425, recall=0.17258327158584896, fmeasure=0.10182919533588679)),\n",
              " 'rouge2': AggregateScore(low=Score(precision=0.0018491976249591193, recall=0.004343407656440121, fmeasure=0.0025679246259008052), mid=Score(precision=0.0031522787014475937, recall=0.007821936991171952, fmeasure=0.0044135654523807626), high=Score(precision=0.004924454378905914, recall=0.012157052774360565, fmeasure=0.006869981738087216)),\n",
              " 'rougeL': AggregateScore(low=Score(precision=0.04161943963341578, recall=0.09769795497313713, fmeasure=0.05708763947695959), mid=Score(precision=0.04715959052703302, recall=0.11072235888735876, fmeasure=0.06456841290083028), high=Score(precision=0.052408769891911226, recall=0.12427735682825095, fmeasure=0.07180314095225059)),\n",
              " 'rougeLsum': AggregateScore(low=Score(precision=0.04840323634105695, recall=0.11318238805804348, fmeasure=0.06649413244466346), mid=Score(precision=0.055807898265533916, recall=0.12920529785598095, fmeasure=0.07615767290310532), high=Score(precision=0.06247263715954711, recall=0.1437192227166696, fmeasure=0.0847363041534207))}"
            ]
          },
          "metadata": {
            "tags": []
          },
          "execution_count": 65
        }
      ]
    },
    {
      "cell_type": "markdown",
      "metadata": {
        "id": "Rqb9L2FadA0g"
      },
      "source": [
        "## Tests (Gigaword)"
      ]
    },
    {
      "cell_type": "markdown",
      "metadata": {
        "id": "6BF2vMYDFmXP"
      },
      "source": [
        "### Testing Different Engines\n",
        "\n",
        "OpenAI comes with four different engines: `ada`, `babbage`, `curie`, `davinci`\n",
        "\n",
        "We export the results of `davinci` for human testing\n",
        "```\n",
        "article: ...\n",
        "summary: ...\n",
        "###\n",
        "article: ...\n",
        "summary: ...\n",
        "###\n",
        "...\n",
        "###\n",
        "article: ...\n",
        "summary:\n",
        "```\n",
        "I graph the ROUGE1 score for each of these tests. Although the mean of each test is low relative to the SOTA, you can see the performance improve a bit as we use better engines and more significantly as we go from zero to one to few shot variants. The few shot (10) davinci engine is by far the best. Each of the test results has been exported to a csv file.\n",
        "\n"
      ]
    },
    {
      "cell_type": "code",
      "metadata": {
        "id": "c8h1vp_GAxKu"
      },
      "source": [
        "# Ada few shot 5 instances\n",
        "df_gw_ada_few = gw_few_shot_wrapper(test_GW, training_data=train_GW, test_limit=200, training_instances=5, strategy=\"article-summary\", engine=\"ada\")"
      ],
      "execution_count": null,
      "outputs": []
    },
    {
      "cell_type": "code",
      "metadata": {
        "id": "qYzDEweIAy5J"
      },
      "source": [
        "df_gw_ada_few.to_csv('df_gw_ada_few.csv')"
      ],
      "execution_count": null,
      "outputs": []
    },
    {
      "cell_type": "code",
      "metadata": {
        "colab": {
          "base_uri": "https://localhost:8080/",
          "height": 282
        },
        "id": "XrxWox8YCP-U",
        "outputId": "cc0ce375-470a-4a4f-b226-7e7c0c8c4687"
      },
      "source": [
        "# Ada few shot ROUGE1\n",
        "newSeries = df_gw_ada_few[\"score\"].apply(lambda x: x['rouge1'][1])\n",
        "newSeries.hist(bins=100)"
      ],
      "execution_count": null,
      "outputs": [
        {
          "output_type": "execute_result",
          "data": {
            "text/plain": [
              "<matplotlib.axes._subplots.AxesSubplot at 0x7f4eee4d38d0>"
            ]
          },
          "metadata": {
            "tags": []
          },
          "execution_count": 353
        },
        {
          "output_type": "display_data",
          "data": {
            "image/png": "[encoded data removed]",
            "text/plain": [
              "<Figure size 432x288 with 1 Axes>"
            ]
          },
          "metadata": {
            "tags": [],
            "needs_background": "light"
          }
        }
      ]
    },
    {
      "cell_type": "code",
      "metadata": {
        "id": "ukaqjkP1Co2D"
      },
      "source": [
        "# Ada few shot 10 instances\n",
        "df_gw_ada_few_ten = gw_few_shot_wrapper(test_GW, training_data=train_GW, test_limit=200, training_instances=10, strategy=\"article-summary\", engine=\"ada\")"
      ],
      "execution_count": null,
      "outputs": []
    },
    {
      "cell_type": "code",
      "metadata": {
        "id": "_J_AclyICv05"
      },
      "source": [
        "df_gw_ada_few_ten.to_csv('df_gw_ada_few_ten.csv')"
      ],
      "execution_count": null,
      "outputs": []
    },
    {
      "cell_type": "code",
      "metadata": {
        "colab": {
          "base_uri": "https://localhost:8080/",
          "height": 282
        },
        "id": "6UYGKMMyC0jV",
        "outputId": "846d6fba-9e6b-46b9-ccda-1990a3144a33"
      },
      "source": [
        "# Ada few shot ROUGE1\n",
        "newSeries = df_gw_ada_few_ten[\"score\"].apply(lambda x: x['rouge1'][1])\n",
        "newSeries.hist(bins=100)"
      ],
      "execution_count": null,
      "outputs": [
        {
          "output_type": "execute_result",
          "data": {
            "text/plain": [
              "<matplotlib.axes._subplots.AxesSubplot at 0x7f4eedea1fd0>"
            ]
          },
          "metadata": {
            "tags": []
          },
          "execution_count": 356
        },
        {
          "output_type": "display_data",
          "data": {
            "image/png": "[encoded data removed]",
            "text/plain": [
              "<Figure size 432x288 with 1 Axes>"
            ]
          },
          "metadata": {
            "tags": [],
            "needs_background": "light"
          }
        }
      ]
    },
    {
      "cell_type": "code",
      "metadata": {
        "id": "MQmzbfFAUZ5Y"
      },
      "source": [
        "# Babbage\n",
        "df_gw_babbage_zero = gw_wrapper(test_GW, test_limit=500, strategy=\"article-summary\", engine=\"babbage\")"
      ],
      "execution_count": null,
      "outputs": []
    },
    {
      "cell_type": "code",
      "metadata": {
        "id": "J5b_LXCj2zSI"
      },
      "source": [
        "df_gw_babbage_zero.to_csv('df_gw_babbage_zero.csv')"
      ],
      "execution_count": null,
      "outputs": []
    },
    {
      "cell_type": "code",
      "metadata": {
        "colab": {
          "base_uri": "https://localhost:8080/",
          "height": 284
        },
        "id": "xF7ZPBEr2bkq",
        "outputId": "fdf21110-7784-4e18-95bf-bb0dc0ffb7e1"
      },
      "source": [
        "# Babbage zero shot ROUGE1\n",
        "newSeries = df_gw_babbage_zero[\"score\"].apply(lambda x: x['rouge1'][1])\n",
        "newSeries.hist(bins=100)"
      ],
      "execution_count": null,
      "outputs": [
        {
          "output_type": "execute_result",
          "data": {
            "text/plain": [
              "<matplotlib.axes._subplots.AxesSubplot at 0x7f4eeea90438>"
            ]
          },
          "metadata": {
            "tags": []
          },
          "execution_count": 313
        },
        {
          "output_type": "display_data",
          "data": {
            "image/png": "[encoded data removed]",
            "text/plain": [
              "<Figure size 432x288 with 1 Axes>"
            ]
          },
          "metadata": {
            "tags": [],
            "needs_background": "light"
          }
        }
      ]
    },
    {
      "cell_type": "code",
      "metadata": {
        "id": "Mt6CLsAA73UD"
      },
      "source": [
        "# Babbage one shot\n",
        "df_gw_babbage_one = gw_one_shot_wrapper(test_GW, training_data=train_GW, test_limit=500, strategy=\"article-summary\", engine=\"babbage\")"
      ],
      "execution_count": null,
      "outputs": []
    },
    {
      "cell_type": "code",
      "metadata": {
        "id": "uJrgfkrb8lbx"
      },
      "source": [
        "df_gw_babbage_one.to_csv('df_gw_babbage_one.csv')"
      ],
      "execution_count": null,
      "outputs": []
    },
    {
      "cell_type": "code",
      "metadata": {
        "colab": {
          "base_uri": "https://localhost:8080/",
          "height": 282
        },
        "id": "V2LAyTrK8LPf",
        "outputId": "146d3572-de65-44b6-aaeb-06e17ca766df"
      },
      "source": [
        "# Babbage one shot ROUGE1\n",
        "newSeries = df_gw_babbage_one[\"score\"].apply(lambda x: x['rouge1'][1])\n",
        "newSeries.hist(bins=100)"
      ],
      "execution_count": null,
      "outputs": [
        {
          "output_type": "execute_result",
          "data": {
            "text/plain": [
              "<matplotlib.axes._subplots.AxesSubplot at 0x7f4eee256390>"
            ]
          },
          "metadata": {
            "tags": []
          },
          "execution_count": 331
        },
        {
          "output_type": "display_data",
          "data": {
            "image/png": "[encoded data removed]",
            "text/plain": [
              "<Figure size 432x288 with 1 Axes>"
            ]
          },
          "metadata": {
            "tags": [],
            "needs_background": "light"
          }
        }
      ]
    },
    {
      "cell_type": "code",
      "metadata": {
        "id": "ACYln_5sDVKf"
      },
      "source": [
        "# Babbage few shot 10 instances\n",
        "df_gw_babbage_few_ten = gw_few_shot_wrapper(test_GW, training_data=train_GW, test_limit=200, training_instances=10, strategy=\"article-summary\", engine=\"babbage\")"
      ],
      "execution_count": null,
      "outputs": []
    },
    {
      "cell_type": "code",
      "metadata": {
        "id": "YjWU4ILEEV60"
      },
      "source": [
        "df_gw_babbage_few_ten.to_csv('df_gw_babbage_few_ten.csv')"
      ],
      "execution_count": null,
      "outputs": []
    },
    {
      "cell_type": "code",
      "metadata": {
        "colab": {
          "base_uri": "https://localhost:8080/",
          "height": 282
        },
        "id": "QZJ2JuH2Em0K",
        "outputId": "7dcfaa18-edf5-49db-dc24-b6b653f55f02"
      },
      "source": [
        "# Babbage few shot ROUGE1\n",
        "newSeries = df_gw_babbage_few_ten[\"score\"].apply(lambda x: x['rouge1'][1])\n",
        "newSeries.hist(bins=100)"
      ],
      "execution_count": null,
      "outputs": [
        {
          "output_type": "execute_result",
          "data": {
            "text/plain": [
              "<matplotlib.axes._subplots.AxesSubplot at 0x7f4eedc68470>"
            ]
          },
          "metadata": {
            "tags": []
          },
          "execution_count": 360
        },
        {
          "output_type": "display_data",
          "data": {
            "image/png": "[encoded data removed]",
            "text/plain": [
              "<Figure size 432x288 with 1 Axes>"
            ]
          },
          "metadata": {
            "tags": [],
            "needs_background": "light"
          }
        }
      ]
    },
    {
      "cell_type": "code",
      "metadata": {
        "id": "CABnsmqjUYoQ"
      },
      "source": [
        "# Curie zero shot\n",
        "df_gw_curie_zero = gw_wrapper(test_GW, test_limit=500, strategy=\"article-summary\", engine=\"curie\")"
      ],
      "execution_count": null,
      "outputs": []
    },
    {
      "cell_type": "code",
      "metadata": {
        "id": "pMbHDPdb2sax"
      },
      "source": [
        "df_gw_curie_zero.to_csv('df_gw_curie_zero.csv')"
      ],
      "execution_count": null,
      "outputs": []
    },
    {
      "cell_type": "code",
      "metadata": {
        "colab": {
          "base_uri": "https://localhost:8080/",
          "height": 282
        },
        "id": "bp5rLuuOqzIo",
        "outputId": "a5bb9365-eb6f-4675-be64-b9b41782b94b"
      },
      "source": [
        "# Curie zero shot ROUGE1\n",
        "newSeries = df_gw_curie_zero[\"score\"].apply(lambda x: x['rouge1'][1])\n",
        "newSeries.hist(bins=100)"
      ],
      "execution_count": null,
      "outputs": [
        {
          "output_type": "execute_result",
          "data": {
            "text/plain": [
              "<matplotlib.axes._subplots.AxesSubplot at 0x7f4eeedd12e8>"
            ]
          },
          "metadata": {
            "tags": []
          },
          "execution_count": 310
        },
        {
          "output_type": "display_data",
          "data": {
            "image/png": "[encoded data removed]",
            "text/plain": [
              "<Figure size 432x288 with 1 Axes>"
            ]
          },
          "metadata": {
            "tags": [],
            "needs_background": "light"
          }
        }
      ]
    },
    {
      "cell_type": "code",
      "metadata": {
        "id": "n_cDjO3WFvws"
      },
      "source": [
        "# Curie one shot\n",
        "df_gw_curie_one = gw_one_shot_wrapper(test_GW, training_data=train_GW, test_limit=500, strategy=\"article-summary\", engine=\"curie\")"
      ],
      "execution_count": null,
      "outputs": []
    },
    {
      "cell_type": "code",
      "metadata": {
        "id": "xCxaWpK3F595"
      },
      "source": [
        "df_gw_curie_one.to_csv('df_gw_curie_one.csv')"
      ],
      "execution_count": null,
      "outputs": []
    },
    {
      "cell_type": "code",
      "metadata": {
        "colab": {
          "base_uri": "https://localhost:8080/",
          "height": 282
        },
        "id": "aRGJrX_uGvS9",
        "outputId": "699ecd29-4e9c-48be-ed96-9a6147ee611b"
      },
      "source": [
        "# Curie one shot ROUGE1\n",
        "newSeries = df_gw_curie_one[\"score\"].apply(lambda x: x['rouge1'][1])\n",
        "newSeries.hist(bins=100)"
      ],
      "execution_count": null,
      "outputs": [
        {
          "output_type": "execute_result",
          "data": {
            "text/plain": [
              "<matplotlib.axes._subplots.AxesSubplot at 0x7f4eedb9ba58>"
            ]
          },
          "metadata": {
            "tags": []
          },
          "execution_count": 363
        },
        {
          "output_type": "display_data",
          "data": {
            "image/png": "[encoded data removed]",
            "text/plain": [
              "<Figure size 432x288 with 1 Axes>"
            ]
          },
          "metadata": {
            "tags": [],
            "needs_background": "light"
          }
        }
      ]
    },
    {
      "cell_type": "code",
      "metadata": {
        "id": "9XV5lv0NFePU"
      },
      "source": [
        "# Curie few shot 10 instances\n",
        "df_gw_curie_few_ten = gw_few_shot_wrapper(test_GW, training_data=train_GW, test_limit=200, training_instances=10, strategy=\"article-summary\", engine=\"curie\")"
      ],
      "execution_count": null,
      "outputs": []
    },
    {
      "cell_type": "code",
      "metadata": {
        "id": "uBXOQHcYF9sc"
      },
      "source": [
        "df_gw_curie_few_ten.to_csv('df_gw_curie_few_ten.csv')"
      ],
      "execution_count": null,
      "outputs": []
    },
    {
      "cell_type": "code",
      "metadata": {
        "colab": {
          "base_uri": "https://localhost:8080/",
          "height": 282
        },
        "id": "x-9l-Ka2HKqC",
        "outputId": "62aa313e-941c-4d12-850e-16094f0d65f9"
      },
      "source": [
        "# Curie few shot ROUGE1\n",
        "newSeries = df_gw_curie_few_ten[\"score\"].apply(lambda x: x['rouge1'][1])\n",
        "newSeries.hist(bins=100)"
      ],
      "execution_count": null,
      "outputs": [
        {
          "output_type": "execute_result",
          "data": {
            "text/plain": [
              "<matplotlib.axes._subplots.AxesSubplot at 0x7f4eed7eef28>"
            ]
          },
          "metadata": {
            "tags": []
          },
          "execution_count": 366
        },
        {
          "output_type": "display_data",
          "data": {
            "image/png": "[encoded data removed]",
            "text/plain": [
              "<Figure size 432x288 with 1 Axes>"
            ]
          },
          "metadata": {
            "tags": [],
            "needs_background": "light"
          }
        }
      ]
    },
    {
      "cell_type": "code",
      "metadata": {
        "id": "aEAE5G4vUa35"
      },
      "source": [
        "# Davinci\n",
        "df_gw_davinci_zero = gw_wrapper(test_GW, test_limit=500, strategy=\"article-summary\", engine=\"davinci\")"
      ],
      "execution_count": null,
      "outputs": []
    },
    {
      "cell_type": "code",
      "metadata": {
        "id": "EuMBAjEc5FNn"
      },
      "source": [
        "df_gw_davinci_zero.to_csv('df_gw_davinci_zero.csv')"
      ],
      "execution_count": null,
      "outputs": []
    },
    {
      "cell_type": "code",
      "metadata": {
        "colab": {
          "base_uri": "https://localhost:8080/",
          "height": 282
        },
        "id": "-LnKoN5q6scV",
        "outputId": "93c63638-5520-44aa-fb77-4bd7ee88daf7"
      },
      "source": [
        "# Davinci zero shot ROUGE1\n",
        "newSeries = df_gw_davinci_zero[\"score\"].apply(lambda x: x['rouge1'][1])\n",
        "newSeries.hist(bins=100)"
      ],
      "execution_count": null,
      "outputs": [
        {
          "output_type": "execute_result",
          "data": {
            "text/plain": [
              "<matplotlib.axes._subplots.AxesSubplot at 0x7f4eef6751d0>"
            ]
          },
          "metadata": {
            "tags": []
          },
          "execution_count": 317
        },
        {
          "output_type": "display_data",
          "data": {
            "image/png": "[encoded data removed]",
            "text/plain": [
              "<Figure size 432x288 with 1 Axes>"
            ]
          },
          "metadata": {
            "tags": [],
            "needs_background": "light"
          }
        }
      ]
    },
    {
      "cell_type": "code",
      "metadata": {
        "id": "6f0mbsWSLnnU"
      },
      "source": [
        "# Davinci one shot\n",
        "df_gw_davinci_one = gw_one_shot_wrapper(test_GW, training_data=train_GW, test_limit=200, strategy=\"article-summary\", engine=\"davinci\")"
      ],
      "execution_count": null,
      "outputs": []
    },
    {
      "cell_type": "code",
      "metadata": {
        "id": "FeIzi3kmLrBe"
      },
      "source": [
        "df_gw_davinci_one.to_csv('df_gw_davinci_one.csv')"
      ],
      "execution_count": null,
      "outputs": []
    },
    {
      "cell_type": "code",
      "metadata": {
        "colab": {
          "base_uri": "https://localhost:8080/",
          "height": 282
        },
        "id": "V37asurbMAhX",
        "outputId": "425d0a41-3949-4bf5-e67b-c9a873de0ec0"
      },
      "source": [
        "# Davinci one shot ROUGE1\n",
        "newSeries = df_gw_davinci_one[\"score\"].apply(lambda x: x['rouge1'][1])\n",
        "newSeries.hist(bins=100)"
      ],
      "execution_count": null,
      "outputs": [
        {
          "output_type": "execute_result",
          "data": {
            "text/plain": [
              "<matplotlib.axes._subplots.AxesSubplot at 0x7f4eed55b080>"
            ]
          },
          "metadata": {
            "tags": []
          },
          "execution_count": 370
        },
        {
          "output_type": "display_data",
          "data": {
            "image/png": "[encoded data removed]",
            "text/plain": [
              "<Figure size 432x288 with 1 Axes>"
            ]
          },
          "metadata": {
            "tags": [],
            "needs_background": "light"
          }
        }
      ]
    },
    {
      "cell_type": "code",
      "metadata": {
        "id": "VltK-EqFMdkm"
      },
      "source": [
        "# Davinci few shot 10 instances\n",
        "df_gw_davinci_few_ten = gw_few_shot_wrapper(test_GW, training_data=train_GW, test_limit=100, training_instances=10, strategy=\"article-summary\", engine=\"davinci\")"
      ],
      "execution_count": null,
      "outputs": []
    },
    {
      "cell_type": "code",
      "metadata": {
        "id": "I2RSjlQKMoAE"
      },
      "source": [
        "df_gw_davinci_few_ten.to_csv('df_gw_davinci_few_ten.csv')"
      ],
      "execution_count": null,
      "outputs": []
    },
    {
      "cell_type": "code",
      "metadata": {
        "colab": {
          "base_uri": "https://localhost:8080/",
          "height": 282
        },
        "id": "4YpUXhDsNNKU",
        "outputId": "9816b38d-b75c-4a49-e9fe-2294726d6f92"
      },
      "source": [
        "# Davinci few shot ROUGE1\n",
        "newSeries = df_gw_davinci_few_ten[\"score\"].apply(lambda x: x['rouge1'][1])\n",
        "newSeries.hist(bins=100)"
      ],
      "execution_count": null,
      "outputs": [
        {
          "output_type": "execute_result",
          "data": {
            "text/plain": [
              "<matplotlib.axes._subplots.AxesSubplot at 0x7f4eed3c7d30>"
            ]
          },
          "metadata": {
            "tags": []
          },
          "execution_count": 373
        },
        {
          "output_type": "display_data",
          "data": {
            "image/png": "[encoded data removed]",
            "text/plain": [
              "<Figure size 432x288 with 1 Axes>"
            ]
          },
          "metadata": {
            "tags": [],
            "needs_background": "light"
          }
        }
      ]
    },
    {
      "cell_type": "code",
      "metadata": {
        "id": "s3gmHoV_qnaq"
      },
      "source": [
        "# Cumulative Zero shot ROUGE Scores\n",
        "ada_zero_score = rouge_cumulative(df_gw_article_summary_zero)\n",
        "curie_zero_score = rouge_cumulative(df_gw_curie_zero)\n",
        "babbage_zero_score = rouge_cumulative(df_gw_babbage_zero)\n",
        "davinci_zero_score = rouge_cumulative(df_gw_davinci_zero)"
      ],
      "execution_count": null,
      "outputs": []
    },
    {
      "cell_type": "code",
      "metadata": {
        "colab": {
          "base_uri": "https://localhost:8080/"
        },
        "id": "wIGeTaz07QtH",
        "outputId": "00da0387-6eee-44a8-9afe-fdc7695aad50"
      },
      "source": [
        "ada_zero_score"
      ],
      "execution_count": null,
      "outputs": [
        {
          "output_type": "execute_result",
          "data": {
            "text/plain": [
              "{'rouge1': AggregateScore(low=Score(precision=0.05055442099567098, recall=0.05777453571755036, fmeasure=0.05278939914422178), mid=Score(precision=0.057819841269841285, recall=0.0669763277572101, fmeasure=0.06017711932018356), high=Score(precision=0.06609862914862917, recall=0.07743038697413697, fmeasure=0.06905659577219009)),\n",
              " 'rouge2': AggregateScore(low=Score(precision=0.006584608585858586, recall=0.008250674603174602, fmeasure=0.007033514535990475), mid=Score(precision=0.009475793650793648, recall=0.012030555555555556, fmeasure=0.010068626860792696), high=Score(precision=0.01302294191919192, recall=0.016682261904761905, fmeasure=0.013684664888233172)),\n",
              " 'rougeL': AggregateScore(low=Score(precision=0.04684162698412696, recall=0.053467618590559735, fmeasure=0.048697100405914365), mid=Score(precision=0.053808982683982674, recall=0.06175841348194283, fmeasure=0.05579831965447585), high=Score(precision=0.06068726190476188, recall=0.07060361237618591, fmeasure=0.06322205568224784)),\n",
              " 'rougeLsum': AggregateScore(low=Score(precision=0.04632843975468975, recall=0.05332318160597569, fmeasure=0.04814462247282433), mid=Score(precision=0.05390129870129871, recall=0.061962116315057436, fmeasure=0.055915334252327725), high=Score(precision=0.06154528679653677, recall=0.0706001577425842, fmeasure=0.06362895308811788))}"
            ]
          },
          "metadata": {
            "tags": []
          },
          "execution_count": 321
        }
      ]
    },
    {
      "cell_type": "code",
      "metadata": {
        "colab": {
          "base_uri": "https://localhost:8080/"
        },
        "id": "nB71tcH78bH2",
        "outputId": "44e4b140-887b-497a-8539-a0da1fc63dbb"
      },
      "source": [
        "babbage_zero_score"
      ],
      "execution_count": null,
      "outputs": [
        {
          "output_type": "execute_result",
          "data": {
            "text/plain": [
              "{'rouge1': AggregateScore(low=Score(precision=0.05144087662337656, recall=0.052907142199905326, fmeasure=0.05018678999754904), mid=Score(precision=0.0599900793650793, recall=0.06092627672035565, fmeasure=0.0577829926847796), high=Score(precision=0.06948191738816735, recall=0.07012567912350808, fmeasure=0.06581428091927992)),\n",
              " 'rouge2': AggregateScore(low=Score(precision=0.004272126623376625, recall=0.004189543650793652, fmeasure=0.004138676715011857), mid=Score(precision=0.007532287157287158, recall=0.007929761904761905, fmeasure=0.007275846521899153), high=Score(precision=0.011857067099567097, recall=0.012206587301587295, fmeasure=0.011171252599739442)),\n",
              " 'rougeL': AggregateScore(low=Score(precision=0.05014161976911976, recall=0.05152847565081115, fmeasure=0.048573102708471295), mid=Score(precision=0.05797406204906202, recall=0.05955321783479674, fmeasure=0.056027498343129783), high=Score(precision=0.0664552525252525, recall=0.06795682065376146, fmeasure=0.06364030843255294)),\n",
              " 'rougeLsum': AggregateScore(low=Score(precision=0.05027894300144297, recall=0.05191040321885713, fmeasure=0.049052094159569175), mid=Score(precision=0.057984126984126916, recall=0.05934026791921524, fmeasure=0.055860847384147594), high=Score(precision=0.06674607142857143, recall=0.0677364325367615, fmeasure=0.06370689254057911))}"
            ]
          },
          "metadata": {
            "tags": []
          },
          "execution_count": 325
        }
      ]
    },
    {
      "cell_type": "code",
      "metadata": {
        "colab": {
          "base_uri": "https://localhost:8080/"
        },
        "id": "_op-EsKR7c7k",
        "outputId": "f8ed9937-eb48-4fa2-9f75-e3f8128fe86f"
      },
      "source": [
        "curie_zero_score"
      ],
      "execution_count": null,
      "outputs": [
        {
          "output_type": "execute_result",
          "data": {
            "text/plain": [
              "{'rouge1': AggregateScore(low=Score(precision=0.07108848484848485, recall=0.07514267977120921, fmeasure=0.07120701744589719), mid=Score(precision=0.08122178932178943, recall=0.08597937283304938, fmeasure=0.08083762369468718), high=Score(precision=0.09175841269841291, recall=0.09678504703629716, fmeasure=0.09100462171539819)),\n",
              " 'rouge2': AggregateScore(low=Score(precision=0.011616080447330448, recall=0.011948939255189257, fmeasure=0.011476008555857632), mid=Score(precision=0.016492965367965365, recall=0.017304034854034853, fmeasure=0.016238175532757575), high=Score(precision=0.02141954545454544, recall=0.022720699161949152, fmeasure=0.021229738769572355)),\n",
              " 'rougeL': AggregateScore(low=Score(precision=0.06545416847041843, recall=0.06888901496379436, fmeasure=0.06521650919425508), mid=Score(precision=0.07444080086580093, recall=0.07905108625035098, fmeasure=0.0743632754405274), high=Score(precision=0.08417875541125548, recall=0.09018289651933042, fmeasure=0.08437810080108736)),\n",
              " 'rougeLsum': AggregateScore(low=Score(precision=0.06596365440115438, recall=0.06938138772991712, fmeasure=0.06579205870326678), mid=Score(precision=0.07430324675324683, recall=0.07891408615893913, fmeasure=0.07420661303573808), high=Score(precision=0.0846828914141415, recall=0.09035629575081791, fmeasure=0.08477811085529711))}"
            ]
          },
          "metadata": {
            "tags": []
          },
          "execution_count": 324
        }
      ]
    },
    {
      "cell_type": "code",
      "metadata": {
        "colab": {
          "base_uri": "https://localhost:8080/"
        },
        "id": "4RQIN5gs8diW",
        "outputId": "8fc2abe9-1cd9-4137-e8ec-5f038fe75ea3"
      },
      "source": [
        "davinci_zero_score"
      ],
      "execution_count": null,
      "outputs": [
        {
          "output_type": "execute_result",
          "data": {
            "text/plain": [
              "{'rouge1': AggregateScore(low=Score(precision=0.07046140151515154, recall=0.07402715275522553, fmeasure=0.07035532042449946), mid=Score(precision=0.0791329725829726, recall=0.08437807214715123, fmeasure=0.07911977536870185), high=Score(precision=0.08964501082251093, recall=0.09618297566146454, fmeasure=0.0898863135804315)),\n",
              " 'rouge2': AggregateScore(low=Score(precision=0.007398612914862917, recall=0.008100399531024531, fmeasure=0.007657672945333633), mid=Score(precision=0.010683766233766231, recall=0.011980801143301143, fmeasure=0.011017854029928338), high=Score(precision=0.014947065295815283, recall=0.016888314393939393, fmeasure=0.015302127029466848)),\n",
              " 'rougeL': AggregateScore(low=Score(precision=0.06519479797979798, recall=0.06856140683104309, fmeasure=0.0649405045402948), mid=Score(precision=0.07404047619047624, recall=0.07834565998586904, fmeasure=0.07378408825855262), high=Score(precision=0.08367593434343441, recall=0.08932911731822547, fmeasure=0.08310757108754101)),\n",
              " 'rougeLsum': AggregateScore(low=Score(precision=0.06494762626262629, recall=0.06790697832761496, fmeasure=0.0643920145799881), mid=Score(precision=0.07385501443001452, recall=0.07836152198764436, fmeasure=0.07368450130117235), high=Score(precision=0.08281445707070718, recall=0.08833422998505636, fmeasure=0.08287083779747785))}"
            ]
          },
          "metadata": {
            "tags": []
          },
          "execution_count": 326
        }
      ]
    },
    {
      "cell_type": "code",
      "metadata": {
        "id": "551-ljeHNabk"
      },
      "source": [
        "# Cumulative One shot ROUGE Scores\n",
        "ada_one_score = rouge_cumulative(df_gw_article_summary_one_shot_ada)\n",
        "curie_one_score = rouge_cumulative(df_gw_curie_one)\n",
        "babbage_one_score = rouge_cumulative(df_gw_babbage_one)\n",
        "davinci_one_score = rouge_cumulative(df_gw_davinci_one)"
      ],
      "execution_count": null,
      "outputs": []
    },
    {
      "cell_type": "code",
      "metadata": {
        "colab": {
          "base_uri": "https://localhost:8080/"
        },
        "id": "BmhjyIxPNr7M",
        "outputId": "cd2b101e-ac97-4ef2-e594-944787d0de26"
      },
      "source": [
        "ada_one_score"
      ],
      "execution_count": null,
      "outputs": [
        {
          "output_type": "execute_result",
          "data": {
            "text/plain": [
              "{'rouge1': AggregateScore(low=Score(precision=0.07121676587301586, recall=0.05970950527177498, fmeasure=0.06284019584388771), mid=Score(precision=0.08085555555555556, recall=0.0679577575932839, fmeasure=0.07140692832067845), high=Score(precision=0.09162132936507945, recall=0.07736218899521538, fmeasure=0.08115584491708043)),\n",
              " 'rouge2': AggregateScore(low=Score(precision=0.008232499999999997, recall=0.007111371961371961, fmeasure=0.007358972189661046), mid=Score(precision=0.012339285714285716, recall=0.010724264624264623, fmeasure=0.011059780862412442), high=Score(precision=0.016959702380952388, recall=0.014830548756798753, fmeasure=0.014980747144582284)),\n",
              " 'rougeL': AggregateScore(low=Score(precision=0.06797720238095238, recall=0.05735169056090107, fmeasure=0.05996410121463336), mid=Score(precision=0.07770039682539687, recall=0.06547860582400056, fmeasure=0.06869956075218554), high=Score(precision=0.08727595238095247, recall=0.07415567921844235, fmeasure=0.07719939162257104)),\n",
              " 'rougeLsum': AggregateScore(low=Score(precision=0.06712696428571423, recall=0.05653437236739863, fmeasure=0.059240160406466055), mid=Score(precision=0.07788849206349208, recall=0.06570013911527066, fmeasure=0.0688419011372807), high=Score(precision=0.08803047619047624, recall=0.07428233134555505, fmeasure=0.07741894606713813))}"
            ]
          },
          "metadata": {
            "tags": []
          },
          "execution_count": 375
        }
      ]
    },
    {
      "cell_type": "code",
      "metadata": {
        "colab": {
          "base_uri": "https://localhost:8080/"
        },
        "id": "QCyt-96dNtpm",
        "outputId": "d0af0b72-3ef7-429b-d20f-aa49b11aabc7"
      },
      "source": [
        "babbage_one_score"
      ],
      "execution_count": null,
      "outputs": [
        {
          "output_type": "execute_result",
          "data": {
            "text/plain": [
              "{'rouge1': AggregateScore(low=Score(precision=0.08591658730158738, recall=0.07172636679475497, fmeasure=0.07566322787621745), mid=Score(precision=0.09712936507936516, recall=0.0819492341378952, fmeasure=0.08592352725962499), high=Score(precision=0.10887765873015885, recall=0.09336297112201543, fmeasure=0.09694370509441792)),\n",
              " 'rouge2': AggregateScore(low=Score(precision=0.014440119047619056, recall=0.011894063159063165, fmeasure=0.012571391981771238), mid=Score(precision=0.020522619047619046, recall=0.017510260295260295, fmeasure=0.018228672280924355), high=Score(precision=0.026758749999999987, recall=0.023441224386724382, fmeasure=0.02404074913451672)),\n",
              " 'rougeL': AggregateScore(low=Score(precision=0.07933333333333335, recall=0.0666396071839667, fmeasure=0.07012005317566722), mid=Score(precision=0.09075555555555562, recall=0.07665272827447751, fmeasure=0.08033736907327221), high=Score(precision=0.10326676587301602, recall=0.08778573222615033, fmeasure=0.09078310757090048)),\n",
              " 'rougeLsum': AggregateScore(low=Score(precision=0.08001821428571435, recall=0.06672467641319806, fmeasure=0.07086106824356754), mid=Score(precision=0.09124246031746042, recall=0.07695286528916565, fmeasure=0.0806485029516581), high=Score(precision=0.10359517857142865, recall=0.08790357221102774, fmeasure=0.09133104824075144))}"
            ]
          },
          "metadata": {
            "tags": []
          },
          "execution_count": 377
        }
      ]
    },
    {
      "cell_type": "code",
      "metadata": {
        "colab": {
          "base_uri": "https://localhost:8080/"
        },
        "id": "oU8o4ZL_Ns0E",
        "outputId": "fbe179ea-94c4-4237-a4ec-8ca48c1d9c96"
      },
      "source": [
        "curie_one_score"
      ],
      "execution_count": null,
      "outputs": [
        {
          "output_type": "execute_result",
          "data": {
            "text/plain": [
              "{'rouge1': AggregateScore(low=Score(precision=0.13185628427128443, recall=0.13364565381599847, fmeasure=0.12919825394997533), mid=Score(precision=0.14520826118326133, recall=0.14938301944873172, fmeasure=0.1427753030096029), high=Score(precision=0.15980161075036087, recall=0.16521195385368015, fmeasure=0.15644049270899074)),\n",
              " 'rouge2': AggregateScore(low=Score(precision=0.03017417027417027, recall=0.03186492153679653, fmeasure=0.029405099652277094), mid=Score(precision=0.03831998556998554, recall=0.04073250777000775, fmeasure=0.03751272381131378), high=Score(precision=0.047204825036075, recall=0.05090641774891776, fmeasure=0.04641077751620133)),\n",
              " 'rougeL': AggregateScore(low=Score(precision=0.12095389790764813, recall=0.12433847445725953, fmeasure=0.11894174964516363), mid=Score(precision=0.13480533910533937, recall=0.13895446548635426, fmeasure=0.13223908220218308), high=Score(precision=0.14835092532467548, recall=0.154038261074581, fmeasure=0.14543182953807154)),\n",
              " 'rougeLsum': AggregateScore(low=Score(precision=0.1215899693362196, recall=0.12469034078430188, fmeasure=0.11887344101386739), mid=Score(precision=0.13470468975469, recall=0.1389004545806793, fmeasure=0.13224999818650307), high=Score(precision=0.14763246753246773, recall=0.15276457098220855, fmeasure=0.14465129499043505))}"
            ]
          },
          "metadata": {
            "tags": []
          },
          "execution_count": 376
        }
      ]
    },
    {
      "cell_type": "code",
      "metadata": {
        "colab": {
          "base_uri": "https://localhost:8080/"
        },
        "id": "4U8fm99wNudJ",
        "outputId": "63f42e7e-0e31-46a4-d565-0002fa2f33c3"
      },
      "source": [
        "davinci_one_score"
      ],
      "execution_count": null,
      "outputs": [
        {
          "output_type": "execute_result",
          "data": {
            "text/plain": [
              "{'rouge1': AggregateScore(low=Score(precision=0.19439288870851373, recall=0.1677177239513152, fmeasure=0.17371028962296609), mid=Score(precision=0.22284072871572874, recall=0.19496426575015974, fmeasure=0.200703678198568), high=Score(precision=0.25246266684704183, recall=0.22239739396095826, fmeasure=0.22827639990505974)),\n",
              " 'rouge2': AggregateScore(low=Score(precision=0.04066929563492064, recall=0.03572181422743924, fmeasure=0.03649509216493376), mid=Score(precision=0.05784027777777776, recall=0.05080100316350317, fmeasure=0.052177746335901845), high=Score(precision=0.0766893353174603, recall=0.06957724254911753, fmeasure=0.07024675097915312)),\n",
              " 'rougeL': AggregateScore(low=Score(precision=0.1720338338744588, recall=0.15072868016379035, fmeasure=0.1548811855644093), mid=Score(precision=0.19754942279942284, recall=0.17454578466768872, fmeasure=0.17856038580386563), high=Score(precision=0.22262226280663788, recall=0.20088108283400474, fmeasure=0.20394364700973505)),\n",
              " 'rougeLsum': AggregateScore(low=Score(precision=0.17587901785714286, recall=0.15299174075945549, fmeasure=0.15804745060406328), mid=Score(precision=0.19918470418470413, recall=0.17567624040476204, fmeasure=0.18047062324220245), high=Score(precision=0.2246434974747473, recall=0.2007531776004784, fmeasure=0.2032897322288638))}"
            ]
          },
          "metadata": {
            "tags": []
          },
          "execution_count": 378
        }
      ]
    },
    {
      "cell_type": "code",
      "metadata": {
        "id": "zsiWc8acLAAT"
      },
      "source": [
        "# Cumulative Few shot ROUGE Scores\n",
        "ada_few_score = rouge_cumulative(df_gw_ada_few_ten)\n",
        "babbage_few_score = rouge_cumulative(df_gw_babbage_few_ten)\n",
        "curie_few_score = rouge_cumulative(df_gw_curie_few_ten)\n",
        "davinci_few_score = rouge_cumulative(df_gw_davinci_few_ten)"
      ],
      "execution_count": null,
      "outputs": []
    },
    {
      "cell_type": "code",
      "metadata": {
        "colab": {
          "base_uri": "https://localhost:8080/"
        },
        "id": "0jqkpCqgLQM2",
        "outputId": "86e74496-fbe7-4af2-f60d-89175873f606"
      },
      "source": [
        "ada_few_score"
      ],
      "execution_count": null,
      "outputs": [
        {
          "output_type": "execute_result",
          "data": {
            "text/plain": [
              "{'rouge1': AggregateScore(low=Score(precision=0.12307162247474736, recall=0.11253786188441754, fmeasure=0.1132908461208422), mid=Score(precision=0.14307404401154394, recall=0.13245580561079784, fmeasure=0.1323298280270752), high=Score(precision=0.16409520652958148, recall=0.1541635104258701, fmeasure=0.15283062992754418)),\n",
              " 'rouge2': AggregateScore(low=Score(precision=0.01762042297979798, recall=0.016077100503663008, fmeasure=0.016147832598258294), mid=Score(precision=0.027093434343434343, recall=0.024734650765900763, fmeasure=0.02472160697489645), high=Score(precision=0.037608603896103904, recall=0.03452229662698412, fmeasure=0.03428302581598827)),\n",
              " 'rougeL': AggregateScore(low=Score(precision=0.11758951118326114, recall=0.107500686420133, fmeasure=0.10845911373926914), mid=Score(precision=0.1354675324675324, recall=0.12569458490211194, fmeasure=0.1255651993212885), high=Score(precision=0.15536737012987, recall=0.1448856000509637, fmeasure=0.14322046514996)),\n",
              " 'rougeLsum': AggregateScore(low=Score(precision=0.11668449675324669, recall=0.10704826258193133, fmeasure=0.10781710255357994), mid=Score(precision=0.1357909451659451, recall=0.12551101498905282, fmeasure=0.12525166214653857), high=Score(precision=0.15536133207070696, recall=0.14624081119742394, fmeasure=0.14484417731218638))}"
            ]
          },
          "metadata": {
            "tags": []
          },
          "execution_count": 382
        }
      ]
    },
    {
      "cell_type": "code",
      "metadata": {
        "colab": {
          "base_uri": "https://localhost:8080/"
        },
        "id": "Ije44sM_LSIg",
        "outputId": "ba6f4f07-313e-4a41-a5f1-bcaf11619775"
      },
      "source": [
        "babbage_few_score"
      ],
      "execution_count": null,
      "outputs": [
        {
          "output_type": "execute_result",
          "data": {
            "text/plain": [
              "{'rouge1': AggregateScore(low=Score(precision=0.14086556637806627, recall=0.11905997598140587, fmeasure=0.1245779497661681), mid=Score(precision=0.16484045815295806, recall=0.13934128174027546, fmeasure=0.1446637404267127), high=Score(precision=0.1878315340909091, recall=0.1582059409942051, fmeasure=0.16268445268132667)),\n",
              " 'rouge2': AggregateScore(low=Score(precision=0.023486507936507937, recall=0.0194477773962149, fmeasure=0.020490474618821305), mid=Score(precision=0.03464484126984126, recall=0.029421176046176042, fmeasure=0.03030284849533739), high=Score(precision=0.04798814484126984, recall=0.04087589198995449, fmeasure=0.041798802779420954)),\n",
              " 'rougeL': AggregateScore(low=Score(precision=0.13510006313131306, recall=0.11379035778785185, fmeasure=0.11880018429053156), mid=Score(precision=0.15669805194805186, recall=0.13169370165867844, fmeasure=0.1371050692180173), high=Score(precision=0.18074550414862917, recall=0.15295854343884524, fmeasure=0.15688258200582153)),\n",
              " 'rougeLsum': AggregateScore(low=Score(precision=0.13381905212842707, recall=0.11237208963314801, fmeasure=0.11750238683630819), mid=Score(precision=0.15715440115440105, recall=0.13219412385859744, fmeasure=0.13757245145118188), high=Score(precision=0.1785086625180375, recall=0.1524301143752188, fmeasure=0.15634194237309665))}"
            ]
          },
          "metadata": {
            "tags": []
          },
          "execution_count": 384
        }
      ]
    },
    {
      "cell_type": "code",
      "metadata": {
        "colab": {
          "base_uri": "https://localhost:8080/"
        },
        "id": "tTTthJXcLRNm",
        "outputId": "46ce3757-ae5e-45f4-bdb5-c8b0c4c643a6"
      },
      "source": [
        "curie_few_score"
      ],
      "execution_count": null,
      "outputs": [
        {
          "output_type": "execute_result",
          "data": {
            "text/plain": [
              "{'rouge1': AggregateScore(low=Score(precision=0.18327499098124095, recall=0.15051876204559536, fmeasure=0.15942112424331606), mid=Score(precision=0.2102632575757576, recall=0.17443094258467706, fmeasure=0.18339826032523904), high=Score(precision=0.23830612824675343, recall=0.19962779295760144, fmeasure=0.2084747897465015)),\n",
              " 'rouge2': AggregateScore(low=Score(precision=0.04008288690476191, recall=0.03270491439116438, fmeasure=0.034332870833105385), mid=Score(precision=0.055795634920634905, recall=0.04650333832833832, fmeasure=0.04767429029444748), high=Score(precision=0.07147445436507933, recall=0.06099285589410587, fmeasure=0.06172846030856678)),\n",
              " 'rougeL': AggregateScore(low=Score(precision=0.1638027462121211, recall=0.1336057611742402, fmeasure=0.14203236667003236), mid=Score(precision=0.18819200937950936, recall=0.15566200733605912, fmeasure=0.1638867914537347), high=Score(precision=0.21269971590909093, recall=0.17694707507082696, fmeasure=0.18514519893467732)),\n",
              " 'rougeLsum': AggregateScore(low=Score(precision=0.1646413510101009, recall=0.13502601114861654, fmeasure=0.1435860980725119), mid=Score(precision=0.18782512626262626, recall=0.15561515127459397, fmeasure=0.16366808770428892), high=Score(precision=0.21289344787157277, recall=0.17783264655988137, fmeasure=0.18506070913310826))}"
            ]
          },
          "metadata": {
            "tags": []
          },
          "execution_count": 383
        }
      ]
    },
    {
      "cell_type": "code",
      "metadata": {
        "colab": {
          "base_uri": "https://localhost:8080/"
        },
        "id": "RlvE7NjoLS-9",
        "outputId": "a9524b99-7f52-454d-ac9c-1f76dfc8c68f"
      },
      "source": [
        "davinci_few_score"
      ],
      "execution_count": null,
      "outputs": [
        {
          "output_type": "execute_result",
          "data": {
            "text/plain": [
              "{'rouge1': AggregateScore(low=Score(precision=0.25499090007215, recall=0.2183917628574555, fmeasure=0.2282136193696111), mid=Score(precision=0.2948735569985569, recall=0.2580829826348402, fmeasure=0.2663181623319023), high=Score(precision=0.33253313492063485, recall=0.29525753876111843, fmeasure=0.3037840587085624)),\n",
              " 'rouge2': AggregateScore(low=Score(precision=0.06166061507936509, recall=0.05498129786879787, fmeasure=0.05707867303190444), mid=Score(precision=0.08658531746031747, recall=0.07893020868020868, fmeasure=0.08083974191443231), high=Score(precision=0.1140650793650793, recall=0.10696925713175709, fmeasure=0.10813547077707288)),\n",
              " 'rougeL': AggregateScore(low=Score(precision=0.23555386904761894, recall=0.20261759643650118, fmeasure=0.21168444357395483), mid=Score(precision=0.26755591630591613, recall=0.23495960405693372, fmeasure=0.24217246504635787), high=Score(precision=0.305259226190476, recall=0.2719808262858573, fmeasure=0.2792343796999018)),\n",
              " 'rougeLsum': AggregateScore(low=Score(precision=0.23299576118326112, recall=0.20141683037249983, fmeasure=0.21008382043819157), mid=Score(precision=0.2679487734487733, recall=0.23415136995787145, fmeasure=0.24261641851515303), high=Score(precision=0.3029025072150071, recall=0.2717815149923605, fmeasure=0.2774959793370842))}"
            ]
          },
          "metadata": {
            "tags": []
          },
          "execution_count": 385
        }
      ]
    },
    {
      "cell_type": "markdown",
      "metadata": {
        "id": "10RNoD1wFqg3"
      },
      "source": [
        "### Testing Different Strategies\n",
        "\n",
        "OpenAI gives examples in which you suffix your text with `tl;dr:`, `One-sentence summary:`, and `I rephrased this for my daughter, in plain language a second grader can understand:` to induce summarization\n",
        "\n",
        "We compare the ROUGE scores of these and a few more strategies.\n",
        "\n",
        "These tests are done using `ada` as this most preserves token use.\n",
        "\n",
        "We didn't find much of a difference between postfixing inputs with \"tl;dr:\" and using \"article:... summary:\"\n",
        "\n",
        "We also check qualitatively whether GPT can respond flexibly for demands of more/less abstractive/extractive summaries, and correctly interpret parameters like word count, sentence count\n",
        "\n",
        "The latter few tests are postfixing inputs with \"one sentence summary:\" and \"two sentence summary:\" to see if this induces any different behavior by the model. I graph the number of sentences spit out by the model for these tests to see. I do the same for words. "
      ]
    },
    {
      "cell_type": "markdown",
      "metadata": {
        "id": "qvZgEfR_nqw4"
      },
      "source": [
        "**TL:DR;**"
      ]
    },
    {
      "cell_type": "code",
      "metadata": {
        "id": "dH9cm86RIcVr"
      },
      "source": [
        "# tldr ada zero-shot\n",
        "df_gw_tldr = gw_wrapper(test_GW, test_limit=500, strategy=\"tldr\", engine=\"ada\")"
      ],
      "execution_count": null,
      "outputs": []
    },
    {
      "cell_type": "code",
      "metadata": {
        "id": "YWuiEBfgbAh4"
      },
      "source": [
        "# export\n",
        "df_gw_tldr.to_csv('df_gw_tldr.csv')"
      ],
      "execution_count": null,
      "outputs": []
    },
    {
      "cell_type": "code",
      "metadata": {
        "colab": {
          "base_uri": "https://localhost:8080/",
          "height": 282
        },
        "id": "4tTWJUXGmbtf",
        "outputId": "163a52c8-36fe-42e0-a1b3-c98085c6772f"
      },
      "source": [
        "# tldr ROUGE1\n",
        "newSeries = df_gw_tldr[\"score\"].apply(lambda x: x['rouge1'][1])\n",
        "newSeries.hist(bins=100)"
      ],
      "execution_count": null,
      "outputs": [
        {
          "output_type": "execute_result",
          "data": {
            "text/plain": [
              "<matplotlib.axes._subplots.AxesSubplot at 0x7f4f301ee7b8>"
            ]
          },
          "metadata": {
            "tags": []
          },
          "execution_count": 214
        },
        {
          "output_type": "display_data",
          "data": {
            "image/png": "[encoded data removed]",
            "text/plain": [
              "<Figure size 432x288 with 1 Axes>"
            ]
          },
          "metadata": {
            "tags": [],
            "needs_background": "light"
          }
        }
      ]
    },
    {
      "cell_type": "code",
      "metadata": {
        "colab": {
          "base_uri": "https://localhost:8080/",
          "height": 282
        },
        "id": "KF4jClQxnO6C",
        "outputId": "00c1d858-2951-4a34-dc6c-de5a5637267c"
      },
      "source": [
        "# tldr ROUGEL\n",
        "newSeries = df_gw_tldr[\"score\"].apply(lambda x: x['rougeL'][1])\n",
        "newSeries.hist(bins=100)"
      ],
      "execution_count": null,
      "outputs": [
        {
          "output_type": "execute_result",
          "data": {
            "text/plain": [
              "<matplotlib.axes._subplots.AxesSubplot at 0x7f4f301aa780>"
            ]
          },
          "metadata": {
            "tags": []
          },
          "execution_count": 215
        },
        {
          "output_type": "display_data",
          "data": {
            "image/png": "[encoded data removed]",
            "text/plain": [
              "<Figure size 432x288 with 1 Axes>"
            ]
          },
          "metadata": {
            "tags": [],
            "needs_background": "light"
          }
        }
      ]
    },
    {
      "cell_type": "code",
      "metadata": {
        "id": "tNFbZ77QvM9O"
      },
      "source": [
        "# TLDR One-shot Ada\n",
        "df_gw_tldr_one_shot_ada = gw_one_shot_wrapper(test_GW, training_data=train_GW, test_limit=500, engine=\"ada\", strategy=\"tldr\")"
      ],
      "execution_count": null,
      "outputs": []
    },
    {
      "cell_type": "code",
      "metadata": {
        "id": "1A-vl1BKxykn"
      },
      "source": [
        "df_gw_tldr_one_shot_ada.to_csv('df_gw_tldr_one_shot_ada.csv')"
      ],
      "execution_count": null,
      "outputs": []
    },
    {
      "cell_type": "code",
      "metadata": {
        "colab": {
          "base_uri": "https://localhost:8080/",
          "height": 282
        },
        "id": "vqI4RESKxlms",
        "outputId": "4f99f0ce-a3c2-4a47-b7f4-6f7661a5beee"
      },
      "source": [
        "# tldr one shot ROUGE1\n",
        "newSeries = df_gw_tldr_one_shot_ada[\"score\"].apply(lambda x: x['rouge1'][1])\n",
        "newSeries.hist(bins=100)"
      ],
      "execution_count": null,
      "outputs": [
        {
          "output_type": "execute_result",
          "data": {
            "text/plain": [
              "<matplotlib.axes._subplots.AxesSubplot at 0x7f4eeefaf128>"
            ]
          },
          "metadata": {
            "tags": []
          },
          "execution_count": 300
        },
        {
          "output_type": "display_data",
          "data": {
            "image/png": "[encoded data removed]",
            "text/plain": [
              "<Figure size 432x288 with 1 Axes>"
            ]
          },
          "metadata": {
            "tags": [],
            "needs_background": "light"
          }
        }
      ]
    },
    {
      "cell_type": "markdown",
      "metadata": {
        "id": "8ZhYdWz2nusp"
      },
      "source": [
        "**Article: Summary:**"
      ]
    },
    {
      "cell_type": "code",
      "metadata": {
        "id": "x2V6KlVXQAu4"
      },
      "source": [
        "# article-summary zero shot\n",
        "df_gw_article_summary_zero = gw_wrapper(test_GW, test_limit=500, strategy=\"article-summary\", engine=\"ada\")"
      ],
      "execution_count": null,
      "outputs": []
    },
    {
      "cell_type": "code",
      "metadata": {
        "id": "JC03rOBTckgG"
      },
      "source": [
        "# Export davinci as csv\n",
        "df_gw_article_summary_zero.to_csv('df_gw_article_summary_zero.csv')"
      ],
      "execution_count": null,
      "outputs": []
    },
    {
      "cell_type": "code",
      "metadata": {
        "colab": {
          "base_uri": "https://localhost:8080/",
          "height": 282
        },
        "id": "i1IRBsganXPW",
        "outputId": "1cb992a7-6ca1-4806-b4da-d3cb96ad676f"
      },
      "source": [
        "# article: summary: ROUGE1\n",
        "newSeries = df_gw_article_summary_zero[\"score\"].apply(lambda x: x['rouge1'][1])\n",
        "newSeries.hist(bins=100)"
      ],
      "execution_count": null,
      "outputs": [
        {
          "output_type": "execute_result",
          "data": {
            "text/plain": [
              "<matplotlib.axes._subplots.AxesSubplot at 0x7f4ef02aab38>"
            ]
          },
          "metadata": {
            "tags": []
          },
          "execution_count": 244
        },
        {
          "output_type": "display_data",
          "data": {
            "image/png": "[encoded data removed]",
            "text/plain": [
              "<Figure size 432x288 with 1 Axes>"
            ]
          },
          "metadata": {
            "tags": [],
            "needs_background": "light"
          }
        }
      ]
    },
    {
      "cell_type": "code",
      "metadata": {
        "colab": {
          "base_uri": "https://localhost:8080/",
          "height": 282
        },
        "id": "-ASPj7MQngPx",
        "outputId": "a8ce316b-7b34-44b4-cc90-786e2594bf74"
      },
      "source": [
        "# article: summary: ROUGE1\n",
        "newSeries = df_gw_article_summary_zero[\"score\"].apply(lambda x: x['rougeL'][1])\n",
        "newSeries.hist(bins=100)"
      ],
      "execution_count": null,
      "outputs": [
        {
          "output_type": "execute_result",
          "data": {
            "text/plain": [
              "<matplotlib.axes._subplots.AxesSubplot at 0x7f4eefe2fa90>"
            ]
          },
          "metadata": {
            "tags": []
          },
          "execution_count": 245
        },
        {
          "output_type": "display_data",
          "data": {
            "image/png": "[encoded data removed]",
            "text/plain": [
              "<Figure size 432x288 with 1 Axes>"
            ]
          },
          "metadata": {
            "tags": [],
            "needs_background": "light"
          }
        }
      ]
    },
    {
      "cell_type": "code",
      "metadata": {
        "id": "LDSqQc8yy147"
      },
      "source": [
        "# article: summary: One-shot Ada\n",
        "df_gw_article_summary_one_shot_ada = gw_one_shot_wrapper(test_GW, training_data=train_GW, test_limit=500, engine=\"ada\", strategy=\"article-summary\")"
      ],
      "execution_count": null,
      "outputs": []
    },
    {
      "cell_type": "code",
      "metadata": {
        "id": "l9Vq-ffBy4zh"
      },
      "source": [
        "df_gw_article_summary_one_shot_ada.to_csv('df_gw_article_summary_one_shot_ada.csv')"
      ],
      "execution_count": null,
      "outputs": []
    },
    {
      "cell_type": "code",
      "metadata": {
        "colab": {
          "base_uri": "https://localhost:8080/",
          "height": 282
        },
        "id": "IDJZ4UKS0Ltm",
        "outputId": "2e991e4f-20d6-47b7-ce6c-58869d3b066b"
      },
      "source": [
        "# article: summary: ROUGE1\n",
        "newSeries = df_gw_article_summary_one_shot_ada[\"score\"].apply(lambda x: x['rouge1'][1])\n",
        "newSeries.hist(bins=100)"
      ],
      "execution_count": null,
      "outputs": [
        {
          "output_type": "execute_result",
          "data": {
            "text/plain": [
              "<matplotlib.axes._subplots.AxesSubplot at 0x7f4eeee9a860>"
            ]
          },
          "metadata": {
            "tags": []
          },
          "execution_count": 306
        },
        {
          "output_type": "display_data",
          "data": {
            "image/png": "[encoded data removed]",
            "text/plain": [
              "<Figure size 432x288 with 1 Axes>"
            ]
          },
          "metadata": {
            "tags": [],
            "needs_background": "light"
          }
        }
      ]
    },
    {
      "cell_type": "markdown",
      "metadata": {
        "id": "p33MV1YBn_xQ"
      },
      "source": [
        "**Controlling sentence count**"
      ]
    },
    {
      "cell_type": "code",
      "metadata": {
        "id": "hXoKVly8QDwC"
      },
      "source": [
        "# (One, Two) sentence zero-shot summary\n",
        "df_gw_one_sentence_zero = gw_wrapper(test_GW, test_limit=500, max_tokens=32,strategy=\"custom\", engine=\"ada\", customStrategy=(lambda input: input + \"\\n\\nOne sentence summary:\"))"
      ],
      "execution_count": null,
      "outputs": []
    },
    {
      "cell_type": "code",
      "metadata": {
        "id": "EFVI_Anme1A9"
      },
      "source": [
        "df_gw_one_sentence_zero.to_csv('df_gw_one_sentence_zero.csv')"
      ],
      "execution_count": null,
      "outputs": []
    },
    {
      "cell_type": "code",
      "metadata": {
        "id": "fpoccyu0eyAB"
      },
      "source": [
        "df_gw_two_sentence_zero = gw_wrapper(test_GW, test_limit=500, max_tokens=32, strategy=\"custom\", engine=\"ada\", customStrategy=(lambda input: input + \"\\n\\nTwo sentence summary:\"))"
      ],
      "execution_count": null,
      "outputs": []
    },
    {
      "cell_type": "code",
      "metadata": {
        "id": "rgycyKFXlG5Y"
      },
      "source": [
        "df_gw_two_sentence_zero.to_csv('df_gw_two_sentence_zero.csv')"
      ],
      "execution_count": null,
      "outputs": []
    },
    {
      "cell_type": "code",
      "metadata": {
        "id": "ogxJUzSTmIgq"
      },
      "source": [
        "df_gw_numbertwo_sentence_zero = gw_wrapper(test_GW, test_limit=500, max_tokens=32, strategy=\"custom\", engine=\"ada\", customStrategy=(lambda input: input + \"\\n\\n2 sentence summary:\"))"
      ],
      "execution_count": null,
      "outputs": []
    },
    {
      "cell_type": "code",
      "metadata": {
        "id": "PincAKglpNXA"
      },
      "source": [
        "df_gw_numbertwo_sentence_zero.to_csv('df_gw_numbertwo_sentence_zero.csv')"
      ],
      "execution_count": null,
      "outputs": []
    },
    {
      "cell_type": "code",
      "metadata": {
        "colab": {
          "base_uri": "https://localhost:8080/",
          "height": 282
        },
        "id": "ugfjXvTDkI5B",
        "outputId": "41a6038e-c621-45b9-f0f1-022c7f6b5bdf"
      },
      "source": [
        "# How many sentences is each response?\n",
        "newSeries = df_gw_one_sentence_zero[\"predictions\"].apply(lambda x: len(tokenize.sent_tokenize(x)))\n",
        "newSeries.hist()"
      ],
      "execution_count": null,
      "outputs": [
        {
          "output_type": "execute_result",
          "data": {
            "text/plain": [
              "<matplotlib.axes._subplots.AxesSubplot at 0x7f4eef7ccc18>"
            ]
          },
          "metadata": {
            "tags": []
          },
          "execution_count": 268
        },
        {
          "output_type": "display_data",
          "data": {
            "image/png": "[encoded data removed]",
            "text/plain": [
              "<Figure size 432x288 with 1 Axes>"
            ]
          },
          "metadata": {
            "tags": [],
            "needs_background": "light"
          }
        }
      ]
    },
    {
      "cell_type": "code",
      "metadata": {
        "colab": {
          "base_uri": "https://localhost:8080/",
          "height": 282
        },
        "id": "3vdnieyxlhRh",
        "outputId": "05c8ee3a-f30f-4828-bdc0-fabb95656ed4"
      },
      "source": [
        "newSeries = df_gw_two_sentence_zero[\"predictions\"].apply(lambda x: len(tokenize.sent_tokenize(x)))\n",
        "newSeries.hist()"
      ],
      "execution_count": null,
      "outputs": [
        {
          "output_type": "execute_result",
          "data": {
            "text/plain": [
              "<matplotlib.axes._subplots.AxesSubplot at 0x7f4eefb69048>"
            ]
          },
          "metadata": {
            "tags": []
          },
          "execution_count": 271
        },
        {
          "output_type": "display_data",
          "data": {
            "image/png": "[encoded data removed]",
            "text/plain": [
              "<Figure size 432x288 with 1 Axes>"
            ]
          },
          "metadata": {
            "tags": [],
            "needs_background": "light"
          }
        }
      ]
    },
    {
      "cell_type": "code",
      "metadata": {
        "colab": {
          "base_uri": "https://localhost:8080/",
          "height": 282
        },
        "id": "eCxPGt0CoRRH",
        "outputId": "9a9a0b0f-a22f-4574-8617-3f67d7316914"
      },
      "source": [
        "newSeries = df_gw_numbertwo_sentence_zero[\"predictions\"].apply(lambda x: len(tokenize.sent_tokenize(x)))\n",
        "newSeries.hist()"
      ],
      "execution_count": null,
      "outputs": [
        {
          "output_type": "execute_result",
          "data": {
            "text/plain": [
              "<matplotlib.axes._subplots.AxesSubplot at 0x7f4eef682198>"
            ]
          },
          "metadata": {
            "tags": []
          },
          "execution_count": 273
        },
        {
          "output_type": "display_data",
          "data": {
            "image/png": "[encoded data removed]",
            "text/plain": [
              "<Figure size 432x288 with 1 Axes>"
            ]
          },
          "metadata": {
            "tags": [],
            "needs_background": "light"
          }
        }
      ]
    },
    {
      "cell_type": "markdown",
      "metadata": {
        "id": "ZyyeMa0ZoE1B"
      },
      "source": [
        "**Controlling word count**"
      ]
    },
    {
      "cell_type": "code",
      "metadata": {
        "id": "4IAwwwwzQSgY"
      },
      "source": [
        "# X word summary\n",
        "df_gw_five_word_zero = gw_wrapper(test_GW, test_limit=500, max_tokens=32,strategy=\"custom\", engine=\"ada\", customStrategy=(lambda input: input + \"\\n\\nFive word summary:\"))"
      ],
      "execution_count": null,
      "outputs": []
    },
    {
      "cell_type": "code",
      "metadata": {
        "id": "44ggZ4i6qSdL"
      },
      "source": [
        "df_gw_five_word_zero.to_csv('df_gw_five_word_zero.csv')"
      ],
      "execution_count": null,
      "outputs": []
    },
    {
      "cell_type": "code",
      "metadata": {
        "id": "pq7l-jG-qICk"
      },
      "source": [
        "df_gw_ten_word_zero = gw_wrapper(test_GW, test_limit=500, max_tokens=32,strategy=\"custom\", engine=\"ada\", customStrategy=(lambda input: input + \"\\n\\nTen word summary:\"))"
      ],
      "execution_count": null,
      "outputs": []
    },
    {
      "cell_type": "code",
      "metadata": {
        "id": "LiOZTtVaqiTA"
      },
      "source": [
        "df_gw_ten_word_zero.to_csv('df_gw_ten_word_zero.csv')"
      ],
      "execution_count": null,
      "outputs": []
    },
    {
      "cell_type": "code",
      "metadata": {
        "colab": {
          "base_uri": "https://localhost:8080/",
          "height": 282
        },
        "id": "IUXtplOUSeAB",
        "outputId": "7c3b46d7-9590-4d73-a051-0f4d8e74893f"
      },
      "source": [
        "# How many words is each response?\n",
        "newSeries = df_gw_five_word_zero[\"predictions\"].apply(lambda x: len(x.split()))\n",
        "newSeries.hist()"
      ],
      "execution_count": null,
      "outputs": [
        {
          "output_type": "execute_result",
          "data": {
            "text/plain": [
              "<matplotlib.axes._subplots.AxesSubplot at 0x7f4eef56ea58>"
            ]
          },
          "metadata": {
            "tags": []
          },
          "execution_count": 277
        },
        {
          "output_type": "display_data",
          "data": {
            "image/png": "[encoded data removed]",
            "text/plain": [
              "<Figure size 432x288 with 1 Axes>"
            ]
          },
          "metadata": {
            "tags": [],
            "needs_background": "light"
          }
        }
      ]
    },
    {
      "cell_type": "code",
      "metadata": {
        "colab": {
          "base_uri": "https://localhost:8080/",
          "height": 282
        },
        "id": "GT_rqqTamCXp",
        "outputId": "95c13d1d-00df-4b44-989b-cf37073a5481"
      },
      "source": [
        "newSeries = df_gw_ten_word_zero[\"predictions\"].apply(lambda x: len(x.split()))\n",
        "newSeries.hist()"
      ],
      "execution_count": null,
      "outputs": [
        {
          "output_type": "execute_result",
          "data": {
            "text/plain": [
              "<matplotlib.axes._subplots.AxesSubplot at 0x7f4eef4b82b0>"
            ]
          },
          "metadata": {
            "tags": []
          },
          "execution_count": 280
        },
        {
          "output_type": "display_data",
          "data": {
            "image/png": "[encoded data removed]",
            "text/plain": [
              "<Figure size 432x288 with 1 Axes>"
            ]
          },
          "metadata": {
            "tags": [],
            "needs_background": "light"
          }
        }
      ]
    },
    {
      "cell_type": "code",
      "metadata": {
        "id": "gNHukxQ2mjvd"
      },
      "source": [
        "# Cumulative ROUGE Scores\n",
        "# Table\n",
        "rouge_cumulative(df_gw_tldr)\n",
        "rouge_cumulative(df_gw_article_summary)\n",
        "scores = []\n",
        "df = pd.DataFrame(d, columns=[\"ROUGE1\", \"ROUGEL\"])"
      ],
      "execution_count": null,
      "outputs": []
    },
    {
      "cell_type": "markdown",
      "metadata": {
        "id": "sLEKLymzIL9R"
      },
      "source": [
        "We also compares the scores for the zero-shot and one-shot variants of some of these strategies. In the one-shot variant, we add to the input an example of an article, summary pair."
      ]
    }
  ]
}